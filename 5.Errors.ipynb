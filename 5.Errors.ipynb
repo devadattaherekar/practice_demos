{
 "cells": [
  {
   "cell_type": "code",
   "execution_count": null,
   "id": "0da63bd0-ee04-43bb-a2ff-5ccf46c988f9",
   "metadata": {},
   "outputs": [],
   "source": [
    "# error handling\n",
    "# 1. syntax errors  - compilers/iterpreters \n",
    "# 2. logical errors - debug / trace line by line  / logging / unit testing (assertions) / type hinting or type checking or data validation\n",
    "# 3. Runtime errors - stackoverflow / bad recursion\n",
    "# 4. Exceptions - try: except: else: finally: "
   ]
  },
  {
   "cell_type": "code",
   "execution_count": null,
   "id": "8fa6d584-deb4-4f51-8dd0-ed13e3448a4b",
   "metadata": {},
   "outputs": [],
   "source": [
    "print(hello)"
   ]
  },
  {
   "cell_type": "code",
   "execution_count": null,
   "id": "54f0c0bc-f6d1-4e13-a990-ce848c4a382b",
   "metadata": {},
   "outputs": [],
   "source": [
    "greet=\"hello\"\n",
    "del greet\n",
    "print(greet)"
   ]
  },
  {
   "cell_type": "code",
   "execution_count": null,
   "id": "2f636084-7836-4f26-805c-a6185fdd9094",
   "metadata": {},
   "outputs": [],
   "source": [
    "list1=[10,20]\n",
    "print(list1[2])"
   ]
  },
  {
   "cell_type": "code",
   "execution_count": null,
   "id": "e2272d42-3d25-47b0-90df-1cb6cc1c304a",
   "metadata": {},
   "outputs": [],
   "source": [
    "tuple1=(10,20)\n",
    "print(tuple1[2])"
   ]
  },
  {
   "cell_type": "code",
   "execution_count": null,
   "id": "3c97cff1-1e26-4d73-8825-033245eef487",
   "metadata": {},
   "outputs": [],
   "source": [
    "set1={\"sachin\"}\n",
    "set1.remove(\"s\")\n",
    "#print(dir(set1))"
   ]
  },
  {
   "cell_type": "code",
   "execution_count": null,
   "id": "369e8b21-f747-4a50-853f-d0227528c5e5",
   "metadata": {},
   "outputs": [],
   "source": [
    "dream11={\"sachin\":10}\n",
    "print(dream11[10])"
   ]
  },
  {
   "cell_type": "code",
   "execution_count": null,
   "id": "4357df04-653d-41c3-a87e-1516d4337df4",
   "metadata": {},
   "outputs": [],
   "source": [
    "print(\"sachin\"+10)"
   ]
  },
  {
   "cell_type": "code",
   "execution_count": null,
   "id": "32176461-50b2-4e5a-a1ac-0769f38ee601",
   "metadata": {},
   "outputs": [],
   "source": [
    "print(int(\"sachin\"))"
   ]
  },
  {
   "cell_type": "code",
   "execution_count": null,
   "id": "f174a3b8-4741-4093-b999-bb7cf72749dc",
   "metadata": {},
   "outputs": [],
   "source": [
    "def foo():\n",
    "print(\"foo called\")"
   ]
  },
  {
   "cell_type": "code",
   "execution_count": null,
   "id": "9e41a3b4-41d2-439d-a59e-144ef0d33cda",
   "metadata": {},
   "outputs": [],
   "source": [
    "print(10/0)"
   ]
  },
  {
   "cell_type": "code",
   "execution_count": null,
   "id": "80c4eb94-e798-43a9-9243-0804e7fb4438",
   "metadata": {},
   "outputs": [],
   "source": [
    "dream11={\"sachin\":10}\n",
    "dream11.append(100)"
   ]
  },
  {
   "cell_type": "code",
   "execution_count": 9,
   "id": "f4f882dd-479d-49d4-bdd1-58ea3c7bcdd8",
   "metadata": {},
   "outputs": [
    {
     "name": "stdin",
     "output_type": "stream",
     "text": [
      "Enter integer value 10\n"
     ]
    },
    {
     "name": "stdout",
     "output_type": "stream",
     "text": [
      "[Errno 2] No such file or directory: 'filenotpresent.txt'\n",
      "finally Will always executed\n"
     ]
    }
   ],
   "source": [
    "# Every try should have atlease one except \n",
    "try:\n",
    "    value=int(input(\"Enter integer value\"))\n",
    "    file=open(\"filenotpresent.txt\",\"r\")\n",
    "except ValueError as errmsg:\n",
    "    print(errmsg)\n",
    "except FileNotFoundError as errmsg:\n",
    "    print(errmsg)\n",
    "except:\n",
    "    print(\"Exception is raised!\")\n",
    "else:\n",
    "    print(f\"You have entered {value}\")\n",
    "    print(file.read())\n",
    "    file.close()\n",
    "finally:\n",
    "    print(\"finally Will always executed\")"
   ]
  },
  {
   "cell_type": "code",
   "execution_count": 21,
   "id": "f5a6b2f6-068e-4571-aeeb-e5499cb5360d",
   "metadata": {},
   "outputs": [
    {
     "name": "stdin",
     "output_type": "stream",
     "text": [
      "Enter integer value 10\n"
     ]
    },
    {
     "name": "stdout",
     "output_type": "stream",
     "text": [
      "division by zero\n"
     ]
    }
   ],
   "source": [
    "try:\n",
    "    value=int(input(\"Enter integer value\"))\n",
    "    file=open(\"filewillbecreated.txt\",\"w\")\n",
    "    result=10/0\n",
    "except Exception as errmsg:\n",
    "    print(errmsg)\n",
    "else:\n",
    "    print(\"Hello\",result)"
   ]
  },
  {
   "cell_type": "code",
   "execution_count": 25,
   "id": "a37e0d24-7399-4857-9a50-2872da42d4c2",
   "metadata": {},
   "outputs": [
    {
     "name": "stdin",
     "output_type": "stream",
     "text": [
      "Enter integer value \"sachin\"\n"
     ]
    },
    {
     "name": "stdout",
     "output_type": "stream",
     "text": [
      "invalid literal for int() with base 10: '\"sachin\"'\n"
     ]
    },
    {
     "name": "stdin",
     "output_type": "stream",
     "text": [
      "Enter integer value 4.5\n"
     ]
    },
    {
     "name": "stdout",
     "output_type": "stream",
     "text": [
      "invalid literal for int() with base 10: '4.5'\n"
     ]
    },
    {
     "name": "stdin",
     "output_type": "stream",
     "text": [
      "Enter integer value (4+2j)\n"
     ]
    },
    {
     "name": "stdout",
     "output_type": "stream",
     "text": [
      "invalid literal for int() with base 10: '(4+2j)'\n"
     ]
    },
    {
     "name": "stdin",
     "output_type": "stream",
     "text": [
      "Enter integer value 10\n"
     ]
    },
    {
     "name": "stdout",
     "output_type": "stream",
     "text": [
      "You have entered 10\n"
     ]
    }
   ],
   "source": [
    "while True:\n",
    "    try:\n",
    "        value=int(input(\"Enter integer value\"))\n",
    "    except Exception as errmsg:\n",
    "        print(errmsg)\n",
    "        continue\n",
    "    else:\n",
    "        print(f\"You have entered {value}\")\n",
    "        break"
   ]
  },
  {
   "cell_type": "code",
   "execution_count": null,
   "id": "66f8bd92-1942-4c9e-a2b8-dd3a97362b60",
   "metadata": {},
   "outputs": [],
   "source": []
  }
 ],
 "metadata": {
  "kernelspec": {
   "display_name": "Python 3 (ipykernel)",
   "language": "python",
   "name": "python3"
  },
  "language_info": {
   "codemirror_mode": {
    "name": "ipython",
    "version": 3
   },
   "file_extension": ".py",
   "mimetype": "text/x-python",
   "name": "python",
   "nbconvert_exporter": "python",
   "pygments_lexer": "ipython3",
   "version": "3.12.7"
  }
 },
 "nbformat": 4,
 "nbformat_minor": 5
}
