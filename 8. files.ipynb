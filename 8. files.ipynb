{
 "cells": [
  {
   "cell_type": "code",
   "execution_count": 23,
   "id": "cd07a29b-5c75-4c71-9c98-70e320a86a8d",
   "metadata": {},
   "outputs": [
    {
     "name": "stdout",
     "output_type": "stream",
     "text": [
      "Overwriting testfile.txt\n"
     ]
    }
   ],
   "source": [
    "%%writefile testfile.txt\n",
    "This is a test file  \n",
    "to check data in my first  \n",
    "happy to create it\n",
    "created textfile using notebook"
   ]
  },
  {
   "cell_type": "code",
   "execution_count": null,
   "id": "90dcde78-82b7-499d-8c14-8b673f28ba92",
   "metadata": {},
   "outputs": [],
   "source": [
    "pwd"
   ]
  },
  {
   "cell_type": "code",
   "execution_count": null,
   "id": "fad79aa9-8fa6-4494-adaa-f3df003a939a",
   "metadata": {},
   "outputs": [],
   "source": [
    "try:\n",
    "    fs=open(\"testfile.txt\",\"r\")\n",
    "except Exception as errmsg:\n",
    "    print(errmsg)\n",
    "else:\n",
    "    data=fs.read() # will read all the contents of the file\n",
    "    print(data)\n",
    "    fs.close()"
   ]
  },
  {
   "cell_type": "code",
   "execution_count": null,
   "id": "f46e330a-847f-4a94-b2ce-0e278f89bc01",
   "metadata": {},
   "outputs": [],
   "source": [
    "fs=open(\"testfile.txt\",\"r\")\n",
    "if fs.readable():\n",
    "    print(fs.read())\n",
    "    fs.seek(0)   \n",
    "    print(fs.read())\n",
    "    fs.seek(10)  \n",
    "    print(fs.read())\n",
    "fs.close()"
   ]
  },
  {
   "cell_type": "code",
   "execution_count": null,
   "id": "0d2ad44f-20b6-4f05-9a2e-51bddbda1035",
   "metadata": {},
   "outputs": [],
   "source": [
    "# context manager will automatically close the file in python\n",
    "with open(\"testfile.txt\",\"r\") as ft:\n",
    "    print(ft.read())"
   ]
  },
  {
   "cell_type": "code",
   "execution_count": null,
   "id": "036c7cbc-6105-4bb1-ad4a-6085a7f3a8d3",
   "metadata": {},
   "outputs": [],
   "source": [
    "with open(\"gratitude.txt\",\"w\") as ft:\n",
    "    ft.write(\"Thank you GOD for birds thy sing\\n\")\n",
    "    ft.write(\"Thank you GOD for world so sweet\\n\")\n",
    "    ft.write(\"Thank you GOD for food we eat\\n\")\n",
    "    ft.write(\"Thank you GOD for everything\\n\")"
   ]
  },
  {
   "cell_type": "code",
   "execution_count": null,
   "id": "bf9cd53c-7deb-4931-a902-98f5c8f9fc15",
   "metadata": {},
   "outputs": [],
   "source": [
    "collection=[\"row row row your boat\",\"gently down the stream\",\"merrily merrily merrily merrily\",\"life is but a dream\"]\n",
    "mycollection=[ eachline+\"\\n\" for eachline in collection]\n",
    "print(mycollection)\n",
    "with open(\"rhyme.txt\",\"w\") as ft:\n",
    "    if ft.writable():\n",
    "        ft.writelines(mycollection)"
   ]
  },
  {
   "cell_type": "code",
   "execution_count": null,
   "id": "c48584fc-c5cf-430b-b34c-b003e6bfd7ef",
   "metadata": {},
   "outputs": [],
   "source": [
    "with open(\"gratitude.txt\",\"r\") as ft:\n",
    "    print(ft.readline().strip(\"\\n\"))\n",
    "    print(ft.readline().strip(\"\\n\"))\n",
    "    print(ft.readline().strip(\"\\n\"))\n",
    "    print(ft.readline().strip(\"\\n\"))"
   ]
  },
  {
   "cell_type": "code",
   "execution_count": null,
   "id": "193f5d73-995c-4884-8f83-82ce302577a0",
   "metadata": {},
   "outputs": [],
   "source": [
    "count_lines=0\n",
    "count_word=0\n",
    "with open(\"gratitude.txt\",\"r\") as ft:\n",
    "    word=input(\"Enter the word to search\")\n",
    "    line=ft.readline()\n",
    "    while line:\n",
    "        if word in line:\n",
    "            count_word+=1\n",
    "        count_lines+=1\n",
    "        line=ft.readline()\n",
    "print(\"Total number of lines\",count_lines)\n",
    "if count_word:\n",
    "    print(f\"Total number of times {word} appears = \",count_word)\n",
    "else:\n",
    "    print(f\"{word} word is not present in the file\")"
   ]
  },
  {
   "cell_type": "code",
   "execution_count": null,
   "id": "092d44b4-e7a1-45e8-8b07-fe5dac8017f1",
   "metadata": {},
   "outputs": [],
   "source": [
    "with open(\"companies.txt\",\"w\") as ft:\n",
    "    ft.write(\"wipro\\n\")\n",
    "    ft.write(\"infosys\\n\")\n",
    "    ft.write(\"tcs\\n\")\n",
    "    ft.write(\"tata technologies\\n\")"
   ]
  },
  {
   "cell_type": "code",
   "execution_count": null,
   "id": "32b95f22-1829-4a40-97a7-1af9a55657b1",
   "metadata": {},
   "outputs": [],
   "source": [
    "with open(\"companies.txt\",\"r\") as source:\n",
    "    with open(\"companies_len.txt\",\"w\") as destination:\n",
    "        line=source.readline().strip(\"\\n\")\n",
    "        while line:\n",
    "            length=len(line)\n",
    "            destination.write(f\"{length}\\n\")\n",
    "            print(line,length)\n",
    "            line=source.readline().strip(\"\\n\")"
   ]
  },
  {
   "cell_type": "code",
   "execution_count": null,
   "id": "7d067e57-80bc-4c61-9eb5-507b75a84705",
   "metadata": {},
   "outputs": [],
   "source": [
    "with open(\"companies.txt\",\"r\") as source1, open(\"companies_len.txt\",\"r\") as source2:\n",
    "     with open(\"companies_data.txt\",\"w\") as destination:\n",
    "        file1_line=source1.readline().strip(\"\\n\")\n",
    "        file2_line=source2.readline().strip(\"\\n\")\n",
    "        while file1_line and file2_line:\n",
    "            destination.write(file1_line+\",\"+file2_line+\"\\n\")\n",
    "            file1_line=source1.readline().strip(\"\\n\")\n",
    "            file2_line=source2.readline().strip(\"\\n\")"
   ]
  },
  {
   "cell_type": "code",
   "execution_count": null,
   "id": "6e5f1ea4-28c2-4ba0-b957-7311014270fd",
   "metadata": {},
   "outputs": [],
   "source": [
    "fs=open(\"testfile.txt\",\"r\")\n",
    "print(dir(fs))\n",
    "print(fs.readable())\n",
    "print(fs.writable())\n",
    "print(fs.seekable())\n",
    "#s.close()\n",
    "print(fs.closed)\n",
    "# if not fs.closed:\n",
    "#     fs.close()\n",
    "print(fs.name)\n",
    "print(fs.mode)\n",
    "print(fs.fileno())"
   ]
  },
  {
   "cell_type": "code",
   "execution_count": null,
   "id": "a81f846e-b609-44f7-ac18-947a78ba57a4",
   "metadata": {},
   "outputs": [],
   "source": [
    "fs=open(\"testfile.txt\",\"r+\")\n",
    "print(fs.tell())\n",
    "fs.write(\"nice    \\n\")\n",
    "print(fs.tell())\n",
    "fs.write(\"wipro\")\n",
    "print(fs.tell())\n",
    "fs.write(\"infosys\")\n",
    "fs.seek(4)\n",
    "print(fs.tell())\n",
    "fs.seek(0)\n",
    "fs.read()\n",
    "print(\"Position is \",fs.tell())\n",
    "fs.seek(0,2)\n",
    "fs.write(\"hello\")\n",
    "fs.seek(0)\n",
    "print(fs.readable())\n",
    "print(fs.writable())\n",
    "print(fs.seekable())\n",
    "print(fs.encoding)\n",
    "print(fs.read())"
   ]
  },
  {
   "cell_type": "code",
   "execution_count": 1,
   "id": "a595d24f-d63b-48ac-a1c6-b6b56a504059",
   "metadata": {},
   "outputs": [
    {
     "name": "stdout",
     "output_type": "stream",
     "text": [
      "Overwriting companies_data.txt\n"
     ]
    }
   ],
   "source": [
    "%%writefile companies_data.txt\n",
    "wipro,5\n",
    "infosys,7\n",
    "tcs,3\n",
    "tata technologies,17"
   ]
  },
  {
   "cell_type": "code",
   "execution_count": 7,
   "id": "0be60859-b8d6-4617-9fb9-b26f0dc2c3a8",
   "metadata": {},
   "outputs": [
    {
     "name": "stdout",
     "output_type": "stream",
     "text": [
      "seeking...\n",
      "9\n",
      "b'infosys'\n",
      "27\n",
      "b'tata technologies,17\\r\\n'\n",
      "20\n",
      "b'tata technologies,17\\r\\n'\n"
     ]
    }
   ],
   "source": [
    "with open(\"companies_data.txt\",\"rb+\") as file:\n",
    "    if  not file.closed and file.readable():\n",
    "        if file.seekable():\n",
    "            print(\"seeking...\")\n",
    "            file.seek(9,0) # place cursor on 9 the byte from beginning position i.e. 0\n",
    "            print(file.tell()) # get the cursor position i.e. 9th byte #9\n",
    "            print(file.read(7)) # read 7 bytes from current position #infosys\n",
    "            \n",
    "            file.seek(-22,2) # 22 bytes before end of the file i.e. 2\n",
    "            print(file.tell()) \n",
    "            print(file.read())\n",
    "            print(file.seek(20)) \n",
    "            file.seek(7,1)\n",
    "            print(file.read())\n"
   ]
  },
  {
   "cell_type": "code",
   "execution_count": 69,
   "id": "7070d0ef-91d0-4bf8-9308-397df4a3f511",
   "metadata": {},
   "outputs": [
    {
     "name": "stdout",
     "output_type": "stream",
     "text": [
      "['Thank', 'you', 'GOD', 'for', 'birds', 'thy', 'sing']\n",
      "['Thank', 'you', 'GOD', 'for', 'lunch', 'we', 'eat']\n",
      "['Thank', 'you', 'GOD', 'for', 'food', 'we', 'eat']\n",
      "['Thank', 'you', 'GOD', 'for', 'everything']\n",
      "[]\n",
      "{}\n"
     ]
    }
   ],
   "source": [
    "# check frequency of words in file\n",
    "count_words={}\n",
    "\n",
    "with open(\"gratitude.txt\",\"r\") as source:\n",
    "    for each_line in source:\n",
    "        words=each_line.split()\n",
    "        print(words)\n",
    "    \n",
    "print(count_words)"
   ]
  },
  {
   "cell_type": "code",
   "execution_count": null,
   "id": "d59423f8-1c7b-48d8-bdd2-23faf5c215fa",
   "metadata": {},
   "outputs": [],
   "source": [
    "collection=[\"thank you\",\"danke schon\"]\n",
    "numbers=[10,20,30,40,50]\n",
    "numbers_collection=[str(num)+\"\\n\" for num in numbers]\n",
    "with open(\"thankyou.txt\",\"w\") as ft:\n",
    "    ft.writelines(numbers_collection)\n",
    "    #for line in collection:\n",
    "        #ft.write(line+\"\\n\")"
   ]
  },
  {
   "cell_type": "code",
   "execution_count": null,
   "id": "d1fd6233-9589-49ef-b592-b45896ce5c14",
   "metadata": {},
   "outputs": [],
   "source": [
    "# update delete\n",
    "with open(\"gratitude.txt\",\"r+\") as ft:\n",
    "    all_data=ft.readlines()\n",
    "    print(\"total lines \",len(all_data))\n",
    "    print(\"First line  \",all_data[0])\n",
    "    print(\"Last line  \",all_data[-1])\n",
    "    print(\"Second and third line...\")\n",
    "    for line in all_data[1:3]: \n",
    "        print(line,end=\" \")\n",
    "    print(all_data)\n",
    "    #del all_data[0] # delete operation\n",
    "    #all_data.remove('Thank you GOD for birds thy sing\\n')\n",
    "    #all_data.pop(0)\n",
    "    all_data[1]=\"Thank you GOD for lunch we eat\\n\" # update\n",
    "    print(all_data)\n",
    "    ft.seek(0) \n",
    "    ft.writelines(all_data)"
   ]
  },
  {
   "cell_type": "code",
   "execution_count": null,
   "id": "13b81d9c-bbe5-4235-a900-6f3f5db72587",
   "metadata": {},
   "outputs": [],
   "source": [
    "%%writefile emp.csv\n",
    "name,phone,company,sal\n",
    "deva,1234567890,vinsys,10.4 \n",
    "hrishikesh,9807134562,bosh,20.2\n",
    "gautam,123543123,tcs,30.7"
   ]
  },
  {
   "cell_type": "code",
   "execution_count": null,
   "id": "045f9b19-b706-461d-b71b-c3f124234eea",
   "metadata": {},
   "outputs": [],
   "source": [
    "total=0\n",
    "with open(\"emp.csv\",\"rt\") as fs:\n",
    "    #print(fs.read())\n",
    "    #for line in fs:\n",
    "        #print(line.strip(\"\\n\"))\n",
    "    all_data=fs.readlines()\n",
    "    print(all_data)\n",
    "    for each_row in all_data[1:]:\n",
    "        each_row_list=each_row.strip(\"\\n\").split(\",\")\n",
    "        print(each_row_list[0],each_row_list[3])\n",
    "        total+=float(each_row_list[3])     \n",
    "print(\"Total is \",total)"
   ]
  },
  {
   "cell_type": "code",
   "execution_count": 10,
   "id": "ffc3a583-6883-478d-b9b0-604299ba599b",
   "metadata": {},
   "outputs": [
    {
     "name": "stdout",
     "output_type": "stream",
     "text": [
      "['deva', '1234567890', 'vinsys', '10.4']\n",
      "['hrishikesh', '9807134562', 'bosh', '20.2']\n",
      "['gautam', '123543123', 'tcs', '30.7']\n",
      "Total is  61.3\n"
     ]
    }
   ],
   "source": [
    "import csv\n",
    "total=0\n",
    "with open(\"emp.csv\",\"rt\") as fs:\n",
    "    #print(list(csv.reader(fs)))\n",
    "    next(csv.reader(fs,delimiter=\",\")) # skip the header using next on generator!\n",
    "    for each_row in csv.reader(fs,delimiter=\",\"):\n",
    "        print(each_row)\n",
    "        total+=float(each_row[3])\n",
    "print(\"Total is \",total)"
   ]
  },
  {
   "cell_type": "code",
   "execution_count": 16,
   "id": "bc2b35e6-a0ff-4be0-82ad-86d95335b817",
   "metadata": {},
   "outputs": [],
   "source": [
    "import csv\n",
    "# note: use newline kwarg to avoid blank lines in csv files while using writerow(iterable)\n",
    "with open(\"companies.csv\",\"w\",newline=\"\") as ft:\n",
    "    data=csv.writer(ft)\n",
    "    #print(dir(data))\n",
    "    data.writerow([\"ibm\",1000,\"pune\"])\n",
    "    data.writerow([\"nice\",2000,\"pune\"])\n",
    "    data.writerow([\"wipro\",3000,\"bangalore\"])"
   ]
  },
  {
   "cell_type": "code",
   "execution_count": 18,
   "id": "f2ebc2b1-0c32-48ed-a73d-2f66561e992f",
   "metadata": {},
   "outputs": [],
   "source": [
    "import csv\n",
    "# note: use newline kwarg to avoid blank lines in csv files while using writerow(iterable)\n",
    "companies=[[\"wipro\",3000,\"bangalore\"],[\"ibm\",1000,\"pune\"],[\"nice\",2000,\"pune\"]]\n",
    "with open(\"companies.csv\",\"w\",newline=\"\") as ft:\n",
    "    data=csv.writer(ft)\n",
    "    data.writerows(companies)"
   ]
  },
  {
   "cell_type": "code",
   "execution_count": 50,
   "id": "66b7fc0f-b90c-4724-877f-975503e70714",
   "metadata": {},
   "outputs": [
    {
     "name": "stdout",
     "output_type": "stream",
     "text": [
      "total number of sports titles 43\n",
      "total number of science fiction titles 91\n",
      "total number of titles 1450\n"
     ]
    },
    {
     "data": {
      "image/png": "[encoded data removed]",
      "text/plain": [
       "<Figure size 640x480 with 1 Axes>"
      ]
     },
     "metadata": {},
     "output_type": "display_data"
    }
   ],
   "source": [
    "import csv\n",
    "import matplotlib.pyplot as plt\n",
    "\n",
    "sports_titles=[]\n",
    "sciencefiction_titles=[]\n",
    "total=0\n",
    "\n",
    "with open(\"disney_plus_titles.csv\",\"r\",encoding='utf-8') as source:\n",
    "    next(csv.reader(source,delimiter=\",\"))\n",
    "    for each_row in csv.reader(source,delimiter=\",\"):\n",
    "        if \"Sports\" in each_row[10]:\n",
    "            sports_titles.append(each_row[2])\n",
    "        if \"Science Fiction\" in each_row[10]:\n",
    "            sciencefiction_titles.append(each_row[2])\n",
    "        total+=1\n",
    "print(\"total number of sports titles\",len(sports_titles))\n",
    "print(\"total number of science fiction titles\",len(sciencefiction_titles))\n",
    "print(\"total number of titles\",total)\n",
    "plt.pie([len(sports_titles),len(sciencefiction_titles)],labels=[\"sports\",\"science fiction\"])\n",
    "plt.show()"
   ]
  },
  {
   "cell_type": "code",
   "execution_count": null,
   "id": "f17b0eca-7be5-47c1-a41f-e928c2beb344",
   "metadata": {},
   "outputs": [],
   "source": []
  }
 ],
 "metadata": {
  "kernelspec": {
   "display_name": "Python 3 (ipykernel)",
   "language": "python",
   "name": "python3"
  },
  "language_info": {
   "codemirror_mode": {
    "name": "ipython",
    "version": 3
   },
   "file_extension": ".py",
   "mimetype": "text/x-python",
   "name": "python",
   "nbconvert_exporter": "python",
   "pygments_lexer": "ipython3",
   "version": "3.12.7"
  }
 },
 "nbformat": 4,
 "nbformat_minor": 5
}
