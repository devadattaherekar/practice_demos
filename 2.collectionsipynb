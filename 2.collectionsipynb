{
 "cells": [
  {
   "cell_type": "code",
   "execution_count": 29,
   "id": "e74d861a-08f0-41a4-8796-4bc316d806e0",
   "metadata": {},
   "outputs": [
    {
     "name": "stdout",
     "output_type": "stream",
     "text": [
      "[10, 'sachin', True, 98.56, None, (4+3j)] 1455806957248 <class 'list'>\n",
      "10\n",
      "[10, 'sachin', True]\n",
      "[10, True, None]\n",
      "[(4+3j), None, 98.56, True, 'sachin', 10] 1455806957248\n",
      "(4+3j)\n",
      "[98.56, None, (4+3j)] 1455806957248\n"
     ]
    }
   ],
   "source": [
    "# collections are data structures (The way in which data is stored in memory)\n",
    "# so that operations must be done in efficient way (time complexity / space complexity) Big O notation\n",
    "# collections are in memory databases (temporary databases)\n",
    "# list [] tuple () dict{key:value} set{}\n",
    "# list is mutable ordered  collection of elements\n",
    "mylist=[10,\"sachin\",True,98.56,None,(4+3j)]\n",
    "print(mylist,id(mylist),type(mylist))\n",
    "print(mylist[0]) # unpacking collection using [] \n",
    "print(mylist[0:3])\n",
    "print(mylist[::2])\n",
    "print(mylist[::-1],id(mylist))\n",
    "print(mylist[-1])\n",
    "print(mylist[-3:],id(mylist))"
   ]
  },
  {
   "cell_type": "code",
   "execution_count": 161,
   "id": "a249f944-2adc-4ffc-9cbd-13279cf7c881",
   "metadata": {},
   "outputs": [
    {
     "name": "stdout",
     "output_type": "stream",
     "text": [
      "['sbi', 'axis', 'sbi', 'icici'] 1455883504320\n",
      "['sbi', 'axis', 'sbi', 'icici', 'kotak'] 1455883504320\n",
      "['sbi', 'bob', 'axis', 'sbi', 'icici', 'kotak'] 1455883504320\n",
      "[] 1455883504320\n",
      "['sbi', 'bob', 'axis', 'sbi', 'icici', 'kotak'] 1455883504576\n",
      "['sbi', 'bob', 'axis', 'sbi', 'icici', 'kotak', ['dena bank', 'yes bank']] 1455883504576\n",
      "yes bank yes bank\n",
      "['dena bank', 'yes bank'] ['dena bank', 'yes bank']\n",
      "['sbi', 'bob', 'axis', 'sbi', 'icici', 'kotak', ['dena bank', 'yes bank']]\n",
      "['sbi', 'bob', 'axis', 'sbi', 'icici', 'kotak']\n",
      "Poped bank is kotak\n",
      "Poped bank is sbi\n",
      "Index out of range!\n",
      "['sbi', 'bob', 'axis', 'icici']\n",
      "deushe is not present!\n",
      "['sbi', 'axis', 'icici'] 1455883504576 1455871015264 1455816920208\n",
      "['state Bank of India', 'axis', 'icici', 'axis'] 1455883504576 1455883504368 1455816920208\n",
      "Position of axis bank 1\n",
      "Position of axis bank 3\n",
      "Axis bank count is 2\n",
      "Total number of banks 4\n",
      "['axis', 'icici', 'axis', 'state Bank of India']\n",
      "['axis', 'axis', 'icici', 'state Bank of India'] 1455883504576\n",
      "['state Bank of India', 'icici', 'axis', 'axis'] 1455883504576\n"
     ]
    }
   ],
   "source": [
    "banks=[\"sbi\",\"axis\",\"sbi\",\"icici\"]\n",
    "print(banks,id(banks))\n",
    "banks.append(\"kotak\")\n",
    "print(banks,id(banks))\n",
    "banks.insert(1,\"bob\")\n",
    "print(banks,id(banks))\n",
    "#mybanks=banks # shallow copy # both references are pointing to same memory location\n",
    "mybanks=banks.copy() # deep copy # A new memory location gets created and all the values are copied at new location\n",
    "banks.clear()\n",
    "print(banks,id(banks))\n",
    "print(mybanks,id(mybanks))\n",
    "newbanks=[\"dena bank\",\"yes bank\"]\n",
    "#mybanks.extend(newbanks) # Here extend takes iterable and merges all elements into the list\n",
    "mybanks.append(newbanks)\n",
    "print(mybanks,id(mybanks))\n",
    "print(mybanks[-1][-1],mybanks[6][1])\n",
    "print(mybanks[-1],mybanks[6])\n",
    "print(mybanks)\n",
    "del mybanks[-1] # delete operation\n",
    "print(mybanks)\n",
    "print(\"Poped bank is\",mybanks.pop())\n",
    "print(\"Poped bank is\",mybanks.pop(3))\n",
    "try:\n",
    "    print(\"Poped bank is\",mybanks.pop(10))\n",
    "except:\n",
    "    print(\"Index out of range!\") \n",
    "print(mybanks)\n",
    "mybanks.remove('bob')\n",
    "try:\n",
    "    mybanks.remove('deushe')\n",
    "except:\n",
    "    print(\"deushe is not present!\")\n",
    "print(mybanks,id(mybanks),id(mybanks[0]),id(mybanks[1]))\n",
    "mybanks[0]=\"state Bank of India\"\n",
    "mybanks.append(\"axis\")\n",
    "print(mybanks,id(mybanks),id(mybanks[0]),id(mybanks[1]))\n",
    "print(\"Position of axis bank\",mybanks.index(\"axis\"))\n",
    "print(\"Position of axis bank\",mybanks.index(\"axis\",2))\n",
    "print(f\"Axis bank count is {mybanks.count(\"axis\")}\")\n",
    "print(f\"Total number of banks {len(mybanks)}\")\n",
    "mybanks.reverse()\n",
    "print(mybanks)\n",
    "mybanks.sort()\n",
    "print(mybanks,id(mybanks))\n",
    "mybanks.sort(reverse=True)\n",
    "print(mybanks,id(mybanks))"
   ]
  },
  {
   "cell_type": "code",
   "execution_count": 115,
   "id": "5971c70c-3300-4191-90cf-79226f051032",
   "metadata": {},
   "outputs": [
    {
     "name": "stdout",
     "output_type": "stream",
     "text": [
      "['__add__', '__class__', '__class_getitem__', '__contains__', '__delattr__', '__delitem__', '__dir__', '__doc__', '__eq__', '__format__', '__ge__', '__getattribute__', '__getitem__', '__getstate__', '__gt__', '__hash__', '__iadd__', '__imul__', '__init__', '__init_subclass__', '__iter__', '__le__', '__len__', '__lt__', '__mul__', '__ne__', '__new__', '__reduce__', '__reduce_ex__', '__repr__', '__reversed__', '__rmul__', '__setattr__', '__setitem__', '__sizeof__', '__str__', '__subclasshook__', 'append', 'clear', 'copy', 'count', 'extend', 'index', 'insert', 'pop', 'remove', 'reverse', 'sort']\n"
     ]
    }
   ],
   "source": [
    "print(dir(list)) # CRUD"
   ]
  },
  {
   "cell_type": "code",
   "execution_count": 37,
   "id": "04a44826-4c67-4cf3-b812-83d3cefe4403",
   "metadata": {},
   "outputs": [
    {
     "name": "stdout",
     "output_type": "stream",
     "text": [
      "Help on method_descriptor:\n",
      "\n",
      "append(self, object, /) unbound builtins.list method\n",
      "    Append object to the end of the list.\n",
      "\n",
      "None\n"
     ]
    }
   ],
   "source": [
    "print(help(list.append))"
   ]
  },
  {
   "cell_type": "code",
   "execution_count": 67,
   "id": "69e0ff57-0ca1-4d9b-84e8-787be8932bc5",
   "metadata": {},
   "outputs": [
    {
     "name": "stdout",
     "output_type": "stream",
     "text": [
      "Help on method_descriptor:\n",
      "\n",
      "extend(self, iterable, /) unbound builtins.list method\n",
      "    Extend list by appending elements from the iterable.\n",
      "\n",
      "None\n",
      "[10, 20, 30, [40, 50, 60]]\n"
     ]
    }
   ],
   "source": [
    "# Note: collections are also called as iterables\n",
    "# Note: iterators are for: next()\n",
    "num1=[10,20,30]\n",
    "num2=[40,50,60]\n",
    "print(help(list.extend))\n",
    "#num1.extend(num2)\n",
    "num1.append(num2)\n",
    "print(num1)"
   ]
  },
  {
   "cell_type": "code",
   "execution_count": 91,
   "id": "3563ff72-6ff3-43c2-9d95-c39f1cfbd740",
   "metadata": {},
   "outputs": [
    {
     "name": "stdout",
     "output_type": "stream",
     "text": [
      "[[1, 2, 3], [4, 5, 6], [7, 8, 9]]\n",
      "[1, 2, 3]\n",
      "1\n",
      "9 9\n"
     ]
    }
   ],
   "source": [
    "mylist=[[1,2,3],[4,5,6],[7,8,9]]\n",
    "print(mylist)\n",
    "print(mylist[0])\n",
    "print(mylist[0][0])\n",
    "print(mylist[2][2],mylist[-1][-1])"
   ]
  },
  {
   "cell_type": "code",
   "execution_count": 163,
   "id": "ace30637-2913-4017-9c87-20a05a016d2f",
   "metadata": {},
   "outputs": [
    {
     "name": "stdout",
     "output_type": "stream",
     "text": [
      "['__add__', '__class__', '__class_getitem__', '__contains__', '__delattr__', '__dir__', '__doc__', '__eq__', '__format__', '__ge__', '__getattribute__', '__getitem__', '__getnewargs__', '__getstate__', '__gt__', '__hash__', '__init__', '__init_subclass__', '__iter__', '__le__', '__len__', '__lt__', '__mul__', '__ne__', '__new__', '__reduce__', '__reduce_ex__', '__repr__', '__rmul__', '__setattr__', '__sizeof__', '__str__', '__subclasshook__', 'count', 'index']\n"
     ]
    }
   ],
   "source": [
    "# tuple is readonly database or readonly record\n",
    "# tuple is immutable ordered hetergeous collection \n",
    "print(dir(tuple)) "
   ]
  },
  {
   "cell_type": "code",
   "execution_count": 201,
   "id": "2e609f67-4ec1-4f9b-8423-4664cbbf0a6e",
   "metadata": {},
   "outputs": [
    {
     "name": "stdout",
     "output_type": "stream",
     "text": [
      "('sbi', 'axis', 'sbi', 'icici') 1455884622704 <class 'tuple'>\n",
      "('sbi', 'axis', 'sbi', 'icici') 1455884622704 <class 'tuple'>\n",
      "sbi icici\n",
      "('icici', 'sbi', 'axis', 'sbi')\n",
      "('sbi', 'sbi')\n",
      "('sbi', 'axis', 'sbi', 'icici')\n"
     ]
    }
   ],
   "source": [
    "banks=(\"sbi\",\"axis\",\"sbi\",\"icici\")\n",
    "print(banks,id(banks),type(banks))\n",
    "# banks[0]=\"state bank\" # 'tuple' object does not support item assignment\n",
    "# del banks[0] # 'tuple' object doesn't support item deletion\n",
    "# banks.insert(0,\"yesbank\") # 'tuple' object has no attribute 'insert'\n",
    "print(banks,id(banks),type(banks)) \n",
    "print(banks[0],banks[-1])\n",
    "print(banks[::-1])\n",
    "mybanks=banks # shallow copy is allowed\n",
    "print(mybanks[::2])\n",
    "print(mybanks)"
   ]
  },
  {
   "cell_type": "code",
   "execution_count": 215,
   "id": "20a933aa-b6e2-4817-be71-252a745fda71",
   "metadata": {},
   "outputs": [
    {
     "name": "stdout",
     "output_type": "stream",
     "text": [
      "[['accenture', 1000, 599.59, '15/May/2025'], ['wipro', 2000, 1599.99, '14/May/2025'], ['infosys', 3000, 2599.98, '12/May/2025'], ['tcs', 4000, 4599.5, '13/May/2025'], ['ibm', 5000, 67599.75, '11/May/2025']]\n",
      "First record ['accenture', 1000, 599.59, '15/May/2025']\n",
      "Price of Accenture record 1000\n",
      "Last record ['ibm', 5000, 67599.75, '11/May/2025']\n",
      "Price of IBM record 5000\n",
      "[['accenture', 1000, 599.59, '10/Apr/2025'], ['wipro', 2000, 1599.99, '14/May/2025'], ['infosys', 3000, 2599.98, '12/May/2025'], ['tcs', 4000, 4599.5, '13/May/2025'], ['ibm', 5000, 67599.75, '11/May/2025']]\n"
     ]
    }
   ],
   "source": [
    "# list of list \n",
    "# list of tuple\n",
    "# tuple of tuple\n",
    "# tuple of list\n",
    "sensex=[\n",
    "        [\"accenture\",1000,599.59,\"15/May/2025\"],\n",
    "        [\"wipro\",2000,1599.99,\"14/May/2025\"],\n",
    "        [\"infosys\",3000,2599.98,\"12/May/2025\"],\n",
    "        [\"tcs\",4000,4599.50,\"13/May/2025\"],\n",
    "        [\"ibm\",5000,67599.75,\"11/May/2025\"]\n",
    "]\n",
    "print(sensex)\n",
    "print(\"First record\",sensex[0])\n",
    "sensex[0][-1]=\"10/Apr/2025\" # update record \n",
    "print(\"Price of Accenture record\",sensex[0][1])\n",
    "print(\"Last record\",sensex[-1])\n",
    "print(\"Price of IBM record\",sensex[-1][1])\n",
    "print(sensex)"
   ]
  },
  {
   "cell_type": "code",
   "execution_count": null,
   "id": "6c527458-c3ec-4f67-8f3f-ebd5074896d5",
   "metadata": {},
   "outputs": [],
   "source": []
  }
 ],
 "metadata": {
  "kernelspec": {
   "display_name": "Python 3 (ipykernel)",
   "language": "python",
   "name": "python3"
  },
  "language_info": {
   "codemirror_mode": {
    "name": "ipython",
    "version": 3
   },
   "file_extension": ".py",
   "mimetype": "text/x-python",
   "name": "python",
   "nbconvert_exporter": "python",
   "pygments_lexer": "ipython3",
   "version": "3.12.7"
  }
 },
 "nbformat": 4,
 "nbformat_minor": 5
}
