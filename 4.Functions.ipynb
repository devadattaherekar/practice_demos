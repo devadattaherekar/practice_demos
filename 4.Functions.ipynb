{
 "cells": [
  {
   "cell_type": "code",
   "execution_count": null,
   "id": "67000de7-46e8-4894-a1f7-0692628b113d",
   "metadata": {},
   "outputs": [],
   "source": [
    "# function taking no args \n",
    "# Note: Functions in python return None by default\n",
    "def function():\n",
    "    print(\"function definition\")\n",
    "\n",
    "function() # function call"
   ]
  },
  {
   "cell_type": "code",
   "execution_count": null,
   "id": "e1199677-b20b-4b26-ab08-81c583fa4138",
   "metadata": {},
   "outputs": [],
   "source": [
    "# Note: Every function can return only one value because return can return only one value\n",
    "def add(x,y): # function definition and x and y are parameters\n",
    "    # if type(y) is int:\n",
    "    #     return x+str(y)\n",
    "    return x+y\n",
    "    \n",
    "print(\"sum is\",add(100,200)) # function call # arguments are 100 and 200\n",
    "print(\"sum is\",add(3.4,2.2)) \n",
    "print(\"sum is\",add((2+5j),(7+9j))) \n",
    "print(\"sum is\",add(\"sachin\",\"sehwag\")) \n",
    "#print(\"sum is\",add(\"sachin\",10))"
   ]
  },
  {
   "cell_type": "code",
   "execution_count": null,
   "id": "2834982e-0438-4bc2-9774-fec86c297ce8",
   "metadata": {},
   "outputs": [],
   "source": [
    "# Here state is parameter and values are on/off arguments\n",
    "# state=on,off\n",
    "# level=beginner,intermeditate,expert\n",
    "# gender=male,female"
   ]
  },
  {
   "cell_type": "code",
   "execution_count": null,
   "id": "ac61973a-6c94-491a-adb4-cfc00865bcca",
   "metadata": {},
   "outputs": [],
   "source": [
    "# pass keyword is used to create empty functions or class\n",
    "def foo():\n",
    "    pass\n",
    "\n",
    "foo()"
   ]
  },
  {
   "cell_type": "code",
   "execution_count": null,
   "id": "ad463df9-7a54-4a22-b93a-3a8dd10e0ff8",
   "metadata": {},
   "outputs": [],
   "source": [
    "def cricketer(): \n",
    "    return 10,\"sachin\",\"india\",100,56.78\n",
    "\n",
    "print(cricketer())\n",
    "\n",
    "jersey,player,country,runs,average=cricketer()\n",
    "print(jersey,player,country,runs,average)\n",
    "\n",
    "for values in cricketer(): # unpacking a tuple bez cricketer \n",
    "    print(values,end=\" \")"
   ]
  },
  {
   "cell_type": "code",
   "execution_count": null,
   "id": "9bfec8dc-b422-46e9-b689-f7de6b227be0",
   "metadata": {},
   "outputs": [],
   "source": [
    "def add(x,y):\n",
    "    return x+y,x-y,x*y\n",
    "\n",
    "total,diff,prod=add(10,20)\n",
    "print(total,diff,prod)"
   ]
  },
  {
   "cell_type": "code",
   "execution_count": null,
   "id": "5c3608b9-5d8c-4275-9989-c9414c117629",
   "metadata": {},
   "outputs": [],
   "source": [
    "# only trailing arguments can be defaulted \n",
    "# default parameters go from right to left else SyntaxError\n",
    "# default parameters are given in function definition not in function call\n",
    "# default arguments are used when not all arguments needs to be passed during function call\n",
    "def add(x,y=0): # Here y=0 is default arugument!\n",
    "    return x+y\n",
    "\n",
    "#print(add())\n",
    "print(add(100))\n",
    "print(add(\"sachin\",\"sehwag\"))\n",
    "print(add(100,200)) # unnamed argument\n",
    "print(add(x=1000,y=2000)) # kwargs"
   ]
  },
  {
   "cell_type": "code",
   "execution_count": null,
   "id": "88263290-d9b3-4b59-bce0-7fb21f9d8581",
   "metadata": {},
   "outputs": [],
   "source": [
    "def movie_details(actor=\"***\",year=0,movie=\"___\"): # default arguments\n",
    "    print(f\"{actor} acts in {movie} released in year {year}\")\n",
    "\n",
    "movie_details(\"russel crowe\",2000,\"beautiful mind\") # unnamed arguments\n",
    "movie_details(movie=\"braveheart\",actor=\"mel gibson\",year=1990) # kwargs or named arguments\n",
    "# kwargs or named arguments can be passed in any order and also readability of code!\n",
    "movie_details()"
   ]
  },
  {
   "cell_type": "code",
   "execution_count": null,
   "id": "e96642ae-ddb4-4730-b82e-dab55363712a",
   "metadata": {},
   "outputs": [],
   "source": [
    "# Note * in function definition will create a tuple which can hold multiple arguments\n",
    "def multiple_args(*args):\n",
    "    print(args,type(args))\n",
    "    for each_val in args: # use for to unpack tuple!\n",
    "        print(each_val,end=\" \")\n",
    "\n",
    "multiple_args(1,2,3,4,5)"
   ]
  },
  {
   "cell_type": "code",
   "execution_count": null,
   "id": "86e798c6-1da7-4e6d-b62f-9d2837f7e330",
   "metadata": {},
   "outputs": [],
   "source": [
    "# Note: return will help to cascade function calls!\n",
    "def add(x,y):\n",
    "    return x+y\n",
    "\n",
    "#add(10,20)\n",
    "print(add(add(add(10,20),30),40)) # cascading function call"
   ]
  },
  {
   "cell_type": "code",
   "execution_count": null,
   "id": "39227792-b108-48f7-8e43-b79d3ec9f842",
   "metadata": {},
   "outputs": [],
   "source": [
    "# create a tuple to hold multiple unamed args \n",
    "def add(*args):\n",
    "    #print(args,type(args))\n",
    "    total=0\n",
    "    for each_val in args:\n",
    "        total+=each_val\n",
    "    return total\n",
    "\n",
    "print(add())\n",
    "print(add(100))\n",
    "print(add(10,20))\n",
    "print(add(1,2,3,4,5))"
   ]
  },
  {
   "cell_type": "code",
   "execution_count": null,
   "id": "86bd96c3-6cc8-4027-b322-bda7889e2a7a",
   "metadata": {},
   "outputs": [],
   "source": [
    "# Here ** creates a dict which can hold multiple kwargs or named args\n",
    "def function(**args):\n",
    "    print(args,type(args))\n",
    "\n",
    "function(var1=1000,var2=2000) # kwargs / named arguments"
   ]
  },
  {
   "cell_type": "code",
   "execution_count": null,
   "id": "76cd761b-ab06-4ce6-9f31-9da0ffe39e7c",
   "metadata": {},
   "outputs": [],
   "source": [
    "def function(*args,**kwargs):\n",
    "    print(args,type(args))\n",
    "    print(kwargs,type(kwargs))\n",
    "    \n",
    "function(var1=1000,var2=2000) # kwargs / named arguments\n",
    "function(1000,2000) #unamed args\n",
    "function(10,20,var1=1000,var2=2000) # mix of both unnamed args as well as kwargs\n",
    "#function(var1=1000,var2=2000,1,2,3)  # SyntaxError: positional argument follows keyword argument"
   ]
  },
  {
   "cell_type": "code",
   "execution_count": null,
   "id": "25b36635-ed8f-40e0-98f7-c5997192f89a",
   "metadata": {},
   "outputs": [],
   "source": [
    "def add(*args,**kwargs):\n",
    "    #print(args,type(args))\n",
    "    total=0\n",
    "    for each_val in args:\n",
    "        total+=each_val\n",
    "    for name,each_val in kwargs.items():\n",
    "        total+=each_val\n",
    "    return total\n",
    "\n",
    "print(add()) # no args\n",
    "print(add(100))\n",
    "print(add(10,20))\n",
    "print(add(1,2,3,4,5)) # unamed args\n",
    "print(add(var1=100)) # kwargs\n",
    "print(add(x=10,y=20)) # kwargs\n",
    "print(add(1,2,3,var_1=4,var_2=5)) # mix of both"
   ]
  },
  {
   "cell_type": "code",
   "execution_count": null,
   "id": "600998c7-19f3-4fc4-a68f-758847271fe7",
   "metadata": {},
   "outputs": [],
   "source": [
    "# Note: There is no tuple comprehension as it becomes a generator!!!"
   ]
  },
  {
   "cell_type": "code",
   "execution_count": null,
   "id": "31217647-e668-4d8c-b158-2e3bcd79a454",
   "metadata": {},
   "outputs": [],
   "source": [
    "# Package is collection of different types of files\n",
    "# .py files (source files) which are modules / binaries .exe / libraries .dll/.lib / documentation (help) \n",
    "# pip --help\n",
    "# pip install virtualenv \n",
    "# mkdir <project>\n",
    "# virtualenv <project>\n",
    "# Run <project>/scripts/activate.bat\n",
    "# pip list \n",
    "# pip install <package>\n",
    "# pip freeze > requirements.txt\n",
    "# Run <project>/scripts/deactivate.bat\n",
    "# cd ..\n",
    "# pip install -r requirements.txt"
   ]
  },
  {
   "cell_type": "code",
   "execution_count": null,
   "id": "586662e7-cfa7-488b-bd53-4d46d7fd2eb4",
   "metadata": {},
   "outputs": [],
   "source": [
    "# uv is very fast and light weight\n",
    "# pip install uv\n",
    "# uv init <project> --app / --lib # will create .toml\n",
    "# uv add <package==version>  # will create .lock\n",
    "# uv remove <package>\n",
    "# uv pip freeze > requirements \n",
    "# uv add -r requirements \n",
    "# uv sync \n",
    "# uv run main.py # will create .venv and install packages / activate or deactivate automatically!\n",
    "# uv python find \n",
    "# uv python list\n",
    "# uv python install 3.13\n",
    "# uv add --script <script> --with <pockage>\n",
    "# uv tool install/uninstall <ruff>\n",
    "# uv tool run ruff check\n",
    "# uvx ruff check # without installing ruff tool you can use it using uvx command"
   ]
  },
  {
   "cell_type": "code",
   "execution_count": null,
   "id": "80ee583c-a379-4fb3-ae12-fdaae980aa94",
   "metadata": {},
   "outputs": [],
   "source": [
    "# import <module> \n",
    "# import <module> as <alias>\n",
    "# from <package.subpackage> import <module> as <alias>\n",
    "# import <package.subpackage.module> as <alias>\n",
    "# Note: Never import everything from module\n",
    "# from <module> import <identifier> / <everything> *"
   ]
  },
  {
   "cell_type": "code",
   "execution_count": null,
   "id": "420f96ea-2761-4dd2-94e7-97e631b102d1",
   "metadata": {},
   "outputs": [],
   "source": [
    "# functions can be nested in python\n"
   ]
  },
  {
   "cell_type": "code",
   "execution_count": null,
   "id": "0f68380a-ce9c-435e-b501-32c86bf357b3",
   "metadata": {},
   "outputs": [],
   "source": [
    "import time\n",
    "\n",
    "def factorial(num):\n",
    "    fact=1\n",
    "    while num > 0:\n",
    "        fact*=num\n",
    "        num-=1\n",
    "    return fact\n",
    "\n",
    "#start=time.time()\n",
    "#print(start)\n",
    "print(factorial(5))\n",
    "#print(\"Time taken to execute \",time.time()-start)"
   ]
  },
  {
   "cell_type": "code",
   "execution_count": null,
   "id": "ec38b9bc-141d-43f2-a0d1-c46e6d1082de",
   "metadata": {},
   "outputs": [],
   "source": [
    "def factorial(num):\n",
    "    if num==0:\n",
    "        return 1\n",
    "    else:\n",
    "        return num*factorial(num-1)\n",
    "\n",
    "#start=time.time()\n",
    "#print(start)\n",
    "print(factorial(5))\n",
    "#print(\"Time taken to execute \",time.time()-start)"
   ]
  },
  {
   "cell_type": "code",
   "execution_count": null,
   "id": "8fdcac15-024d-46cb-b88c-652fa4586fc1",
   "metadata": {},
   "outputs": [],
   "source": [
    "# generator function \n",
    "def function():\n",
    "    yield 10\n",
    "    print(\"Hello\")\n",
    "    yield 20\n",
    "    print(\"bye\")\n",
    "    yield 30\n",
    "    print(\"Good morning\")\n",
    "\n",
    "print(function())\n",
    "#print(list(function()))\n",
    "#print(tuple(function()))\n",
    "#print(set(function()))\n",
    "\n",
    "# rec=function()\n",
    "# print(next(rec))\n",
    "# print(next(rec))\n",
    "# print(next(rec))\n",
    "#print(next(rec)) # StopIteration as the generator is exhausted!    \n",
    "\n",
    "for num in function():\n",
    "    print(num,end=\" \")\n"
   ]
  },
  {
   "cell_type": "code",
   "execution_count": null,
   "id": "27b87f4e-746e-4595-bb5d-fc356877e882",
   "metadata": {},
   "outputs": [],
   "source": [
    "def print_infinite_numbers():\n",
    "    counter=1\n",
    "    while True:\n",
    "        yield counter     \n",
    "        counter+=1  # Note: control resumes from line 5 in next call to generator function\n",
    "\n",
    "#print(print_infinite_numbers())\n",
    "\n",
    "\n",
    "gen_num=print_infinite_numbers()\n",
    "print(next(gen_num))\n",
    "print(next(gen_num))\n",
    "print(next(gen_num))\n",
    "\n",
    "#print(list(print_infinite_numbers()))\n",
    "#for num in print_infinite_numbers():\n",
    "    #print(num,end=\" \")"
   ]
  },
  {
   "cell_type": "code",
   "execution_count": null,
   "id": "74ce72c5-795c-4d0c-9f02-33c05faf2726",
   "metadata": {},
   "outputs": [],
   "source": [
    "def list_evens(count):\n",
    "    evens=[]\n",
    "    counter=1\n",
    "    num=1\n",
    "    while counter<count:\n",
    "        if num%2==0:\n",
    "            evens.append(num)\n",
    "            counter+=1\n",
    "        num+=1\n",
    "    print(sys.getsizeof(evens))\n",
    "    return evens\n",
    "       \n",
    "print(list_evens(100))"
   ]
  },
  {
   "cell_type": "code",
   "execution_count": null,
   "id": "eb6b39da-cf4a-4c74-9a06-f0d61610d362",
   "metadata": {},
   "outputs": [],
   "source": [
    "import sys\n",
    "def gen_evens(count):\n",
    "    counter=1\n",
    "    num=1\n",
    "    while counter<count:\n",
    "        if num%2==0:\n",
    "            yield num\n",
    "            counter+=1\n",
    "        num+=1\n",
    "        \n",
    "print(gen_evens(10)) # Note: you cannot print values from generator unlike functions use 3 ways to access values\n",
    "num=gen_evens(10)\n",
    "print(next(num))\n",
    "print(next(num))\n",
    "#print(sys.getsizeof(gen_evens))"
   ]
  },
  {
   "cell_type": "code",
   "execution_count": null,
   "id": "3b220ef4-0289-401b-8d0b-f534ad2ef3f8",
   "metadata": {},
   "outputs": [],
   "source": [
    "def gen_infinite_evens():\n",
    "    num=1\n",
    "    while True:\n",
    "        if num%2==0:\n",
    "            yield num\n",
    "        num+=1\n",
    "        \n",
    "num=gen_infinite_evens()\n",
    "print(next(num))\n",
    "print(next(num))\n",
    "print(next(num))\n",
    "print(next(num))\n",
    "print(next(num))"
   ]
  },
  {
   "cell_type": "code",
   "execution_count": null,
   "id": "427c00de-0e98-44e0-9161-a490f87cedef",
   "metadata": {},
   "outputs": [],
   "source": [
    "def gen_evens(count):\n",
    "    counter=1\n",
    "    num=1\n",
    "    while counter<count:\n",
    "        if num%2==0:\n",
    "            yield num\n",
    "            counter+=1\n",
    "        num+=1\n",
    "        \n",
    "print(gen_evens(10)) # Note: you cannot print values from generator unlike functions use 3 ways to access values\n",
    "for num in gen_evens(10):\n",
    "    print(num,end=\" \")\n",
    "\n",
    "print(\" \")\n",
    "gen_evens=(num for num in range(1,20) if num%2==0) # pythonic way to create generator!\n",
    "for num in gen_evens:\n",
    "    print(num,end=\" \")"
   ]
  },
  {
   "cell_type": "code",
   "execution_count": null,
   "id": "e9519f79-0899-48ee-8334-47498edaa9bd",
   "metadata": {},
   "outputs": [],
   "source": [
    "# 0 1 2 3 5 8 ...\n",
    "def finonacii(count):\n",
    "    fibo=[]\n",
    "    f1=0\n",
    "    f2=1\n",
    "    while count>=1:\n",
    "        fibo.append(f1)\n",
    "        f1,f2=f2,f1+f2\n",
    "        count-=1\n",
    "    return fibo\n",
    "       \n",
    "print(finonacii(10))"
   ]
  },
  {
   "cell_type": "code",
   "execution_count": null,
   "id": "b6ac6654-f472-45f4-aa11-be2435af2b43",
   "metadata": {},
   "outputs": [],
   "source": [
    "def finonacii(count):\n",
    "    f1=0\n",
    "    f2=1\n",
    "    while count>=1:\n",
    "        yield f1\n",
    "        f1,f2=f2,f1+f2\n",
    "        count-=1\n",
    "       \n",
    "print(sum(finonacii(10)))\n",
    "for each_num in finonacii(10): # fibonacci is a generator function!\n",
    "    print(each_num,end=\" \")"
   ]
  },
  {
   "cell_type": "code",
   "execution_count": null,
   "id": "0864acc1-54a8-46ca-a20f-b3facfaa9391",
   "metadata": {},
   "outputs": [],
   "source": [
    "company=\"vinsys\"\n",
    "ref=iter(company)\n",
    "print(next(ref))\n",
    "print(next(ref))\n",
    "print(next(ref))\n",
    "for letter in company:\n",
    "    print(letter,end=\" \")"
   ]
  },
  {
   "cell_type": "code",
   "execution_count": 21,
   "id": "7d23cc33-a535-419e-9bfe-50bd369d1e58",
   "metadata": {},
   "outputs": [
    {
     "name": "stdout",
     "output_type": "stream",
     "text": [
      "outer function starts\n",
      "inner function sachin 9999\n",
      "inner function sachin 10000\n",
      "outer function ends 99\n",
      "india\n"
     ]
    }
   ],
   "source": [
    "# functions can be nested in python\n",
    "\n",
    "def outer_function(player,runs):\n",
    "    print(\"outer function starts\")\n",
    "    def inner_function(runs):\n",
    "        print(\"inner function\",player,runs)\n",
    "        runs=10000\n",
    "        print(\"inner function\",player,runs)\n",
    "        return 99\n",
    "    jersey=inner_function(9999)\n",
    "    print(\"outer function ends\",jersey)\n",
    "    return \"india\"\n",
    "\n",
    "country=outer_function(\"sachin\",100)\n",
    "print(country)"
   ]
  },
  {
   "cell_type": "code",
   "execution_count": 69,
   "id": "846f0f29-3315-4229-8c0c-fed4b7687696",
   "metadata": {},
   "outputs": [
    {
     "name": "stdout",
     "output_type": "stream",
     "text": [
      "outer function starts nice\n",
      "inner function ibm\n",
      "outer function ends ibm\n",
      "outside everything vinsys\n"
     ]
    }
   ],
   "source": [
    "# scope of objects\n",
    "\n",
    "company=\"vinsys\" # global object\n",
    "\n",
    "def outer_function():\n",
    "    #global company\n",
    "    #nonlocal company\n",
    "    company=\"nice\" # local object\n",
    "    print(\"outer function starts\",company)\n",
    "    def inner_function():\n",
    "        nonlocal company\n",
    "        company=\"ibm\" # local object\n",
    "        print(\"inner function\",company)\n",
    "    inner_function()\n",
    "    print(\"outer function ends\",company)\n",
    "\n",
    "outer_function()\n",
    "print(\"outside everything\",company)"
   ]
  },
  {
   "cell_type": "code",
   "execution_count": 73,
   "id": "02635ce6-0809-413e-bec3-1620eaa23e24",
   "metadata": {},
   "outputs": [
    {
     "name": "stdout",
     "output_type": "stream",
     "text": [
      "<function foo at 0x000001B3A76DF560>\n"
     ]
    }
   ],
   "source": [
    "def foo():\n",
    "    print(\"foo called\")\n",
    "\n",
    "print(foo) # Note: Name of the function will print base address of the function # This is not a function call as no function call operator used!!!"
   ]
  },
  {
   "cell_type": "code",
   "execution_count": 77,
   "id": "4df7da4a-015a-4d12-adbd-fd90662aa2b3",
   "metadata": {},
   "outputs": [
    {
     "name": "stdout",
     "output_type": "stream",
     "text": [
      "foo called\n",
      "foo called\n"
     ]
    }
   ],
   "source": [
    "def foo():\n",
    "    print(\"foo called\")\n",
    "\n",
    "ref=foo\n",
    "ref() # generate a call using base address\n",
    "foo()"
   ]
  },
  {
   "cell_type": "code",
   "execution_count": 85,
   "id": "958e4a56-f6f4-4626-bd59-617b8b96e00d",
   "metadata": {},
   "outputs": [
    {
     "name": "stdout",
     "output_type": "stream",
     "text": [
      "foo called\n",
      "Address of bar is  <function bar at 0x000001B3A437A0C0>\n",
      "bar called 1000\n",
      "bar called 99\n",
      "<function bar at 0x000001B3A437A0C0>\n"
     ]
    }
   ],
   "source": [
    "def bar(runs):\n",
    "    print(\"bar called\",runs)\n",
    "    \n",
    "def foo(func): # Here func is holding address of bar function\n",
    "    print(\"foo called\")\n",
    "    print(\"Address of bar is \",func)\n",
    "    func(1000) # Here bar function is called using base address\n",
    "    bar(99) # This is direct call to bar function using name of the function\n",
    "\n",
    "foo(bar) # Here you are passing address of bar function\n",
    "print(bar)"
   ]
  },
  {
   "cell_type": "code",
   "execution_count": 109,
   "id": "60ce5f9a-33a4-49b4-8c85-a36d818fe6b2",
   "metadata": {},
   "outputs": [
    {
     "name": "stdout",
     "output_type": "stream",
     "text": [
      "hrishikesh redhat\n",
      "<function validate_user at 0x000001B3A7780CC0>\n",
      "<function monkey_patching at 0x000001B3A7782E80>\n",
      "<function monkey_patching at 0x000001B3A7782E80>\n",
      "You are fooled by a monkey!!! ('devadatta', 'microsoft') {'username': 'hrishikesh', 'password': 'redhat'}\n"
     ]
    }
   ],
   "source": [
    "def validate_user(username,password):\n",
    "    print(username,password)\n",
    "\n",
    "def monkey_patching(*args,**kwargs):\n",
    "    print(\"You are fooled by a monkey!!!\",args,kwargs)\n",
    "\n",
    "validate_user(\"hrishikesh\",\"redhat\")\n",
    "print(validate_user)\n",
    "print(monkey_patching)\n",
    "validate_user=monkey_patching\n",
    "print(validate_user)\n",
    "validate_user(\"devadatta\",\"microsoft\",username=\"hrishikesh\",password=\"redhat\")"
   ]
  },
  {
   "cell_type": "code",
   "execution_count": 115,
   "id": "aabbd225-c32e-461c-a510-0bdc1c1f9929",
   "metadata": {},
   "outputs": [
    {
     "name": "stdout",
     "output_type": "stream",
     "text": [
      "outer function starts\n",
      "outer function ends\n",
      "inner function\n"
     ]
    }
   ],
   "source": [
    "def outer_function():\n",
    "    print(\"outer function starts\")\n",
    "    def inner_function():\n",
    "        print(\"inner function\")\n",
    "    print(\"outer function ends\")\n",
    "    return inner_function # returning address of inner function\n",
    "\n",
    "ref=outer_function()\n",
    "ref() # call to inner function using base address of inner function!"
   ]
  },
  {
   "cell_type": "code",
   "execution_count": null,
   "id": "0c6c3257-d8f3-4ee1-bcd4-fc8252111835",
   "metadata": {},
   "outputs": [],
   "source": [
    "# decorators!  callbacks!"
   ]
  }
 ],
 "metadata": {
  "kernelspec": {
   "display_name": "Python 3 (ipykernel)",
   "language": "python",
   "name": "python3"
  },
  "language_info": {
   "codemirror_mode": {
    "name": "ipython",
    "version": 3
   },
   "file_extension": ".py",
   "mimetype": "text/x-python",
   "name": "python",
   "nbconvert_exporter": "python",
   "pygments_lexer": "ipython3",
   "version": "3.12.7"
  }
 },
 "nbformat": 4,
 "nbformat_minor": 5
}
