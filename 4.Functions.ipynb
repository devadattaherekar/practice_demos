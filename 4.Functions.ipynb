{
 "cells": [
  {
   "cell_type": "code",
   "execution_count": null,
   "id": "67000de7-46e8-4894-a1f7-0692628b113d",
   "metadata": {},
   "outputs": [],
   "source": [
    "# function taking no args \n",
    "# Note: Functions in python return None by default\n",
    "def function():\n",
    "    print(\"function definition\")\n",
    "\n",
    "function() # function call"
   ]
  },
  {
   "cell_type": "code",
   "execution_count": null,
   "id": "e1199677-b20b-4b26-ab08-81c583fa4138",
   "metadata": {},
   "outputs": [],
   "source": [
    "# Note: Every function can return only one value because return can return only one value\n",
    "def add(x,y): # function definition and x and y are parameters\n",
    "    # if type(y) is int:\n",
    "    #     return x+str(y)\n",
    "    return x+y\n",
    "    \n",
    "print(\"sum is\",add(100,200)) # function call # arguments are 100 and 200\n",
    "print(\"sum is\",add(3.4,2.2)) \n",
    "print(\"sum is\",add((2+5j),(7+9j))) \n",
    "print(\"sum is\",add(\"sachin\",\"sehwag\")) \n",
    "#print(\"sum is\",add(\"sachin\",10))"
   ]
  },
  {
   "cell_type": "code",
   "execution_count": null,
   "id": "2834982e-0438-4bc2-9774-fec86c297ce8",
   "metadata": {},
   "outputs": [],
   "source": [
    "# Here state is parameter and values are on/off arguments\n",
    "# state=on,off\n",
    "# level=beginner,intermeditate,expert\n",
    "# gender=male,female"
   ]
  },
  {
   "cell_type": "code",
   "execution_count": null,
   "id": "ac61973a-6c94-491a-adb4-cfc00865bcca",
   "metadata": {},
   "outputs": [],
   "source": [
    "# pass keyword is used to create empty functions or class\n",
    "def foo():\n",
    "    pass\n",
    "\n",
    "foo()"
   ]
  },
  {
   "cell_type": "code",
   "execution_count": null,
   "id": "ad463df9-7a54-4a22-b93a-3a8dd10e0ff8",
   "metadata": {},
   "outputs": [],
   "source": [
    "def cricketer(): \n",
    "    return 10,\"sachin\",\"india\",100,56.78\n",
    "\n",
    "print(cricketer())\n",
    "\n",
    "jersey,player,country,runs,average=cricketer()\n",
    "print(jersey,player,country,runs,average)\n",
    "\n",
    "for values in cricketer(): # unpacking a tuple bez cricketer \n",
    "    print(values,end=\" \")"
   ]
  },
  {
   "cell_type": "code",
   "execution_count": null,
   "id": "9bfec8dc-b422-46e9-b689-f7de6b227be0",
   "metadata": {},
   "outputs": [],
   "source": [
    "def add(x,y):\n",
    "    return x+y,x-y,x*y\n",
    "\n",
    "total,diff,prod=add(10,20)\n",
    "print(total,diff,prod)"
   ]
  },
  {
   "cell_type": "code",
   "execution_count": null,
   "id": "5c3608b9-5d8c-4275-9989-c9414c117629",
   "metadata": {},
   "outputs": [],
   "source": [
    "# only trailing arguments can be defaulted \n",
    "# default parameters go from right to left else SyntaxError\n",
    "# default parameters are given in function definition not in function call\n",
    "# default arguments are used when not all arguments needs to be passed during function call\n",
    "def add(x,y=0): # Here y=0 is default arugument!\n",
    "    return x+y\n",
    "\n",
    "#print(add())\n",
    "print(add(100))\n",
    "print(add(\"sachin\",\"sehwag\"))\n",
    "print(add(100,200)) # unnamed argument\n",
    "print(add(x=1000,y=2000)) # kwargs"
   ]
  },
  {
   "cell_type": "code",
   "execution_count": null,
   "id": "88263290-d9b3-4b59-bce0-7fb21f9d8581",
   "metadata": {},
   "outputs": [],
   "source": [
    "def movie_details(actor=\"***\",year=0,movie=\"___\"): # default arguments\n",
    "    print(f\"{actor} acts in {movie} released in year {year}\")\n",
    "\n",
    "movie_details(\"russel crowe\",2000,\"beautiful mind\") # unnamed arguments\n",
    "movie_details(movie=\"braveheart\",actor=\"mel gibson\",year=1990) # kwargs or named arguments\n",
    "# kwargs or named arguments can be passed in any order and also readability of code!\n",
    "movie_details()"
   ]
  },
  {
   "cell_type": "code",
   "execution_count": null,
   "id": "e96642ae-ddb4-4730-b82e-dab55363712a",
   "metadata": {},
   "outputs": [],
   "source": [
    "# Note * in function definition will create a tuple which can hold multiple arguments\n",
    "def multiple_args(*args):\n",
    "    print(args,type(args))\n",
    "    for each_val in args: # use for to unpack tuple!\n",
    "        print(each_val,end=\" \")\n",
    "\n",
    "multiple_args(1,2,3,4,5)"
   ]
  },
  {
   "cell_type": "code",
   "execution_count": null,
   "id": "86e798c6-1da7-4e6d-b62f-9d2837f7e330",
   "metadata": {},
   "outputs": [],
   "source": [
    "# Note: return will help to cascade function calls!\n",
    "def add(x,y):\n",
    "    return x+y\n",
    "\n",
    "#add(10,20)\n",
    "print(add(add(add(10,20),30),40)) # cascading function call"
   ]
  },
  {
   "cell_type": "code",
   "execution_count": null,
   "id": "39227792-b108-48f7-8e43-b79d3ec9f842",
   "metadata": {},
   "outputs": [],
   "source": [
    "# create a tuple to hold multiple unamed args \n",
    "def add(*args):\n",
    "    #print(args,type(args))\n",
    "    total=0\n",
    "    for each_val in args:\n",
    "        total+=each_val\n",
    "    return total\n",
    "\n",
    "print(add())\n",
    "print(add(100))\n",
    "print(add(10,20))\n",
    "print(add(1,2,3,4,5))"
   ]
  },
  {
   "cell_type": "code",
   "execution_count": null,
   "id": "86bd96c3-6cc8-4027-b322-bda7889e2a7a",
   "metadata": {},
   "outputs": [],
   "source": [
    "# Here ** creates a dict which can hold multiple kwargs or named args\n",
    "def function(**args):\n",
    "    print(args,type(args))\n",
    "\n",
    "function(var1=1000,var2=2000) # kwargs / named arguments"
   ]
  },
  {
   "cell_type": "code",
   "execution_count": null,
   "id": "76cd761b-ab06-4ce6-9f31-9da0ffe39e7c",
   "metadata": {},
   "outputs": [],
   "source": [
    "def function(*args,**kwargs):\n",
    "    print(args,type(args))\n",
    "    print(kwargs,type(kwargs))\n",
    "    \n",
    "function(var1=1000,var2=2000) # kwargs / named arguments\n",
    "function(1000,2000) #unamed args\n",
    "function(10,20,var1=1000,var2=2000) # mix of both unnamed args as well as kwargs\n",
    "#function(var1=1000,var2=2000,1,2,3)  # SyntaxError: positional argument follows keyword argument"
   ]
  },
  {
   "cell_type": "code",
   "execution_count": null,
   "id": "25b36635-ed8f-40e0-98f7-c5997192f89a",
   "metadata": {},
   "outputs": [],
   "source": [
    "def add(*args,**kwargs):\n",
    "    #print(args,type(args))\n",
    "    total=0\n",
    "    for each_val in args:\n",
    "        total+=each_val\n",
    "    for name,each_val in kwargs.items():\n",
    "        total+=each_val\n",
    "    return total\n",
    "\n",
    "print(add()) # no args\n",
    "print(add(100))\n",
    "print(add(10,20))\n",
    "print(add(1,2,3,4,5)) # unamed args\n",
    "print(add(var1=100)) # kwargs\n",
    "print(add(x=10,y=20)) # kwargs\n",
    "print(add(1,2,3,var_1=4,var_2=5)) # mix of both"
   ]
  },
  {
   "cell_type": "code",
   "execution_count": null,
   "id": "600998c7-19f3-4fc4-a68f-758847271fe7",
   "metadata": {},
   "outputs": [],
   "source": [
    "# Note: There is no tuple comprehension as it becomes a generator!!!"
   ]
  },
  {
   "cell_type": "code",
   "execution_count": null,
   "id": "31217647-e668-4d8c-b158-2e3bcd79a454",
   "metadata": {},
   "outputs": [],
   "source": [
    "# Package is collection of different types of files\n",
    "# .py files (source files) which are modules / binaries .exe / libraries .dll/.lib / documentation (help) \n",
    "# pip --help\n",
    "# pip install virtualenv \n",
    "# mkdir <project>\n",
    "# virtualenv <project>\n",
    "# Run <project>/scripts/activate.bat\n",
    "# pip list \n",
    "# pip install <package>\n",
    "# pip freeze > requirements.txt\n",
    "# Run <project>/scripts/deactivate.bat\n",
    "# cd ..\n",
    "# pip install -r requirements.txt"
   ]
  },
  {
   "cell_type": "code",
   "execution_count": null,
   "id": "586662e7-cfa7-488b-bd53-4d46d7fd2eb4",
   "metadata": {},
   "outputs": [],
   "source": [
    "# uv is very fast and light weight\n",
    "# pip install uv\n",
    "# uv init <project> --app / --lib # will create .toml\n",
    "# uv add <package==version>  # will create .lock\n",
    "# uv remove <package>\n",
    "# uv pip freeze > requirements \n",
    "# uv add -r requirements \n",
    "# uv sync \n",
    "# uv run main.py # will create .venv and install packages / activate or deactivate automatically!\n",
    "# uv python find \n",
    "# uv python list\n",
    "# uv python install 3.13\n",
    "# uv add --script <script> --with <pockage>\n",
    "# uv tool install/uninstall <ruff>\n",
    "# uv tool run ruff check\n",
    "# uvx ruff check # without installing ruff tool you can use it using uvx command"
   ]
  },
  {
   "cell_type": "code",
   "execution_count": null,
   "id": "80ee583c-a379-4fb3-ae12-fdaae980aa94",
   "metadata": {},
   "outputs": [],
   "source": [
    "# import <module> \n",
    "# import <module> as <alias>\n",
    "# from <package.subpackage> import <module> as <alias>\n",
    "# import <package.subpackage.module> as <alias>\n",
    "# Note: Never import everything from module\n",
    "# from <module> import <identifier> / <everything> *"
   ]
  },
  {
   "cell_type": "code",
   "execution_count": null,
   "id": "420f96ea-2761-4dd2-94e7-97e631b102d1",
   "metadata": {},
   "outputs": [],
   "source": [
    "# functions can be nested in python\n"
   ]
  },
  {
   "cell_type": "code",
   "execution_count": null,
   "id": "0f68380a-ce9c-435e-b501-32c86bf357b3",
   "metadata": {},
   "outputs": [],
   "source": [
    "import time\n",
    "\n",
    "def factorial(num):\n",
    "    fact=1\n",
    "    while num > 0:\n",
    "        fact*=num\n",
    "        num-=1\n",
    "    return fact\n",
    "\n",
    "#start=time.time()\n",
    "#print(start)\n",
    "print(factorial(5))\n",
    "#print(\"Time taken to execute \",time.time()-start)"
   ]
  },
  {
   "cell_type": "code",
   "execution_count": null,
   "id": "ec38b9bc-141d-43f2-a0d1-c46e6d1082de",
   "metadata": {},
   "outputs": [],
   "source": [
    "def factorial(num):\n",
    "    if num==0:\n",
    "        return 1\n",
    "    else:\n",
    "        return num*factorial(num-1)\n",
    "\n",
    "#start=time.time()\n",
    "#print(start)\n",
    "print(factorial(5))\n",
    "#print(\"Time taken to execute \",time.time()-start)"
   ]
  },
  {
   "cell_type": "code",
   "execution_count": null,
   "id": "8fdcac15-024d-46cb-b88c-652fa4586fc1",
   "metadata": {},
   "outputs": [],
   "source": [
    "# generator function \n",
    "def function():\n",
    "    yield 10\n",
    "    print(\"Hello\")\n",
    "    yield 20\n",
    "    print(\"bye\")\n",
    "    yield 30\n",
    "    print(\"Good morning\")\n",
    "\n",
    "print(function())\n",
    "#print(list(function()))\n",
    "#print(tuple(function()))\n",
    "#print(set(function()))\n",
    "\n",
    "# rec=function()\n",
    "# print(next(rec))\n",
    "# print(next(rec))\n",
    "# print(next(rec))\n",
    "#print(next(rec)) # StopIteration as the generator is exhausted!    \n",
    "\n",
    "for num in function():\n",
    "    print(num,end=\" \")\n"
   ]
  },
  {
   "cell_type": "code",
   "execution_count": null,
   "id": "27b87f4e-746e-4595-bb5d-fc356877e882",
   "metadata": {},
   "outputs": [],
   "source": [
    "def print_infinite_numbers():\n",
    "    counter=1\n",
    "    while True:\n",
    "        yield counter     \n",
    "        counter+=1  # Note: control resumes from line 5 in next call to generator function\n",
    "\n",
    "#print(print_infinite_numbers())\n",
    "\n",
    "\n",
    "gen_num=print_infinite_numbers()\n",
    "print(next(gen_num))\n",
    "print(next(gen_num))\n",
    "print(next(gen_num))\n",
    "\n",
    "#print(list(print_infinite_numbers()))\n",
    "#for num in print_infinite_numbers():\n",
    "    #print(num,end=\" \")"
   ]
  },
  {
   "cell_type": "code",
   "execution_count": null,
   "id": "74ce72c5-795c-4d0c-9f02-33c05faf2726",
   "metadata": {},
   "outputs": [],
   "source": [
    "def list_evens(count):\n",
    "    evens=[]\n",
    "    counter=1\n",
    "    num=1\n",
    "    while counter<count:\n",
    "        if num%2==0:\n",
    "            evens.append(num)\n",
    "            counter+=1\n",
    "        num+=1\n",
    "    print(sys.getsizeof(evens))\n",
    "    return evens\n",
    "       \n",
    "print(list_evens(100))"
   ]
  },
  {
   "cell_type": "code",
   "execution_count": null,
   "id": "eb6b39da-cf4a-4c74-9a06-f0d61610d362",
   "metadata": {},
   "outputs": [],
   "source": [
    "import sys\n",
    "def gen_evens(count):\n",
    "    counter=1\n",
    "    num=1\n",
    "    while counter<count:\n",
    "        if num%2==0:\n",
    "            yield num\n",
    "            counter+=1\n",
    "        num+=1\n",
    "        \n",
    "print(gen_evens(10)) # Note: you cannot print values from generator unlike functions use 3 ways to access values\n",
    "num=gen_evens(10)\n",
    "print(next(num))\n",
    "print(next(num))\n",
    "#print(sys.getsizeof(gen_evens))"
   ]
  },
  {
   "cell_type": "code",
   "execution_count": null,
   "id": "3b220ef4-0289-401b-8d0b-f534ad2ef3f8",
   "metadata": {},
   "outputs": [],
   "source": [
    "def gen_infinite_evens():\n",
    "    num=1\n",
    "    while True:\n",
    "        if num%2==0:\n",
    "            yield num\n",
    "        num+=1\n",
    "        \n",
    "num=gen_infinite_evens()\n",
    "print(next(num))\n",
    "print(next(num))\n",
    "print(next(num))\n",
    "print(next(num))\n",
    "print(next(num))"
   ]
  },
  {
   "cell_type": "code",
   "execution_count": null,
   "id": "427c00de-0e98-44e0-9161-a490f87cedef",
   "metadata": {},
   "outputs": [],
   "source": [
    "def gen_evens(count):\n",
    "    counter=1\n",
    "    num=1\n",
    "    while counter<count:\n",
    "        if num%2==0:\n",
    "            yield num\n",
    "            counter+=1\n",
    "        num+=1\n",
    "        \n",
    "print(gen_evens(10)) # Note: you cannot print values from generator unlike functions use 3 ways to access values\n",
    "for num in gen_evens(10):\n",
    "    print(num,end=\" \")\n",
    "\n",
    "print(\" \")\n",
    "gen_evens=(num for num in range(1,20) if num%2==0) # pythonic way to create generator!\n",
    "for num in gen_evens:\n",
    "    print(num,end=\" \")"
   ]
  },
  {
   "cell_type": "code",
   "execution_count": null,
   "id": "e9519f79-0899-48ee-8334-47498edaa9bd",
   "metadata": {},
   "outputs": [],
   "source": [
    "# 0 1 2 3 5 8 ...\n",
    "def finonacii(count):\n",
    "    fibo=[]\n",
    "    f1=0\n",
    "    f2=1\n",
    "    while count>=1:\n",
    "        fibo.append(f1)\n",
    "        f1,f2=f2,f1+f2\n",
    "        count-=1\n",
    "    return fibo\n",
    "       \n",
    "print(finonacii(10))"
   ]
  },
  {
   "cell_type": "code",
   "execution_count": null,
   "id": "b6ac6654-f472-45f4-aa11-be2435af2b43",
   "metadata": {},
   "outputs": [],
   "source": [
    "def finonacii(count):\n",
    "    f1=0\n",
    "    f2=1\n",
    "    while count>=1:\n",
    "        yield f1\n",
    "        f1,f2=f2,f1+f2\n",
    "        count-=1\n",
    "       \n",
    "print(sum(finonacii(10)))\n",
    "for each_num in finonacii(10): # fibonacci is a generator function!\n",
    "    print(each_num,end=\" \")"
   ]
  },
  {
   "cell_type": "code",
   "execution_count": null,
   "id": "0864acc1-54a8-46ca-a20f-b3facfaa9391",
   "metadata": {},
   "outputs": [],
   "source": [
    "company=\"vinsys\"\n",
    "ref=iter(company)\n",
    "print(next(ref))\n",
    "print(next(ref))\n",
    "print(next(ref))\n",
    "for letter in company:\n",
    "    print(letter,end=\" \")"
   ]
  },
  {
   "cell_type": "code",
   "execution_count": null,
   "id": "d0482d43-1ac0-47bf-b0a3-39eedba4eb77",
   "metadata": {},
   "outputs": [],
   "source": [
    "mytuple=(\"vinsys\",\"vikvins\") # tuple #iterable!\n",
    "ref=iter(mytuple) \n",
    "print(next(ref))\n",
    "print(next(ref))\n",
    "gen1=(each_company for each_company in mylist) # generator\n",
    "ref=iter(gen1) \n",
    "print(next(ref))\n",
    "print(next(ref))"
   ]
  },
  {
   "cell_type": "code",
   "execution_count": null,
   "id": "7d23cc33-a535-419e-9bfe-50bd369d1e58",
   "metadata": {},
   "outputs": [],
   "source": [
    "# functions can be nested in python\n",
    "\n",
    "def outer_function(player,runs):\n",
    "    print(\"outer function starts\")\n",
    "    def inner_function(runs):\n",
    "        print(\"inner function\",player,runs)\n",
    "        runs=10000\n",
    "        print(\"inner function\",player,runs)\n",
    "        return 99\n",
    "    jersey=inner_function(9999)\n",
    "    print(\"outer function ends\",jersey)\n",
    "    return \"india\"\n",
    "\n",
    "country=outer_function(\"sachin\",100)\n",
    "print(country)"
   ]
  },
  {
   "cell_type": "code",
   "execution_count": null,
   "id": "846f0f29-3315-4229-8c0c-fed4b7687696",
   "metadata": {},
   "outputs": [],
   "source": [
    "# scope of objects\n",
    "\n",
    "company=\"vinsys\" # global object\n",
    "\n",
    "def outer_function():\n",
    "    #global company\n",
    "    #nonlocal company\n",
    "    company=\"nice\" # local object\n",
    "    print(\"outer function starts\",company)\n",
    "    def inner_function():\n",
    "        nonlocal company\n",
    "        company=\"ibm\" # local object\n",
    "        print(\"inner function\",company)\n",
    "    inner_function()\n",
    "    print(\"outer function ends\",company)\n",
    "\n",
    "outer_function()\n",
    "print(\"outside everything\",company)"
   ]
  },
  {
   "cell_type": "code",
   "execution_count": null,
   "id": "02635ce6-0809-413e-bec3-1620eaa23e24",
   "metadata": {},
   "outputs": [],
   "source": [
    "def foo():\n",
    "    print(\"foo called\")\n",
    "\n",
    "print(foo) # Note: Name of the function will print base address of the function # This is not a function call as no function call operator used!!!"
   ]
  },
  {
   "cell_type": "code",
   "execution_count": null,
   "id": "4df7da4a-015a-4d12-adbd-fd90662aa2b3",
   "metadata": {},
   "outputs": [],
   "source": [
    "def foo():\n",
    "    print(\"foo called\")\n",
    "\n",
    "ref=foo\n",
    "ref() # generate a call using base address\n",
    "foo()"
   ]
  },
  {
   "cell_type": "code",
   "execution_count": null,
   "id": "958e4a56-f6f4-4626-bd59-617b8b96e00d",
   "metadata": {},
   "outputs": [],
   "source": [
    "def bar(runs):\n",
    "    print(\"bar called\",runs)\n",
    "    \n",
    "def foo(func): # Here func is holding address of bar function\n",
    "    print(\"foo called\")\n",
    "    print(\"Address of bar is \",func)\n",
    "    func(1000) # Here bar function is called using base address\n",
    "    bar(99) # This is direct call to bar function using name of the function\n",
    "\n",
    "foo(bar) # Here you are passing address of bar function\n",
    "print(bar)"
   ]
  },
  {
   "cell_type": "code",
   "execution_count": null,
   "id": "60ce5f9a-33a4-49b4-8c85-a36d818fe6b2",
   "metadata": {},
   "outputs": [],
   "source": [
    "def validate_user(username,password):\n",
    "    print(username,password)\n",
    "\n",
    "def monkey_patching(*args,**kwargs):\n",
    "    print(\"You are fooled by a monkey!!!\",args,kwargs)\n",
    "\n",
    "validate_user(\"hrishikesh\",\"redhat\")\n",
    "print(validate_user)\n",
    "print(monkey_patching)\n",
    "validate_user=monkey_patching\n",
    "print(validate_user)\n",
    "validate_user(\"devadatta\",\"microsoft\",username=\"hrishikesh\",password=\"redhat\")"
   ]
  },
  {
   "cell_type": "code",
   "execution_count": null,
   "id": "aabbd225-c32e-461c-a510-0bdc1c1f9929",
   "metadata": {},
   "outputs": [],
   "source": [
    "def outer_function():\n",
    "    print(\"outer function starts\")\n",
    "    def inner_function():\n",
    "        print(\"inner function\")\n",
    "    print(\"outer function ends\")\n",
    "    return inner_function # returning address of inner function\n",
    "\n",
    "ref=outer_function()\n",
    "ref() # call to inner function using base address of inner function!"
   ]
  },
  {
   "cell_type": "code",
   "execution_count": null,
   "id": "0c6c3257-d8f3-4ee1-bcd4-fc8252111835",
   "metadata": {},
   "outputs": [],
   "source": [
    "# decorators!  callbacks!"
   ]
  },
  {
   "cell_type": "code",
   "execution_count": null,
   "id": "cf7c59ca-ea56-44a3-aa9f-fc14516344d7",
   "metadata": {},
   "outputs": [],
   "source": [
    "# Note: A decorator is a function which takes address of the function to be decorated\n",
    "# and always returns address of the wrapper function through which indirect call to actual\n",
    "# function happens. With decorator direct calls to the functions are protected.\n",
    "# Functions can only be called indirectly through decorator function only!\n",
    "\n",
    "def greet_user(func): # Here func is holding address of username function\n",
    "    def wrapper(*args,**kwargs): # wrapper can hold any number of args\n",
    "        print(\"Have a nice day !!\",end=\" \")\n",
    "        return func() # Here indirect call to username function happens!\n",
    "    return wrapper # Here greet_user function is returning address of wrapper function\n",
    "\n",
    "@greet_user\n",
    "def username():\n",
    "    return  \"hrishikesh\"\n",
    "    \n",
    "@greet_user   \n",
    "def custom_user():\n",
    "    return  \"devadatta\"\n",
    "\n",
    "print(username())\n",
    "#username=greet_user(username)\n",
    "print(custom_user()) # Here wrapper function is called and not calling username() function"
   ]
  },
  {
   "cell_type": "code",
   "execution_count": null,
   "id": "bd58dc38-1e39-4807-a4d0-5670ff9c3e26",
   "metadata": {},
   "outputs": [],
   "source": [
    "def divide(x,y):\n",
    "    return x/y\n",
    "\n",
    "print(divide(10,3))\n",
    "try:\n",
    "    print(divide(10,0))\n",
    "except:\n",
    "    print(\"Cannot divide by Zero\")"
   ]
  },
  {
   "cell_type": "code",
   "execution_count": null,
   "id": "ed0d5686-3c9b-4f1b-9938-79caf2eb2fbd",
   "metadata": {},
   "outputs": [],
   "source": [
    "def divide(x,y):\n",
    "    if y==0:\n",
    "        return \"Cannot divide by zero\"\n",
    "    return x/y\n",
    "\n",
    "print(divide(10,3))\n",
    "print(divide(10,0))"
   ]
  },
  {
   "cell_type": "code",
   "execution_count": null,
   "id": "91589204-85f7-47c7-9937-d1c2aa107523",
   "metadata": {},
   "outputs": [],
   "source": [
    "def divide_decorator(funcp): # funcp is holding address of divide function\n",
    "    def wrapper(x,y):\n",
    "        if y==0:\n",
    "            return \"Cannot divide by zero\"\n",
    "        return funcp(x,y) # This is indirect call to divide function using base adddress\n",
    "    return wrapper # divide decorator must return address of wrapper function\n",
    "\n",
    "@divide_decorator\n",
    "def divide(x,y):\n",
    "    return x/y\n",
    "\n",
    "print(divide(10,3))\n",
    "print(divide(10,0))"
   ]
  },
  {
   "cell_type": "code",
   "execution_count": null,
   "id": "049a0048-a9fd-49ac-ad81-8219b2414e19",
   "metadata": {},
   "outputs": [],
   "source": [
    "admin_users=[\"root\",\"adminstrator\",\"admin\"]\n",
    "\n",
    "username=input(\"Enter username\")\n",
    "\n",
    "def admin_credentails(funcp):\n",
    "    def wrapper(*args):\n",
    "        if username in admin_users:\n",
    "            return funcp()\n",
    "        return \"Cannot create user using Guest privileges... Please enter admin credentials!\"\n",
    "    return wrapper\n",
    "\n",
    "@admin_credentails\n",
    "def create_user():\n",
    "    return \"user is created...\"\n",
    "\n",
    "@admin_credentails\n",
    "def create_partitions():\n",
    "    return \"partitions can be created...\"\n",
    "    \n",
    "print(create_user())\n",
    "#create_partitions=admin_credentails(create_partitions)\n",
    "print(create_partitions())"
   ]
  },
  {
   "cell_type": "code",
   "execution_count": null,
   "id": "82234cd8-41ae-4a1a-b9ad-612f5a4eecd1",
   "metadata": {},
   "outputs": [],
   "source": [
    "# create a decorator to check time taken by any function to execute\n",
    "import time\n",
    "\n",
    "def check_time(funcp):\n",
    "    def time_wrapper(*args,**kwargs):\n",
    "        start=time.time()\n",
    "        funcp(*args,**kwargs)\n",
    "        print(f\"time taken by {funcp.__name__} is {time.time()-start}\")\n",
    "    return time_wrapper\n",
    "\n",
    "@check_time\n",
    "def function1():\n",
    "    time.sleep(2)\n",
    "   \n",
    "@check_time   \n",
    "def function2():\n",
    "    time.sleep(5)\n",
    "    \n",
    "function1()\n",
    "function2()"
   ]
  },
  {
   "cell_type": "code",
   "execution_count": null,
   "id": "57df9ef0-7f3c-4d45-8d59-a8e2a4beba8a",
   "metadata": {},
   "outputs": [],
   "source": [
    "def add(*args): # [(1,2,3,4,5)]\n",
    "    total=0\n",
    "    for num in args:\n",
    "        for val in num: # (1,2,3,4,5)\n",
    "            total+=val #1,2,3,4,5\n",
    "    return total\n",
    "\n",
    "def check(*args):\n",
    "    print(\"check called\")\n",
    "    return add(args) # (1,2,3,4,5)\n",
    "\n",
    "print(add((1,2,3,4,5)))\n",
    "#print(add(100,200))\n",
    "print(check(1,2,3,4,5))"
   ]
  },
  {
   "cell_type": "code",
   "execution_count": null,
   "id": "d2680565-9de4-419f-998b-1fff96564551",
   "metadata": {},
   "outputs": [],
   "source": [
    "def add(*args): \n",
    "    total=0\n",
    "    for num in args:\n",
    "        total+=num \n",
    "    return total\n",
    "\n",
    "def check(*args): # (1,2,3,4,5)\n",
    "    print(\"check called\")\n",
    "    return add(*args) # use * to unpack the collection in function call # 1,2,3,4,5\n",
    "\n",
    "print(add(1,2,3,4,5))\n",
    "print(check(1,2,3,4,5))"
   ]
  },
  {
   "cell_type": "code",
   "execution_count": null,
   "id": "39727a40-887d-43bd-b739-0ade74b13e45",
   "metadata": {},
   "outputs": [],
   "source": [
    "list1=[10,20,30]\n",
    "\n",
    "print(list1[0],list1[1],list1[2]) # unpacking collection\n",
    "\n",
    "var1,var2,var3=list1 # unpacking collection # all values but readability is increased\n",
    "print(var1,var2,var3)\n",
    "\n",
    "for num in list1:  # unpacking entire collection\n",
    "    print(num,end=\" \")\n",
    "\n",
    "print(\" \")\n",
    "\n",
    "ref=iter(list1)\n",
    "print(next(ref),end=\" \") # unpack one value from collection!\n",
    "print(next(ref),end=\" \")\n",
    "print(next(ref),end=\" \")\n",
    "\n",
    "print(\" \")\n",
    "\n",
    "def fun(x,y,z):\n",
    "    print(x,y,z)\n",
    "\n",
    "fun(*list1) # 10,20,30 # unpacked the collection in function call when api cannot be changed!"
   ]
  },
  {
   "cell_type": "code",
   "execution_count": 11,
   "id": "a6224fe8-87a6-467e-abb2-749ebac185e0",
   "metadata": {},
   "outputs": [
    {
     "name": "stdout",
     "output_type": "stream",
     "text": [
      "connecting to database...\n",
      "(10, 5, 2)\n",
      "using temporary database...\n",
      "(10, 5, 2)\n",
      "using temporary database...\n",
      "(10, 5, 2)\n"
     ]
    }
   ],
   "source": [
    "import time\n",
    "\n",
    "temp_database=[]\n",
    "\n",
    "def cache_values(funcp):\n",
    "    def wrapper_temp_database(*args):\n",
    "        if args in temp_database:\n",
    "            print(\"using temporary database...\")\n",
    "            return args\n",
    "        result=funcp(*args)\n",
    "        temp_database.append(result)\n",
    "        return result\n",
    "    return wrapper_temp_database\n",
    "\n",
    "\n",
    "@cache_values\n",
    "def connect_database(*args):\n",
    "    print(\"connecting to database...\")\n",
    "    time.sleep(5)\n",
    "    return args\n",
    "\n",
    "print(connect_database(10,5,2))\n",
    "print(connect_database(10,5,2))\n",
    "print(connect_database(10,5,2))"
   ]
  },
  {
   "cell_type": "code",
   "execution_count": 19,
   "id": "4d326127-b820-453c-8c43-feda83087886",
   "metadata": {},
   "outputs": [
    {
     "name": "stdout",
     "output_type": "stream",
     "text": [
      "200\n"
     ]
    }
   ],
   "source": [
    "def decor1(funcp):\n",
    "    def wrapper():\n",
    "        return funcp()*10 \n",
    "    return wrapper\n",
    "\n",
    "def decor2(funcp):\n",
    "    def wrapper():\n",
    "        return funcp()+10\n",
    "    return wrapper\n",
    "\n",
    "# Note: decor2 is applied first and then decor1\n",
    "@decor1\n",
    "@decor2\n",
    "def num():\n",
    "    return 10\n",
    "\n",
    "print(num())"
   ]
  },
  {
   "cell_type": "code",
   "execution_count": 29,
   "id": "3e5c0d4c-6182-406f-a4c7-6be34d1f954a",
   "metadata": {},
   "outputs": [
    {
     "name": "stdout",
     "output_type": "stream",
     "text": [
      "hello\n",
      "Bye\n",
      "python\n",
      "200\n"
     ]
    }
   ],
   "source": [
    "def decor1(funcp):\n",
    "    def wrapper():\n",
    "        print(\"hello\")\n",
    "        return funcp()*10 \n",
    "    return wrapper\n",
    "\n",
    "def decor2(funcp):\n",
    "    def wrapper():\n",
    "        print(\"Bye\")\n",
    "        return funcp()+10\n",
    "    return wrapper\n",
    "\n",
    "# Note: decor2 is applied first and then decor1\n",
    "@decor1\n",
    "@decor2\n",
    "def num():\n",
    "    print(\"python\")\n",
    "    return 10\n",
    "\n",
    "print(num())"
   ]
  },
  {
   "cell_type": "code",
   "execution_count": 67,
   "id": "a125c8b1-eacd-4c81-9726-7c26a9f3a6d3",
   "metadata": {},
   "outputs": [
    {
     "name": "stdout",
     "output_type": "stream",
     "text": [
      "function called\n",
      "function called\n",
      "function called\n"
     ]
    }
   ],
   "source": [
    "# decorator with arguments\n",
    "def repeat(num):\n",
    "    def decorator(funcp):\n",
    "        def wrapper(*args,**kwargs):\n",
    "            for _ in range(num):\n",
    "                funcp(*args)\n",
    "        return wrapper\n",
    "    return decorator\n",
    "\n",
    "@repeat(3)\n",
    "def function(*args):\n",
    "    print(\"function called\")\n",
    "\n",
    "function(1,2,3,4,5)"
   ]
  },
  {
   "cell_type": "code",
   "execution_count": 77,
   "id": "7cbf5bff-478a-4f98-85f2-dbee0eeff618",
   "metadata": {},
   "outputs": [
    {
     "name": "stdout",
     "output_type": "stream",
     "text": [
      "Function called\n",
      "Function called\n",
      "Function called\n"
     ]
    }
   ],
   "source": [
    "# lambda functions are anonymous functions in python\n",
    "\n",
    "def function():\n",
    "    print(\"Function called\")\n",
    "\n",
    "function()\n",
    "\n",
    "(lambda:print(\"Function called\"))()\n",
    "\n",
    "ref=(lambda:print(\"Function called\"))\n",
    "ref() # call lambda "
   ]
  },
  {
   "cell_type": "code",
   "execution_count": 85,
   "id": "01950c29-e3cf-471e-a13a-4e6f53eb8165",
   "metadata": {},
   "outputs": [
    {
     "name": "stdout",
     "output_type": "stream",
     "text": [
      "30\n",
      "300\n",
      "3000\n"
     ]
    }
   ],
   "source": [
    "def add(x,y):\n",
    "    return x+y\n",
    "\n",
    "print(add(10,20))\n",
    "# ref=(lambda parameters: body of lambda)\n",
    "# use function call operator on ref \n",
    "# ref(arguments)\n",
    "\n",
    "ref=(lambda x,y:x+y)\n",
    "print(ref(100,200))\n",
    "\n",
    "print((lambda x,y:x+y)(1000,2000))"
   ]
  },
  {
   "cell_type": "code",
   "execution_count": 111,
   "id": "454f74cd-da9d-4fc0-abf9-3599c76b0403",
   "metadata": {},
   "outputs": [
    {
     "name": "stdout",
     "output_type": "stream",
     "text": [
      "<filter object at 0x00000245399D68C0>\n",
      "tcs tata technologies tieto  \n",
      "tcs\n",
      "tata technologies\n",
      "tieto\n",
      " \n",
      "['tcs', 'tata technologies', 'tieto']\n",
      "{'tata technologies', 'tcs', 'tieto'}\n",
      "['tcs', 'tata technologies', 'tieto']\n"
     ]
    }
   ],
   "source": [
    "companies=[\"tcs\",\"wipro\",\"accenture\",\"atos\",\"ibm\",\"vodafone\",\"tata technologies\",\"tieto\"]\n",
    "\n",
    "def check_companies(company):\n",
    "    return company.startswith('t')\n",
    "\n",
    "# filter is a generator which takes 2 arguments \n",
    "# first argument is address of function which returns True/False\n",
    "# second argument is iterable / collection\n",
    "\n",
    "print(filter(check_companies,companies)) # traditional programs\n",
    "for each_company in filter(check_companies,companies):\n",
    "    print(each_company,end=\" \")\n",
    "print(\" \")\n",
    "ref=filter(lambda company:company.startswith('t'),companies)\n",
    "print(next(ref))\n",
    "print(next(ref))\n",
    "print(next(ref))\n",
    "print(\" \")\n",
    "print(list(filter(check_companies,companies)))\n",
    "print(set(filter(check_companies,companies)))\n",
    "\n",
    "\n",
    "def myfilter(funcp,company_iterable):\n",
    "    for each_company in company_iterable:\n",
    "         if funcp(each_company):\n",
    "             yield each_company\n",
    "\n",
    "print(list(myfilter(lambda company:company.startswith('t'),companies))) "
   ]
  },
  {
   "cell_type": "code",
   "execution_count": 117,
   "id": "f6cf7751-27b2-47ea-9bc6-3b55907807e4",
   "metadata": {},
   "outputs": [
    {
     "name": "stdout",
     "output_type": "stream",
     "text": [
      "<map object at 0x0000024538D93B80>\n",
      "1 4 9 16 25 36 49 64 81 100  \n",
      "1 4 9 16 25 36 49 64 81 100 "
     ]
    }
   ],
   "source": [
    "numbers=[1,2,3,4,5,6,7,8,9,10]\n",
    "\n",
    "def squares(num):\n",
    "    return num*num\n",
    "\n",
    "# Note: map is a generator which takes 2 arugments\n",
    "# first argument is address of function which returns any value!\n",
    "# second argument is iterable / collection\n",
    "print(map(squares,numbers))\n",
    "\n",
    "for value in map(squares,numbers):\n",
    "    print(value,end=\" \")\n",
    "\n",
    "print(\" \")\n",
    "gen1=(num*num for num in numbers)\n",
    "for value in gen1:\n",
    "    print(value,end=\" \")"
   ]
  },
  {
   "cell_type": "code",
   "execution_count": 125,
   "id": "c49ad38c-795a-4593-8961-644536804603",
   "metadata": {},
   "outputs": [
    {
     "name": "stdout",
     "output_type": "stream",
     "text": [
      "virat rohit bumrah  \n",
      "virat rohit bumrah  \n",
      "virat rohit bumrah "
     ]
    }
   ],
   "source": [
    "players=[\"VIrat\",\"roHIT\",\"bumRaH\"]\n",
    "\n",
    "def convert_lower(player):\n",
    "    return player.lower()\n",
    "\n",
    "for player_lower in map(convert_lower,players):\n",
    "    print(player_lower,end=\" \")\n",
    "\n",
    "print(\" \")\n",
    "\n",
    "for player_lower in map(convert_lower,players):\n",
    "    print(player_lower,end=\" \")\n",
    "\n",
    "print(\" \")\n",
    "for player_lower in map(lambda player:player.lower(),players):\n",
    "    print(player_lower,end=\" \")\n",
    "print(\" \")"
   ]
  },
  {
   "cell_type": "code",
   "execution_count": null,
   "id": "d9cec198-1f13-434c-8829-6a87a46995d4",
   "metadata": {},
   "outputs": [],
   "source": [
    "database=[\n",
    "    {\"name\":\"devadatta\", \"age\":45},\n",
    "    {\"name\":\"hrishikesh\",\"age\":23},\n",
    "    {\"name\":\"gautam\",\"age\":33},\n",
    "    {\"name\":\"shivani\",\"age\":6},\n",
    "    {\"name\":\"arjun\",\"age\":13},  \n",
    "]\n",
    "# filter names below 25 using comprehensions / filter/ map \n"
   ]
  }
 ],
 "metadata": {
  "kernelspec": {
   "display_name": "Python 3 (ipykernel)",
   "language": "python",
   "name": "python3"
  },
  "language_info": {
   "codemirror_mode": {
    "name": "ipython",
    "version": 3
   },
   "file_extension": ".py",
   "mimetype": "text/x-python",
   "name": "python",
   "nbconvert_exporter": "python",
   "pygments_lexer": "ipython3",
   "version": "3.12.7"
  }
 },
 "nbformat": 4,
 "nbformat_minor": 5
}
