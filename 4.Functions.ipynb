{
 "cells": [
  {
   "cell_type": "code",
   "execution_count": 5,
   "id": "67000de7-46e8-4894-a1f7-0692628b113d",
   "metadata": {},
   "outputs": [
    {
     "name": "stdout",
     "output_type": "stream",
     "text": [
      "function definition\n",
      "None\n"
     ]
    }
   ],
   "source": [
    "# function taking no args \n",
    "# Note: Functions in python return None by default\n",
    "def function():\n",
    "    print(\"function definition\")\n",
    "\n",
    "function() # function call"
   ]
  },
  {
   "cell_type": "code",
   "execution_count": null,
   "id": "e1199677-b20b-4b26-ab08-81c583fa4138",
   "metadata": {},
   "outputs": [],
   "source": [
    "# Note: Every function can return only one value because return can return only one value\n",
    "def add(x,y): # function definition and x and y are parameters\n",
    "    # if type(y) is int:\n",
    "    #     return x+str(y)\n",
    "    return x+y\n",
    "    \n",
    "print(\"sum is\",add(100,200)) # function call # arguments are 100 and 200\n",
    "print(\"sum is\",add(3.4,2.2)) \n",
    "print(\"sum is\",add((2+5j),(7+9j))) \n",
    "print(\"sum is\",add(\"sachin\",\"sehwag\")) \n",
    "#print(\"sum is\",add(\"sachin\",10))"
   ]
  },
  {
   "cell_type": "code",
   "execution_count": null,
   "id": "2834982e-0438-4bc2-9774-fec86c297ce8",
   "metadata": {},
   "outputs": [],
   "source": [
    "# Here state is parameter and values are on/off arguments\n",
    "# state=on,off\n",
    "# level=beginner,intermeditate,expert\n",
    "# gender=male,female"
   ]
  },
  {
   "cell_type": "code",
   "execution_count": null,
   "id": "ac61973a-6c94-491a-adb4-cfc00865bcca",
   "metadata": {},
   "outputs": [],
   "source": [
    "# pass keyword is used to create empty functions or class\n",
    "def foo():\n",
    "    pass\n",
    "\n",
    "foo()"
   ]
  },
  {
   "cell_type": "code",
   "execution_count": null,
   "id": "ad463df9-7a54-4a22-b93a-3a8dd10e0ff8",
   "metadata": {},
   "outputs": [],
   "source": [
    "def cricketer(): \n",
    "    return 10,\"sachin\",\"india\",100,56.78\n",
    "\n",
    "print(cricketer())\n",
    "\n",
    "jersey,player,country,runs,average=cricketer()\n",
    "print(jersey,player,country,runs,average)\n",
    "\n",
    "for values in cricketer(): # unpacking a tuple bez cricketer \n",
    "    print(values,end=\" \")"
   ]
  },
  {
   "cell_type": "code",
   "execution_count": null,
   "id": "9bfec8dc-b422-46e9-b689-f7de6b227be0",
   "metadata": {},
   "outputs": [],
   "source": [
    "def add(x,y):\n",
    "    return x+y,x-y,x*y\n",
    "\n",
    "total,diff,prod=add(10,20)\n",
    "print(total,diff,prod)"
   ]
  },
  {
   "cell_type": "code",
   "execution_count": 9,
   "id": "5c3608b9-5d8c-4275-9989-c9414c117629",
   "metadata": {},
   "outputs": [
    {
     "name": "stdout",
     "output_type": "stream",
     "text": [
      "100\n",
      "sachinsehwag\n",
      "300\n",
      "3000\n"
     ]
    }
   ],
   "source": [
    "# only trailing arguments can be defaulted \n",
    "# default parameters go from right to left else SyntaxError\n",
    "# default parameters are given in function definition not in function call\n",
    "# default arguments are used when not all arguments needs to be passed during function call\n",
    "def add(x,y=0): # Here y=0 is default arugument!\n",
    "    return x+y\n",
    "\n",
    "#print(add())\n",
    "print(add(100))\n",
    "print(add(\"sachin\",\"sehwag\"))\n",
    "print(add(100,200)) # unnamed argument\n",
    "print(add(x=1000,y=2000)) # kwargs"
   ]
  },
  {
   "cell_type": "code",
   "execution_count": null,
   "id": "88263290-d9b3-4b59-bce0-7fb21f9d8581",
   "metadata": {},
   "outputs": [],
   "source": [
    "def movie_details(actor=\"***\",year=0,movie=\"___\"): # default arguments\n",
    "    print(f\"{actor} acts in {movie} released in year {year}\")\n",
    "\n",
    "movie_details(\"russel crowe\",2000,\"beautiful mind\") # unnamed arguments\n",
    "movie_details(movie=\"braveheart\",actor=\"mel gibson\",year=1990) # kwargs or named arguments\n",
    "# kwargs or named arguments can be passed in any order and also readability of code!\n",
    "movie_details()"
   ]
  },
  {
   "cell_type": "code",
   "execution_count": null,
   "id": "e96642ae-ddb4-4730-b82e-dab55363712a",
   "metadata": {},
   "outputs": [],
   "source": [
    "# Note * in function definition will create a tuple which can hold multiple arguments\n",
    "def multiple_args(*args):\n",
    "    print(args,type(args))\n",
    "    for each_val in args: # use for to unpack tuple!\n",
    "        print(each_val,end=\" \")\n",
    "\n",
    "multiple_args(1,2,3,4,5)"
   ]
  },
  {
   "cell_type": "code",
   "execution_count": 45,
   "id": "86e798c6-1da7-4e6d-b62f-9d2837f7e330",
   "metadata": {},
   "outputs": [
    {
     "name": "stdout",
     "output_type": "stream",
     "text": [
      "100\n"
     ]
    }
   ],
   "source": [
    "# Note: return will help to cascade function calls!\n",
    "def add(x,y):\n",
    "    return x+y\n",
    "\n",
    "#add(10,20)\n",
    "print(add(add(add(10,20),30),40)) # cascading function call"
   ]
  },
  {
   "cell_type": "code",
   "execution_count": null,
   "id": "39227792-b108-48f7-8e43-b79d3ec9f842",
   "metadata": {},
   "outputs": [],
   "source": [
    "# create a tuple to hold multiple unamed args \n",
    "def add(*args):\n",
    "    #print(args,type(args))\n",
    "    total=0\n",
    "    for each_val in args:\n",
    "        total+=each_val\n",
    "    return total\n",
    "\n",
    "print(add())\n",
    "print(add(100))\n",
    "print(add(10,20))\n",
    "print(add(1,2,3,4,5))"
   ]
  },
  {
   "cell_type": "code",
   "execution_count": null,
   "id": "86bd96c3-6cc8-4027-b322-bda7889e2a7a",
   "metadata": {},
   "outputs": [],
   "source": [
    "# Here ** creates a dict which can hold multiple kwargs or named args\n",
    "def function(**args):\n",
    "    print(args,type(args))\n",
    "\n",
    "function(var1=1000,var2=2000) # kwargs / named arguments"
   ]
  },
  {
   "cell_type": "code",
   "execution_count": null,
   "id": "76cd761b-ab06-4ce6-9f31-9da0ffe39e7c",
   "metadata": {},
   "outputs": [],
   "source": [
    "def function(*args,**kwargs):\n",
    "    print(args,type(args))\n",
    "    print(kwargs,type(kwargs))\n",
    "    \n",
    "function(var1=1000,var2=2000) # kwargs / named arguments\n",
    "function(1000,2000) #unamed args\n",
    "function(10,20,var1=1000,var2=2000) # mix of both unnamed args as well as kwargs\n",
    "#function(var1=1000,var2=2000,1,2,3)  # SyntaxError: positional argument follows keyword argument"
   ]
  },
  {
   "cell_type": "code",
   "execution_count": null,
   "id": "25b36635-ed8f-40e0-98f7-c5997192f89a",
   "metadata": {},
   "outputs": [],
   "source": [
    "def add(*args,**kwargs):\n",
    "    #print(args,type(args))\n",
    "    total=0\n",
    "    for each_val in args:\n",
    "        total+=each_val\n",
    "    for name,each_val in kwargs.items():\n",
    "        total+=each_val\n",
    "    return total\n",
    "\n",
    "print(add()) # no args\n",
    "print(add(100))\n",
    "print(add(10,20))\n",
    "print(add(1,2,3,4,5)) # unamed args\n",
    "print(add(var1=100)) # kwargs\n",
    "print(add(x=10,y=20)) # kwargs\n",
    "print(add(1,2,3,var_1=4,var_2=5)) # mix of both"
   ]
  },
  {
   "cell_type": "code",
   "execution_count": null,
   "id": "600998c7-19f3-4fc4-a68f-758847271fe7",
   "metadata": {},
   "outputs": [],
   "source": [
    "# Note: There is no tuple comprehension as it becomes a generator!!!"
   ]
  },
  {
   "cell_type": "code",
   "execution_count": null,
   "id": "31217647-e668-4d8c-b158-2e3bcd79a454",
   "metadata": {},
   "outputs": [],
   "source": [
    "# Package is collection of different types of files\n",
    "# .py files (source files) which are modules / binaries .exe / libraries .dll/.lib / documentation (help) \n",
    "# pip --help\n",
    "# pip install virtualenv \n",
    "# mkdir <project>\n",
    "# virtualenv <project>\n",
    "# Run <project>/scripts/activate.bat\n",
    "# pip list \n",
    "# pip install <package>\n",
    "# pip freeze > requirements.txt\n",
    "# Run <project>/scripts/deactivate.bat\n",
    "# cd ..\n",
    "# pip install -r requirements.txt"
   ]
  }
 ],
 "metadata": {
  "kernelspec": {
   "display_name": "Python 3 (ipykernel)",
   "language": "python",
   "name": "python3"
  },
  "language_info": {
   "codemirror_mode": {
    "name": "ipython",
    "version": 3
   },
   "file_extension": ".py",
   "mimetype": "text/x-python",
   "name": "python",
   "nbconvert_exporter": "python",
   "pygments_lexer": "ipython3",
   "version": "3.12.7"
  }
 },
 "nbformat": 4,
 "nbformat_minor": 5
}
