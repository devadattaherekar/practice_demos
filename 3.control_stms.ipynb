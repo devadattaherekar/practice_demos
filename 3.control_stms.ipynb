{
 "cells": [
  {
   "cell_type": "code",
   "execution_count": null,
   "id": "ba47b6b4-2fa6-4c3c-97a1-aeec85dd8b7b",
   "metadata": {},
   "outputs": [],
   "source": [
    "# control statements\n",
    "# 1. sequential\n",
    "# 2. conditional\n",
    "     #(a) branching (selection) if: else: elif: \n",
    "     #(b) looping (iteration) while: for:\n",
    "# 3. unconditional break: continue: # range() enumerate()"
   ]
  },
  {
   "cell_type": "code",
   "execution_count": null,
   "id": "79d280d1-3d76-4431-865e-19da431b98f7",
   "metadata": {},
   "outputs": [],
   "source": [
    "# relational operator > < >= <= == !=\n",
    "var1,var2=100,200\n",
    "\"\"\"\n",
    "if var1 > var2:\n",
    "    print(f\"{var1} is greater\")\n",
    "else:\n",
    "    print(f\"{var2} is greater\")\n",
    "\"\"\"\n",
    "print(f\"Max is {max(var1,var2)}\")"
   ]
  },
  {
   "cell_type": "code",
   "execution_count": null,
   "id": "8ccd9800-3763-4896-b7e6-4aa9bc624928",
   "metadata": {},
   "outputs": [],
   "source": [
    "# logical operators and or not \n",
    "var1,var2,var3=100,200,300\n",
    "if var1 > var2 and var1 > var3: \n",
    "    print(f\"{var1} is greater\")  \n",
    "elif var2 > var1 and var2 > var3:\n",
    "    print(f\"{var2} is greater\") \n",
    "else:\n",
    "    print(f\"{var3} is greater\") \n",
    "print(f\"Max is {max(var1,var2,var3)}\")"
   ]
  },
  {
   "cell_type": "code",
   "execution_count": null,
   "id": "c484efe1-0bc2-41fd-b021-fc211d09bf32",
   "metadata": {},
   "outputs": [],
   "source": [
    "var1,var2,var3=100,200,300\n",
    "if var1 > var2: # doctor\n",
    "    if var1 > var3: # md\n",
    "        print(f\"{var1} is greater\")  \n",
    "    else: # dental / pharma\n",
    "        print(f\"{var3} is greater\")  \n",
    "else:\n",
    "    if var2 > var3: # mechanical\n",
    "        print(f\"{var2} is greater\")  \n",
    "    else: # electronics\n",
    "        print(f\"{var3} is greater\")  "
   ]
  },
  {
   "cell_type": "code",
   "execution_count": null,
   "id": "1d9e88bc-55fc-41b1-b80b-1819381c8a66",
   "metadata": {},
   "outputs": [],
   "source": [
    "if 20>10 and 500 > 300 and 50==50 and 0 < 99: # traditional and and or\n",
    "    print(\"and requires all conditions to be true\")\n",
    "if all((20>10,500 > 300,50==50,0 < 99)): # pythonic way use any and all functions\n",
    "    print(\"any requires all conditions to be true\")\n",
    "if 0>10 or 50 > 300 or 50==50 or 0 > 99: # traditional and and or\n",
    "    print(\"or requires one condition to be true\")"
   ]
  },
  {
   "cell_type": "code",
   "execution_count": null,
   "id": "0ffec578-82ee-4f4f-b360-8a7e3e9ddf84",
   "metadata": {},
   "outputs": [],
   "source": [
    "if all((10,3.12,True,(2+4j),[10],{100},{\"Sachin\":10})):\n",
    "    print(\"all requires all to be True\")\n",
    "if any([0>10,50 > 300,50==50,0 > 99]):\n",
    "    print(\"any requires one condition to be True\")\n",
    "if any([0,0.0,False,None,\"\",[],(),set(),{}]):\n",
    "    print(\"any requires one condition to be True\")"
   ]
  },
  {
   "cell_type": "code",
   "execution_count": null,
   "id": "685faa3c-3151-432b-bfa5-cdafe1863739",
   "metadata": {},
   "outputs": [],
   "source": [
    "print(\"Hello\") and print(\"world\") or print(\"vinsys\")"
   ]
  },
  {
   "cell_type": "code",
   "execution_count": null,
   "id": "d122791d-8a18-42c4-bb3a-7ff3ec8ba213",
   "metadata": {},
   "outputs": [],
   "source": [
    "# wap to sides as input and\n",
    "# type of validate triangle equilateral / isoceles / scalene\n",
    "# electicity bill print \n",
    "# No of units consumed 0-100 Rs 3/- ,101-150 Rs 5/- ,higher 151 Rs 10/-  units 300"
   ]
  },
  {
   "cell_type": "code",
   "execution_count": null,
   "id": "25876286-0c3c-4e88-9e20-419f34d83e52",
   "metadata": {},
   "outputs": [],
   "source": [
    "# membership / identity operators "
   ]
  },
  {
   "cell_type": "code",
   "execution_count": null,
   "id": "603e09f0-443b-4c0d-a614-e8321332bd19",
   "metadata": {},
   "outputs": [],
   "source": [
    "# membership in / not in (search) \n",
    "# Note: search value1 in iterable or comparsion value1==value2\n",
    "admin_users=[\"root\",\"admin\",\"adminstrator\"]\n",
    "user_name=input(\"Enter your current user\")\n",
    "if user_name.lower() in admin_users:\n",
    "    print(f\"you have full privileges\")\n",
    "else:\n",
    "    print(\"you have guest privileges\")"
   ]
  },
  {
   "cell_type": "code",
   "execution_count": null,
   "id": "aec12225-e45d-49a0-bd11-4a8d9ccdbdbd",
   "metadata": {},
   "outputs": [],
   "source": [
    "python_versions=[3.5,3.6,3.7,3.8,3.9]\n",
    "current_version=float(input(\"Enter your version\"))\n",
    "if current_version not in python_versions:\n",
    "    print(f\"you can use only str.format()\")\n",
    "else:\n",
    "    print(f\"you can use f-strings\")"
   ]
  },
  {
   "cell_type": "code",
   "execution_count": null,
   "id": "16fbc690-50ea-42a8-b830-56076a6074e7",
   "metadata": {},
   "outputs": [],
   "source": [
    "# identity operator is / is not \n",
    "# identity operator will check the data type of the object not the value!\n",
    "emp_ids=[1000,2000]\n",
    "if type(emp_ids) is list:\n",
    "    print(\"You are using list\")\n",
    "else:\n",
    "    print(\"You are not using list for sure\")"
   ]
  },
  {
   "cell_type": "code",
   "execution_count": null,
   "id": "7374f7f9-333f-4e32-aae4-a15be179e4f4",
   "metadata": {},
   "outputs": [],
   "source": [
    "fact=1\n",
    "num=int(input(\"Enter your number\"))\n",
    "while num>0:\n",
    "    fact*=num\n",
    "    num-=1\n",
    "print(f\"factorial is {fact}\")"
   ]
  },
  {
   "cell_type": "code",
   "execution_count": null,
   "id": "d3a4aa31-88ca-4cf7-ac39-1c8924976c5a",
   "metadata": {},
   "outputs": [],
   "source": [
    "rev=0\n",
    "total=0\n",
    "num=int(input(\"Enter your number\"))\n",
    "while num > 0:\n",
    "    total+=num%10\n",
    "    rev=rev*10+num%10  \n",
    "    num=num//10 \n",
    "print(f\"Reversed number is {rev}\")\n",
    "print(f\"sum of the digits is {total}\")"
   ]
  },
  {
   "cell_type": "code",
   "execution_count": null,
   "id": "98ea12ee-dfb4-419d-a710-acfcc92da19b",
   "metadata": {},
   "outputs": [],
   "source": [
    "i=2\n",
    "num=int(input(\"Enter your number\"))\n",
    "while i < num:\n",
    "    if num%i==0:\n",
    "        print(f\"{num} is not prime\")\n",
    "        break\n",
    "    i+=1\n",
    "if num==i:\n",
    "    print(f\"{num} is prime\")"
   ]
  },
  {
   "cell_type": "code",
   "execution_count": null,
   "id": "2cb040e2-284e-4881-badd-f77891577162",
   "metadata": {},
   "outputs": [],
   "source": [
    "# Generate all armstrong number 1 - 1000\n",
    "# 153 == 1*1*1+5*5*5+3*3*3\n",
    "# print all prime numbers between 1 to 100\n",
    "# print first 25 prime numbers"
   ]
  },
  {
   "cell_type": "code",
   "execution_count": null,
   "id": "af64dad9-fd08-4756-8790-7392441d46db",
   "metadata": {},
   "outputs": [],
   "source": [
    "import sympy\n",
    "print(len(dir(sympy)))\n",
    "#print(dir(sympy))\n",
    "print(sympy.isprime(5))"
   ]
  },
  {
   "cell_type": "code",
   "execution_count": null,
   "id": "500689be-87d0-4261-b03d-f9d1e4e40a7d",
   "metadata": {},
   "outputs": [],
   "source": [
    "import sympy\n",
    "num=int(input(\"Enter your number\"))\n",
    "if sympy.isprime(num):\n",
    "    print(f\"{num} is prime\")\n",
    "else:\n",
    "    print(f\"{num} is not prime\")"
   ]
  },
  {
   "cell_type": "code",
   "execution_count": null,
   "id": "6ad42e8c-8160-45a6-abef-85890a189d82",
   "metadata": {},
   "outputs": [],
   "source": [
    "import sympy\n",
    "print(dir(sympy))"
   ]
  },
  {
   "cell_type": "code",
   "execution_count": null,
   "id": "0ad77e0f-292d-47ef-855f-4ca740535f48",
   "metadata": {},
   "outputs": [],
   "source": [
    "count=0\n",
    "num=2\n",
    "while count < 10:\n",
    "    i=2\n",
    "    while i < num:\n",
    "        if num%i==0:\n",
    "            break\n",
    "        i+=1\n",
    "    if num==i:\n",
    "        print(f\"{num}\",end=\" \")\n",
    "        count+=1\n",
    "    num+=1"
   ]
  },
  {
   "cell_type": "code",
   "execution_count": null,
   "id": "8b88c6be-3e0f-462d-b24b-f084886dce63",
   "metadata": {},
   "outputs": [],
   "source": [
    "list1=[10,20,30,40,50]\n",
    "for value in list1:\n",
    "    print(value,end=\" \")\n",
    "print(\" \")\n",
    "tuple1=(10,20,30,40,50)\n",
    "for value in tuple1:\n",
    "    print(value,end=\" \")\n",
    "print(\" \")\n",
    "set1={10,20,30,40,50}\n",
    "for value in set1:\n",
    "    print(value,end=\" \")\n",
    "print(\" \")\n",
    "states={\"maharashtra\":\"mumbai\",\"karnataka\":\"bengaluru\",\"tamilnadu\":\"chennai\"}\n",
    "for each_state in states: \n",
    "    print(each_state,end=\" \")\n",
    "print(\" \")\n",
    "for each_state in states: \n",
    "    print(states[each_state],end=\" \")\n",
    "print(\" \")\n",
    "for each_state in states.keys():\n",
    "    print(each_state,end=\" \")\n",
    "print(\" \")\n",
    "for capitals in states.values(): \n",
    "    print(capitals,end=\" \")\n",
    "print(\" \")\n",
    "for each_record in states.items(): # in is unpacking list\n",
    "    print(f\"{each_record[1]} capital is in {each_record[0]}\") # [] will unpack tuple \n",
    "print(\" \")\n",
    "# Note: states.items() returns list of tuples\n",
    "# Note: in will unpack list and multiple variable assingment will unpack tuple!\n",
    "for state,capital in states.items():\n",
    "    print(f\"{capital} is in {state}\")\n",
    "print(\" \")"
   ]
  },
  {
   "cell_type": "code",
   "execution_count": null,
   "id": "649754b8-ff51-407f-b1b4-ab37f086c540",
   "metadata": {},
   "outputs": [],
   "source": [
    "tuple1=(10,20,30)\n",
    "print(tuple1)\n",
    "print(tuple1[0],tuple1[1],tuple1[2])\n",
    "var1,var2,var3=tuple1\n",
    "print(var1,var2,var3)"
   ]
  },
  {
   "cell_type": "code",
   "execution_count": null,
   "id": "06e05f0f-8063-482e-94bf-c04f57396020",
   "metadata": {},
   "outputs": [],
   "source": [
    "# what is for loop used for? \n",
    "# for can unpack iterables as well as generators!"
   ]
  },
  {
   "cell_type": "code",
   "execution_count": null,
   "id": "fcb43f61-95dc-48d2-bb7d-b8debbf5feb1",
   "metadata": {},
   "outputs": [],
   "source": [
    "# range() is a builtin generator in python!\n",
    "print(range(5)) # starts with 0 by default\n",
    "print(range(1,6)) # Here 6 is not included "
   ]
  },
  {
   "cell_type": "code",
   "execution_count": null,
   "id": "c72a934e-cf36-408f-ae84-4c0b330fd7cd",
   "metadata": {},
   "outputs": [],
   "source": [
    "# generators are alteratives for collections/iterables\n",
    "# unlike iterables generators do not store values \n",
    "# unlike iterables generators will only perform computation when there is a call\n",
    "# unlike normal functions. A generator will always remember its state!\n",
    "# How to extract values from generator?\n",
    "# There are 3 ways to extract values from generator\n",
    "# 1. conversion function : To check the values from generator i.e. to test \n",
    "    # Note: using conversion function destroys the purpose of generator\n",
    "# 2. use for loop to extract all values from generator\n",
    "# 3. use next() iterator on generator to extract one value at a time"
   ]
  },
  {
   "cell_type": "code",
   "execution_count": null,
   "id": "238fdc02-ece9-4505-a6b8-080797688a4f",
   "metadata": {},
   "outputs": [],
   "source": [
    "for num in range(5): # 0 1 2 3 4\n",
    "    print(num,end=\" \")"
   ]
  },
  {
   "cell_type": "code",
   "execution_count": null,
   "id": "5ccf9a7c-fb75-4135-b391-683dc84cc134",
   "metadata": {},
   "outputs": [],
   "source": [
    "# use conversion function on generators to check values\n",
    "# range(start,next_to_last,step_count)\n",
    "print(list(range(1,6)))\n",
    "print(list(range(2,11,2)))\n",
    "print(tuple(range(5)))\n",
    "print(set(range(5)))"
   ]
  },
  {
   "cell_type": "code",
   "execution_count": null,
   "id": "69125d0f-f3bb-45f6-888e-dcc6917c7300",
   "metadata": {},
   "outputs": [],
   "source": [
    "list1=[10,20,30,40,50]\n",
    "index=0\n",
    "for num in list1:\n",
    "    print(index,num)\n",
    "    index+=1"
   ]
  },
  {
   "cell_type": "code",
   "execution_count": null,
   "id": "90fa429b-f544-48b3-a630-349f2091ca92",
   "metadata": {},
   "outputs": [],
   "source": [
    "for even_nums in range(2,51,2):\n",
    "    print(even_nums,end=\" \")"
   ]
  },
  {
   "cell_type": "code",
   "execution_count": null,
   "id": "aae9fd0f-7444-4bb5-865c-5eae0bad9754",
   "metadata": {},
   "outputs": [],
   "source": [
    "# use iter() on generator to use next() iterator!\n",
    "num=iter(range(2,11,2))\n",
    "print(next(num))\n",
    "print(next(num))\n",
    "print(next(num))\n",
    "print(next(num))\n",
    "print(next(num))\n",
    "#print(next(num)) # StopIteration # generator is exhausted or already consumed!"
   ]
  },
  {
   "cell_type": "code",
   "execution_count": null,
   "id": "9144a097-3a38-4327-9121-be09a15157d4",
   "metadata": {},
   "outputs": [],
   "source": [
    "evens=[]\n",
    "for num in range(1,11):\n",
    "    if num%2==0:\n",
    "        evens.append(num)\n",
    "print(evens)"
   ]
  },
  {
   "cell_type": "code",
   "execution_count": null,
   "id": "51c49fc7-922b-44b9-b7bf-b99ad33cd4fb",
   "metadata": {},
   "outputs": [],
   "source": [
    "list1=[10,20,30,40,50]\n",
    "# enumerate is a builtin generator \n",
    "print(enumerate(list1))\n",
    "print(list(enumerate(list1)))\n",
    "print(tuple(enumerate(list1)))\n",
    "print(set(enumerate(list1)))\n",
    "#for value in enumerate(list1):\n",
    "    #print(value[0],value[1])\n",
    "for index,value in enumerate(list1):\n",
    "    print(index,value)\n",
    "#ref=iter(enumerate(list1))\n",
    "#print(next(ref))\n",
    "#print(next(ref))\n",
    "#print(next(ref))"
   ]
  },
  {
   "cell_type": "code",
   "execution_count": null,
   "id": "c64a153a-3782-4685-84e3-4e936b28f603",
   "metadata": {},
   "outputs": [],
   "source": [
    "list1=[10,20,30,40,50]\n",
    "for index,value in enumerate(list1):\n",
    "    print(index,value)"
   ]
  },
  {
   "cell_type": "code",
   "execution_count": null,
   "id": "8bac4a07-3a55-4f28-894e-8dce62f116d6",
   "metadata": {},
   "outputs": [],
   "source": [
    "list1=[10,20,30,40,50]\n",
    "index=0\n",
    "for num in list1:\n",
    "    print(index,num)\n",
    "    index+=1"
   ]
  },
  {
   "cell_type": "code",
   "execution_count": null,
   "id": "8adc4d5e-6e0d-4b0f-be59-4131bcf3919f",
   "metadata": {},
   "outputs": [],
   "source": [
    "matrix=[[10,20,30],[40,50,60],[70,80,90]]\n",
    "\n",
    "print(matrix[2][2])\n",
    "\n",
    "for i,row in enumerate(matrix):\n",
    "    for j,col in enumerate(row):\n",
    "        print(f\"{[i,j]} {matrix[i][j]}\",end=\" \")\n",
    "    print(\" \")"
   ]
  },
  {
   "cell_type": "code",
   "execution_count": null,
   "id": "89355e83-09d7-4c51-8e4a-13a3343ec8fb",
   "metadata": {},
   "outputs": [],
   "source": [
    "# comprehension offer a simplified syntax (pythonic way) to create a new iterable/collection based on existing collections\n",
    "# list comprehension\n",
    "# set comprehension\n",
    "# dict comprehension\n",
    "# Note: There is no tuple comprehension as it becomes a generator!!!"
   ]
  },
  {
   "cell_type": "code",
   "execution_count": null,
   "id": "cb011db0-0ebe-415d-93aa-a4e7708fc11a",
   "metadata": {},
   "outputs": [],
   "source": [
    "# list comprehension\n",
    "list1=[num for num in range(1,6)]\n",
    "print(list1)"
   ]
  },
  {
   "cell_type": "code",
   "execution_count": null,
   "id": "1716a1fe-5119-4a65-9cff-727401fd1dda",
   "metadata": {},
   "outputs": [],
   "source": [
    "list1=[]\n",
    "for num in range(1,6):\n",
    "    num=num*num\n",
    "    list1.append(num)\n",
    "print(list1)"
   ]
  },
  {
   "cell_type": "code",
   "execution_count": null,
   "id": "1f9e9686-aad7-4481-9f6b-279b8e708a55",
   "metadata": {},
   "outputs": [],
   "source": [
    "list1=[0 for num in range(1,6)]\n",
    "print(list1)\n",
    "list1=[num*num for num in range(1,6)]\n",
    "print(list1)\n",
    "list1=[num*num*num for num in range(1,6)]\n",
    "print(list1)"
   ]
  },
  {
   "cell_type": "code",
   "execution_count": null,
   "id": "b5da6f17-4170-4197-b885-ebbbe4888ff5",
   "metadata": {},
   "outputs": [],
   "source": [
    "# conditional comprehension \n",
    "evens=[]\n",
    "for num in range(1,11):\n",
    "    if num%2==0:\n",
    "        evens.append(num)\n",
    "print(evens)"
   ]
  },
  {
   "cell_type": "code",
   "execution_count": 1,
   "id": "97aa17b1-fe31-4921-aa90-2e4586a52ea4",
   "metadata": {},
   "outputs": [
    {
     "name": "stdout",
     "output_type": "stream",
     "text": [
      "[2, 4, 6, 8, 10]\n",
      "[1, 2, 3, 4, 5, 6, 7, 8, 9, 10]\n",
      "['odd', 'Even', 'odd', 'Even', 'odd', 'Even', 'odd', 'Even', 'odd', 'Even']\n"
     ]
    }
   ],
   "source": [
    "evens=[num for num in range(1,11) if num%2==0]\n",
    "print(evens)\n",
    "print(list(range(1,11)))\n",
    "labels=[\"Even\" if num%2==0 else \"odd\" for num in range(1,11) ]\n",
    "print(labels)"
   ]
  },
  {
   "cell_type": "code",
   "execution_count": 5,
   "id": "ef41f2ab-0a21-4af1-92b0-93c03b80f42d",
   "metadata": {},
   "outputs": [
    {
     "name": "stdout",
     "output_type": "stream",
     "text": [
      "[[[10, 20, 30], [40, 50, 60], [70, 80, 90]]]\n",
      "[10, 20, 30, 40, 50, 60, 70, 80, 90]\n"
     ]
    }
   ],
   "source": [
    "matrix=[[[10,20,30],[40,50,60],[70,80,90]]]\n",
    "print(matrix)\n",
    "\"\"\"\n",
    "flatten=[]\n",
    "for row in matrix:\n",
    "    for col in row:\n",
    "        for mycol in col:\n",
    "            flatten.append(mycol)\n",
    "\"\"\"         \n",
    "flatten=[mycol for row in matrix for col in row for mycol in col]\n",
    "print(flatten)"
   ]
  },
  {
   "cell_type": "code",
   "execution_count": null,
   "id": "ec1d0ab8-cfb1-4c2d-95ae-21ae38e5f76f",
   "metadata": {},
   "outputs": [],
   "source": [
    "players=[\"ViRaT\",\"roHIT\",\"BumRAh\"]\n",
    "players_lower=[each_player.lower() for each_player in players]\n",
    "myplayer=input(\"Enter your player\")\n",
    "if myplayer.lower() in players_lower:\n",
    "    print(f\"your {myplayer} is playing today!\")\n",
    "else:\n",
    "    print(f\"{myplayer} has to wait for next tournament!\")"
   ]
  },
  {
   "cell_type": "code",
   "execution_count": null,
   "id": "642d0201-9714-4e14-9cf8-c7ed96687b67",
   "metadata": {},
   "outputs": [],
   "source": [
    "# list of dict\n",
    "restaurants=[\n",
    "    {\"name\":\"abhishek veg\",\"address\":\"kothrud\"},\n",
    "    {\"name\":\"good luck\",\"address\":\"deccan\"},\n",
    "    {\"name\":\"barbeque\",\"address\":\"deccan\"},\n",
    "    {\"name\":\"barometer\",\"address\":\"kothrud\"},\n",
    "    {\"name\":\"nawab asia\",\"address\":\"baner\"}\n",
    "]\n",
    "\n",
    "current_location=input(\"Please enter your location\")\n",
    "resto_nearby=[each_resto['name'] for each_resto in restaurants  if current_location.lower() == each_resto['address']]\n",
    "if any(resto_nearby):\n",
    "    print(resto_nearby)\n",
    "else:\n",
    "    print(\"Please try a different location!\")"
   ]
  },
  {
   "cell_type": "code",
   "execution_count": null,
   "id": "0feaaebe-80b5-49fe-b108-121943c297c1",
   "metadata": {},
   "outputs": [],
   "source": [
    "# dict\n",
    "restaurants={\n",
    "    \"kothrud\":{\"abhishek veg\",\"prithvi\",\"barometer\"},\n",
    "    \"deccan\":{\"barbeque\",\"good luck\"},\n",
    "    \"baner\":{\"nawab asia\"}\n",
    "   }\n",
    "current_location=input(\"Please enter your location\")\n",
    "if current_location in restaurants.keys():\n",
    "    print(restaurants[current_location])\n",
    "else:\n",
    "    print(\"Please try a different location!\")"
   ]
  },
  {
   "cell_type": "code",
   "execution_count": 7,
   "id": "a760ccc5-083a-4db4-8943-0170ff1de854",
   "metadata": {},
   "outputs": [
    {
     "name": "stdout",
     "output_type": "stream",
     "text": [
      "{1, 2, 3, 4, 5, 6, 7, 8, 9, 10}\n",
      "{1, 2, 3, 4, 5, 6, 7, 8, 9, 10}\n",
      "{1, 2, 3, 4}\n"
     ]
    }
   ],
   "source": [
    "# set comprehension\n",
    "set1={num for num in range(1,11)}\n",
    "print(set1)\n",
    "list1=[num for num in range(1,11)]\n",
    "print(set(list1)) # pass list comprehension as an argument to set conversion function\n",
    "list2=[1,1,1,2,3,4,2,3,4]\n",
    "set2={num for num in list2} # set comprehension to remove duplicates from list!\n",
    "print(set2)"
   ]
  },
  {
   "cell_type": "code",
   "execution_count": 9,
   "id": "e880f13a-3944-495e-ba2b-da3d6925b1a4",
   "metadata": {},
   "outputs": [
    {
     "name": "stdin",
     "output_type": "stream",
     "text": [
      "Enter your player virat\n"
     ]
    },
    {
     "name": "stdout",
     "output_type": "stream",
     "text": [
      "your virat is playing today!\n"
     ]
    }
   ],
   "source": [
    "players={\"ViRaT\",\"roHIT\",\"BumRAh\"}\n",
    "players_lower={each_player.lower() for each_player in players}\n",
    "myplayer=input(\"Enter your player\")\n",
    "if myplayer.lower() in players_lower:\n",
    "    print(f\"your {myplayer} is playing today!\")\n",
    "else:\n",
    "    print(f\"{myplayer} has to wait for next tournament!\")"
   ]
  },
  {
   "cell_type": "code",
   "execution_count": 25,
   "id": "e443a7b7-1780-41c7-bcb8-50d3c1193f47",
   "metadata": {},
   "outputs": [
    {
     "name": "stdout",
     "output_type": "stream",
     "text": [
      "Indian Batters {'virat', 'rohit'}\n"
     ]
    }
   ],
   "source": [
    "players={\"ViRaT\",\"roHIT\",\"BumRAh\",\"shami\",\"ashWIN\",\"virat\",\"virat\",\"virat\"}\n",
    "batters={\"vIRAT\",\"ROHIT\",\"pOLLARD\",\"GAYle\"}\n",
    "player_lower={player.lower() for player in players}\n",
    "batter_lower={batter.lower() for batter in batters}\n",
    "print(\"Indian Batters\",player_lower.intersection(batter_lower))"
   ]
  },
  {
   "cell_type": "code",
   "execution_count": 9,
   "id": "c4a12a57-8c63-419a-ab00-23eba5899442",
   "metadata": {},
   "outputs": [
    {
     "name": "stdout",
     "output_type": "stream",
     "text": [
      "Indian Batters ['virat', 'rohit', 'virat', 'virat']\n"
     ]
    }
   ],
   "source": [
    "# comrehensions is used to keep syntax simple!\n",
    "players=[\"ViRaT\",\"roHIT\",\"BumRAh\",\"shami\",\"ashWIN\",\"virat\",\"VIRAT\"]\n",
    "batters=[\"vIRAT\",\"ROHIT\",\"pOLLARD\",\"GAYle\"]\n",
    "player_lower=[player.lower() for player in players]\n",
    "batter_lower=[batter.lower() for batter in batters]\n",
    "indian_batters=[player for player in player_lower if player in batter_lower]\n",
    "print(\"Indian Batters\",indian_batters)"
   ]
  },
  {
   "cell_type": "code",
   "execution_count": 19,
   "id": "9aed86e7-49f6-4eaa-901a-738f17587703",
   "metadata": {},
   "outputs": [
    {
     "name": "stdout",
     "output_type": "stream",
     "text": [
      "Indian Batters ['virat', 'rohit']\n"
     ]
    }
   ],
   "source": [
    "# Note: Never nest comprehensions! Keep it separate!!!\n",
    "players=[\"ViRaT\",\"roHIT\",\"BumRAh\",\"shami\",\"ashWIN\"]\n",
    "batters=[\"vIRAT\",\"ROHIT\",\"pOLLARD\",\"GAYle\"]\n",
    "indian_batters=[player for player in [player.lower() for player in players] if player in [batter.lower() for batter in batters]]\n",
    "print(\"Indian Batters\",indian_batters)"
   ]
  },
  {
   "cell_type": "code",
   "execution_count": 21,
   "id": "fedee83b-ed8d-4ffa-9dae-86c4508f9b12",
   "metadata": {},
   "outputs": [
    {
     "name": "stdout",
     "output_type": "stream",
     "text": [
      "{'sachin': 10, 'virat': 18, 'dhoni': 7, 'rohit': 45}\n"
     ]
    }
   ],
   "source": [
    "players=[\"sachin\",\"virat\",\"dhoni\",\"rohit\"]\n",
    "jerseys=[10,18,7,45]\n",
    "# dict comprehension\n",
    "dream11={players[index]:jerseys[index] for index in range(len(jerseys)) }\n",
    "print(dream11)"
   ]
  },
  {
   "cell_type": "code",
   "execution_count": null,
   "id": "9e1bef04-4adc-4c1d-a7b3-c4654fdd9b8b",
   "metadata": {},
   "outputs": [],
   "source": [
    "# reverse the dictionary comprehension!"
   ]
  },
  {
   "cell_type": "code",
   "execution_count": 65,
   "id": "92332037-2792-4c42-9b96-5bf348b95d72",
   "metadata": {},
   "outputs": [
    {
     "name": "stdout",
     "output_type": "stream",
     "text": [
      "<zip object at 0x000001FF173153C0>\n",
      "sachin wears 10 jersey\n",
      "virat wears 18 jersey\n",
      "dhoni wears 7 jersey\n",
      "rohit wears 45 jersey\n",
      "('sachin', 10)\n",
      "('virat', 18)\n",
      "('dhoni', 7)\n"
     ]
    }
   ],
   "source": [
    "# Here zip is a generator\n",
    "players=[\"sachin\",\"virat\",\"dhoni\",\"rohit\"]\n",
    "jerseys=[10,18,7,45]\n",
    "print(zip(players,jerseys))\n",
    "\"\"\"\n",
    "print(list(zip(players,jerseys)))\n",
    "print(tuple(zip(players,jerseys)))\n",
    "print(set(zip(players,jerseys)))\n",
    "\"\"\"\n",
    "#print(dict(zip(players,jerseys)))\n",
    "for player,jersey in zip(players,jerseys): # use for on generator! to extract all values\n",
    "    print(f\"{player} wears {jersey} jersey\")\n",
    "\n",
    "ref=iter(zip(players,jerseys)) # extract one record from generator every time!\n",
    "print(next(ref))\n",
    "print(next(ref))\n",
    "print(next(ref))"
   ]
  },
  {
   "cell_type": "code",
   "execution_count": 87,
   "id": "8984833f-0e76-4344-8649-a7df0b91d6e0",
   "metadata": {},
   "outputs": [
    {
     "name": "stdout",
     "output_type": "stream",
     "text": [
      "DNS server details {'laptop-1': '192.168.10.10', 'desktop-1': '8.8.8.8', 'workstation-10': '172.16.10.1'}\n",
      "laptop-1 is launched in mumbai has ip 192.168.10.10\n",
      "desktop-1 is launched in ohio has ip 8.8.8.8\n",
      "workstation-10 is launched in north-virginia has ip 172.16.10.1\n",
      "('laptop-1', '192.168.10.10', 'mumbai')\n",
      "('desktop-1', '8.8.8.8', 'ohio')\n"
     ]
    }
   ],
   "source": [
    "computer_names=[\"laptop-1\",\"desktop-1\",\"workstation-10\"]\n",
    "ipadrr=[\"192.168.10.10\",\"8.8.8.8\",\"172.16.10.1\"]\n",
    "regions=[\"mumbai\",\"ohio\",\"north-virginia\"]\n",
    "# use zip generator as an alternative for dictionary comprehension!\n",
    "print(\"DNS server details\",dict(zip(computer_names,ipadrr))) # use dict conversion for one to one mapping\n",
    "for instance,ip,region in list(zip(computer_names,ipadrr,regions)): # list conversion for more than one to one mapping\n",
    "    print(f\"{instance} is launched in {region} has ip {ip}\")\n",
    "\n",
    "#ref=iter(zip(computer_names,ipadrr,regions))\n",
    "#print(next(ref))\n",
    "#print(next(ref))"
   ]
  },
  {
   "cell_type": "code",
   "execution_count": 49,
   "id": "62fce630-b299-492b-b31a-bf0ab11270dc",
   "metadata": {},
   "outputs": [
    {
     "name": "stdout",
     "output_type": "stream",
     "text": [
      "[('sachin', 10), ('virat', 18), ('dhoni', 7), ('rohit', 45)]\n",
      "[(10, 'sachin'), (18, 'virat'), (7, 'dhoni'), (45, 'rohit')]\n",
      "{'sachin': 10, 'virat': 18, 'dhoni': 7, 'rohit': 45}\n",
      "{10: 'sachin', 18: 'virat', 7: 'dhoni', 45: 'rohit'}\n",
      "{'sachin': 10, 'virat': 18, 'dhoni': 7, 'rohit': 45}\n"
     ]
    }
   ],
   "source": [
    "players=[\"sachin\",\"virat\",\"dhoni\",\"rohit\"]\n",
    "jerseys=[10,18,7,45]\n",
    "dream11=[(player,jersey) for player,jersey in zip(players,jerseys)]\n",
    "print(dream11)\n",
    "dream11=[(jersey,player) for player,jersey in zip(players,jerseys)]\n",
    "print(dream11)\n",
    "dream11={players[index]:jerseys[index] for index in range(len(players))}\n",
    "print(dream11)\n",
    "dream11=dict(zip(dream11.values(),dream11.keys()))\n",
    "print(dream11)\n",
    "dream11=dict(zip(dream11.values(),dream11.keys()))\n",
    "print(dream11)"
   ]
  },
  {
   "cell_type": "code",
   "execution_count": 33,
   "id": "fa49c9ff-1aca-4697-a7d4-5aca669019d1",
   "metadata": {},
   "outputs": [
    {
     "name": "stdout",
     "output_type": "stream",
     "text": [
      "15\n",
      "[1, 2, 3, 4, 5]\n",
      "(1, 2, 3, 4, 5)\n",
      "set()\n"
     ]
    }
   ],
   "source": [
    "gen1=(num for num in range(1,6))\n",
    "print(sum(gen1))\n",
    "gen1=(num for num in range(1,6))\n",
    "print(list(gen1))\n",
    "gen1=(num for num in range(1,6))\n",
    "print(tuple(gen1)) \n",
    "print(set(gen1))# Here the generator is already exhausted!"
   ]
  },
  {
   "cell_type": "code",
   "execution_count": 55,
   "id": "c94788e5-64b4-47a1-bc18-2b83d9b3e3a5",
   "metadata": {},
   "outputs": [
    {
     "name": "stdout",
     "output_type": "stream",
     "text": [
      "2\n",
      "4\n",
      "6\n",
      "8\n",
      "10\n",
      "2 4 6 8 10  \n",
      "30\n"
     ]
    }
   ],
   "source": [
    "evens=(num for num in range(1,11) if num%2==0)\n",
    "ref=iter(evens)\n",
    "print(next(ref))\n",
    "print(next(ref))\n",
    "print(next(ref))\n",
    "print(next(ref))\n",
    "print(next(ref))\n",
    "evens=(num for num in range(1,11) if num%2==0)\n",
    "for num in evens:\n",
    "    print(num,end=\" \")\n",
    "print(\" \")\n",
    "evens=(num for num in range(1,11) if num%2==0)\n",
    "print(sum(evens))"
   ]
  },
  {
   "cell_type": "code",
   "execution_count": 65,
   "id": "98fc1f68-4bf1-404d-b9a2-579b0bd021f1",
   "metadata": {},
   "outputs": [
    {
     "name": "stdout",
     "output_type": "stream",
     "text": [
      "sachin virat dhoni rohit "
     ]
    }
   ],
   "source": [
    "players=(\"sachin\",\"virat\",\"dhoni\",\"rohit\")\n",
    "gen1=(each_player for each_player in players)\n",
    "#ref=iter(gen1)\n",
    "#print(next(ref))\n",
    "#print(next(ref))\n",
    "for each_player in gen1:\n",
    "    print(each_player,end=\" \")"
   ]
  },
  {
   "cell_type": "code",
   "execution_count": 79,
   "id": "3335476b-7af4-4882-b68d-0f8bbc8d7e07",
   "metadata": {},
   "outputs": [
    {
     "name": "stdout",
     "output_type": "stream",
     "text": [
      "tieto\n",
      "tcs\n",
      "tata technologies\n",
      " \n",
      "tieto tcs tata technologies  \n",
      "tieto tcs tata technologies "
     ]
    }
   ],
   "source": [
    "companies=[\"tieto\",\"tcs\",\"accenture\",\"wipro\",\"nice\",\"tata technologies\"]\n",
    "\n",
    "for each_company in companies:\n",
    "    if each_company.startswith('t'):\n",
    "        print(each_company)\n",
    "print(\" \")\n",
    "filter_t_companies=(each_company for each_company in companies if each_company.startswith('t') )\n",
    "for company in filter_t_companies:\n",
    "    print(company,end=\" \")\n",
    "print(\" \")\n",
    "filter_t_companies=[each_company for each_company in companies if each_company.startswith('t')]\n",
    "for company in filter_t_companies:\n",
    "    print(company,end=\" \")"
   ]
  },
  {
   "cell_type": "code",
   "execution_count": null,
   "id": "13c892e1-e47b-4147-875e-29a788de1774",
   "metadata": {},
   "outputs": [],
   "source": []
  }
 ],
 "metadata": {
  "kernelspec": {
   "display_name": "Python 3 (ipykernel)",
   "language": "python",
   "name": "python3"
  },
  "language_info": {
   "codemirror_mode": {
    "name": "ipython",
    "version": 3
   },
   "file_extension": ".py",
   "mimetype": "text/x-python",
   "name": "python",
   "nbconvert_exporter": "python",
   "pygments_lexer": "ipython3",
   "version": "3.12.7"
  }
 },
 "nbformat": 4,
 "nbformat_minor": 5
}
