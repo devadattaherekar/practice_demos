{
 "cells": [
  {
   "cell_type": "code",
   "execution_count": null,
   "id": "ba47b6b4-2fa6-4c3c-97a1-aeec85dd8b7b",
   "metadata": {},
   "outputs": [],
   "source": [
    "# control statements\n",
    "# 1. sequential\n",
    "# 2. conditional\n",
    "     #(a) branching (selection) if: else: elif: \n",
    "     #(b) looping (iteration) while: for:\n",
    "# 3. unconditional break: continue: # range() enumerate()"
   ]
  },
  {
   "cell_type": "code",
   "execution_count": 43,
   "id": "79d280d1-3d76-4431-865e-19da431b98f7",
   "metadata": {},
   "outputs": [
    {
     "name": "stdout",
     "output_type": "stream",
     "text": [
      "Max is 200\n"
     ]
    }
   ],
   "source": [
    "# relational operator > < >= <= == !=\n",
    "var1,var2=100,200\n",
    "\"\"\"\n",
    "if var1 > var2:\n",
    "    print(f\"{var1} is greater\")\n",
    "else:\n",
    "    print(f\"{var2} is greater\")\n",
    "\"\"\"\n",
    "print(f\"Max is {max(var1,var2)}\")"
   ]
  },
  {
   "cell_type": "code",
   "execution_count": 49,
   "id": "8ccd9800-3763-4896-b7e6-4aa9bc624928",
   "metadata": {},
   "outputs": [
    {
     "name": "stdout",
     "output_type": "stream",
     "text": [
      "300 is greater\n",
      "Max is 300\n"
     ]
    }
   ],
   "source": [
    "# logical operators and or not \n",
    "var1,var2,var3=100,200,300\n",
    "if var1 > var2 and var1 > var3: \n",
    "    print(f\"{var1} is greater\")  \n",
    "elif var2 > var1 and var2 > var3:\n",
    "    print(f\"{var2} is greater\") \n",
    "else:\n",
    "    print(f\"{var3} is greater\") \n",
    "print(f\"Max is {max(var1,var2,var3)}\")"
   ]
  },
  {
   "cell_type": "code",
   "execution_count": 58,
   "id": "c484efe1-0bc2-41fd-b021-fc211d09bf32",
   "metadata": {},
   "outputs": [
    {
     "ename": "IndentationError",
     "evalue": "expected an indented block after 'if' statement on line 3 (2772900648.py, line 4)",
     "output_type": "error",
     "traceback": [
      "\u001b[1;36m  Cell \u001b[1;32mIn[58], line 4\u001b[1;36m\u001b[0m\n\u001b[1;33m    print(f\"{var1} is greater\")\u001b[0m\n\u001b[1;37m    ^\u001b[0m\n\u001b[1;31mIndentationError\u001b[0m\u001b[1;31m:\u001b[0m expected an indented block after 'if' statement on line 3\n"
     ]
    }
   ],
   "source": [
    "var1,var2,var3=100,200,300\n",
    "if var1 > var2: # doctor\n",
    "    if var1 > var3: # md\n",
    "        print(f\"{var1} is greater\")  \n",
    "    else: # dental / pharma\n",
    "        print(f\"{var3} is greater\")  \n",
    "else:\n",
    "    if var2 > var3: # mechanical\n",
    "        print(f\"{var2} is greater\")  \n",
    "    else: # electronics\n",
    "        print(f\"{var3} is greater\")  "
   ]
  },
  {
   "cell_type": "code",
   "execution_count": 92,
   "id": "1d9e88bc-55fc-41b1-b80b-1819381c8a66",
   "metadata": {},
   "outputs": [
    {
     "name": "stdout",
     "output_type": "stream",
     "text": [
      "and requires all conditions to be true\n",
      "any requires all conditions to be true\n",
      "or requires one condition to be true\n"
     ]
    }
   ],
   "source": [
    "if 20>10 and 500 > 300 and 50==50 and 0 < 99: # traditional and and or\n",
    "    print(\"and requires all conditions to be true\")\n",
    "if all((20>10,500 > 300,50==50,0 < 99)): # pythonic way use any and all functions\n",
    "    print(\"any requires all conditions to be true\")\n",
    "if 0>10 or 50 > 300 or 50==50 or 0 > 99: # traditional and and or\n",
    "    print(\"or requires one condition to be true\")"
   ]
  },
  {
   "cell_type": "code",
   "execution_count": 112,
   "id": "0ffec578-82ee-4f4f-b360-8a7e3e9ddf84",
   "metadata": {},
   "outputs": [
    {
     "name": "stdout",
     "output_type": "stream",
     "text": [
      "all requires all to be True\n",
      "any requires one condition to be True\n",
      "any requires one condition to be True\n"
     ]
    }
   ],
   "source": [
    "if all((10,3.12,True,(2+4j),[10],{100},{\"Sachin\":10})):\n",
    "    print(\"all requires all to be True\")\n",
    "if any([0>10,50 > 300,50==50,0 > 99]):\n",
    "    print(\"any requires one condition to be True\")\n",
    "if any([0,0.0,False,None,\"\",[],(),set(),{}]):\n",
    "    print(\"any requires one condition to be True\")"
   ]
  },
  {
   "cell_type": "code",
   "execution_count": 128,
   "id": "685faa3c-3151-432b-bfa5-cdafe1863739",
   "metadata": {},
   "outputs": [
    {
     "name": "stdout",
     "output_type": "stream",
     "text": [
      "Hello\n",
      "vinsys\n"
     ]
    }
   ],
   "source": [
    "print(\"Hello\") and print(\"world\") or print(\"vinsys\")"
   ]
  },
  {
   "cell_type": "code",
   "execution_count": null,
   "id": "d122791d-8a18-42c4-bb3a-7ff3ec8ba213",
   "metadata": {},
   "outputs": [],
   "source": [
    "# wap to sides as input and\n",
    "# type of validate triangle equilateral / isoceles / scalene\n",
    "# electicity bill print \n",
    "# No of units consumed 0-100 Rs 3/- ,101-150 Rs 5/- ,higher 151 Rs 10/-  units 300"
   ]
  }
 ],
 "metadata": {
  "kernelspec": {
   "display_name": "Python 3 (ipykernel)",
   "language": "python",
   "name": "python3"
  },
  "language_info": {
   "codemirror_mode": {
    "name": "ipython",
    "version": 3
   },
   "file_extension": ".py",
   "mimetype": "text/x-python",
   "name": "python",
   "nbconvert_exporter": "python",
   "pygments_lexer": "ipython3",
   "version": "3.12.7"
  }
 },
 "nbformat": 4,
 "nbformat_minor": 5
}
