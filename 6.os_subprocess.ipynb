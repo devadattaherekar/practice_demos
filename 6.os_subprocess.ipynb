{
 "cells": [
  {
   "cell_type": "code",
   "execution_count": 17,
   "id": "2d025549-9f31-45f7-a1dc-05ef59742e18",
   "metadata": {},
   "outputs": [
    {
     "name": "stdout",
     "output_type": "stream",
     "text": [
      "['_Processor', '_WIN32_CLIENT_RELEASES', '_WIN32_SERVER_RELEASES', '__builtins__', '__cached__', '__copyright__', '__doc__', '__file__', '__loader__', '__name__', '__package__', '__spec__', '__version__', '_comparable_version', '_default_architecture', '_follow_symlinks', '_get_machine_win32', '_java_getprop', '_mac_ver_xml', '_node', '_norm_version', '_os_release_cache', '_os_release_candidates', '_parse_os_release', '_platform', '_platform_cache', '_sys_version', '_sys_version_cache', '_syscmd_file', '_syscmd_ver', '_uname_cache', '_unknown_as_blank', '_ver_stages', '_win32_ver', '_wmi', '_wmi_query', 'architecture', 'collections', 'freedesktop_os_release', 'functools', 'itertools', 'java_ver', 'libc_ver', 'mac_ver', 'machine', 'node', 'os', 'platform', 'processor', 'python_branch', 'python_build', 'python_compiler', 'python_implementation', 'python_revision', 'python_version', 'python_version_tuple', 're', 'release', 'sys', 'system', 'system_alias', 'uname', 'uname_result', 'version', 'win32_edition', 'win32_is_iot', 'win32_ver']\n",
      "10\n",
      "Intel64 Family 6 Model 142 Stepping 9, GenuineIntel\n",
      "10.0.19045\n",
      "Windows\n",
      "VINSYSLT0196\n",
      "AMD64\n",
      "uname_result(system='Windows', node='VINSYSLT0196', release='10', version='10.0.19045', machine='AMD64')\n"
     ]
    }
   ],
   "source": [
    "import platform as pt\n",
    "\n",
    "print(dir(pt))\n",
    "print(pt.release())\n",
    "print(pt.processor())\n",
    "print(pt.version())\n",
    "print(pt.system()) # important function to check the operating system\n",
    "print(pt.node())\n",
    "print(pt.machine())\n",
    "print(pt.uname())"
   ]
  },
  {
   "cell_type": "code",
   "execution_count": 19,
   "id": "82d6f33e-01e4-4c1e-9d46-94ab649bf8c9",
   "metadata": {},
   "outputs": [
    {
     "name": "stdout",
     "output_type": "stream",
     "text": [
      "['DirEntry', 'EX_OK', 'F_OK', 'GenericAlias', 'Mapping', 'MutableMapping', 'O_APPEND', 'O_BINARY', 'O_CREAT', 'O_EXCL', 'O_NOINHERIT', 'O_RANDOM', 'O_RDONLY', 'O_RDWR', 'O_SEQUENTIAL', 'O_SHORT_LIVED', 'O_TEMPORARY', 'O_TEXT', 'O_TRUNC', 'O_WRONLY', 'P_DETACH', 'P_NOWAIT', 'P_NOWAITO', 'P_OVERLAY', 'P_WAIT', 'PathLike', 'R_OK', 'SEEK_CUR', 'SEEK_END', 'SEEK_SET', 'TMP_MAX', 'W_OK', 'X_OK', '_AddedDllDirectory', '_Environ', '__all__', '__builtins__', '__doc__', '__file__', '__loader__', '__name__', '__package__', '__spec__', '_check_methods', '_execvpe', '_exists', '_exit', '_fspath', '_get_exports_list', '_walk_symlinks_as_files', '_wrap_close', 'abc', 'abort', 'access', 'add_dll_directory', 'altsep', 'chdir', 'chmod', 'close', 'closerange', 'cpu_count', 'curdir', 'defpath', 'device_encoding', 'devnull', 'dup', 'dup2', 'environ', 'error', 'execl', 'execle', 'execlp', 'execlpe', 'execv', 'execve', 'execvp', 'execvpe', 'extsep', 'fdopen', 'fsdecode', 'fsencode', 'fspath', 'fstat', 'fsync', 'ftruncate', 'get_blocking', 'get_exec_path', 'get_handle_inheritable', 'get_inheritable', 'get_terminal_size', 'getcwd', 'getcwdb', 'getenv', 'getlogin', 'getpid', 'getppid', 'isatty', 'kill', 'linesep', 'link', 'listdir', 'listdrives', 'listmounts', 'listvolumes', 'lseek', 'lstat', 'makedirs', 'mkdir', 'name', 'open', 'pardir', 'path', 'pathsep', 'pipe', 'popen', 'putenv', 'read', 'readlink', 'remove', 'removedirs', 'rename', 'renames', 'replace', 'rmdir', 'scandir', 'sep', 'set_blocking', 'set_handle_inheritable', 'set_inheritable', 'spawnl', 'spawnle', 'spawnv', 'spawnve', 'st', 'startfile', 'stat', 'stat_result', 'statvfs_result', 'strerror', 'supports_bytes_environ', 'supports_dir_fd', 'supports_effective_ids', 'supports_fd', 'supports_follow_symlinks', 'symlink', 'sys', 'system', 'terminal_size', 'times', 'times_result', 'truncate', 'umask', 'uname_result', 'unlink', 'unsetenv', 'urandom', 'utime', 'waitpid', 'waitstatus_to_exitcode', 'walk', 'write']\n"
     ]
    }
   ],
   "source": [
    "import os\n",
    "\n",
    "print(dir(os))"
   ]
  },
  {
   "cell_type": "code",
   "execution_count": 21,
   "id": "dca7153a-fba3-41e9-affe-6c425235a9bb",
   "metadata": {},
   "outputs": [
    {
     "name": "stdout",
     "output_type": "stream",
     "text": [
      "['_LCMAP_LOWERCASE', '_LCMapStringEx', '_LOCALE_NAME_INVARIANT', '__all__', '__builtins__', '__doc__', '__file__', '__loader__', '__name__', '__package__', '__spec__', '_abspath_fallback', '_get_bothseps', '_getfinalpathname', '_getfinalpathname_nonstrict', '_getfullpathname', '_getvolumepathname', '_nt_readlink', '_path_isdevdrive', '_readlink_deep', 'abspath', 'altsep', 'basename', 'commonpath', 'commonprefix', 'curdir', 'defpath', 'devnull', 'dirname', 'exists', 'expanduser', 'expandvars', 'extsep', 'genericpath', 'getatime', 'getctime', 'getmtime', 'getsize', 'isabs', 'isdevdrive', 'isdir', 'isfile', 'isjunction', 'islink', 'ismount', 'join', 'lexists', 'normcase', 'normpath', 'os', 'pardir', 'pathsep', 'realpath', 'relpath', 'samefile', 'sameopenfile', 'samestat', 'sep', 'split', 'splitdrive', 'splitext', 'splitroot', 'stat', 'supports_unicode_filenames', 'sys']\n"
     ]
    }
   ],
   "source": [
    "print(dir(os.path))"
   ]
  },
  {
   "cell_type": "code",
   "execution_count": 123,
   "id": "d6ec0335-b6d8-4f5e-85fd-c1e3444ee436",
   "metadata": {},
   "outputs": [
    {
     "name": "stdout",
     "output_type": "stream",
     "text": [
      "c:\\\\Users\\shree\n",
      "c:\\Users\\shree\n",
      "['.anaconda', '.astropy', '.atom', '.aws', '.bash_history', '.cache', '.conda', '.condarc', '.continuum', '.docker', '.dotnet', '.eclipse', '.gitconfig', '.idlerc', '.ipynb_checkpoints', '.ipython', '.jupyter', '.lesshst', '.local', '.matplotlib', '.ms-ad', '.p2', '.python_history', '.spyder-py3', '.ssh', '.venv', '.viminfo', '.vscode', '1.string.ipynb', '2.collections.ipynb', '3.control_stms.ipynb', '3D Objects', '4.Functions.ipynb', '5.Errors.ipynb', '6.os_subprocess.ipynb', 'airports.csv', 'anaconda3', 'anaconda_projects', 'AppData', 'Application Data', 'build', 'Contacts', 'Cookies', 'copy_gratitude.txt', 'Desktop', 'deva', 'disney_plus_titles.csv', 'dist', 'djangoprojects', 'Documents', 'Downloads', 'eclipse', 'eclipse-workspace', 'Favorites', 'filewillbecreated.txt', 'gratitude.txt', 'images', 'Intel', 'IntelGraphicsProfiles', 'jcef_13600.log', 'Links', 'Local Settings', 'modules', 'Music', 'My Documents', 'NetHood', 'NTUSER.DAT', 'ntuser.dat.LOG1', 'ntuser.dat.LOG2', 'NTUSER.DAT{09369055-356a-11ef-8fea-00216beacf76}.TM.blf', 'NTUSER.DAT{09369055-356a-11ef-8fea-00216beacf76}.TMContainer00000000000000000001.regtrans-ms', 'NTUSER.DAT{09369055-356a-11ef-8fea-00216beacf76}.TMContainer00000000000000000002.regtrans-ms', 'NTUSER.DAT{53b39e88-18c4-11ea-a811-000d3aa4692b}.TM.blf', 'NTUSER.DAT{53b39e88-18c4-11ea-a811-000d3aa4692b}.TMContainer00000000000000000001.regtrans-ms', 'NTUSER.DAT{53b39e88-18c4-11ea-a811-000d3aa4692b}.TMContainer00000000000000000002.regtrans-ms', 'NTUSER.DAT{b6df92cd-ac5d-11ef-9000-00216beacf76}.TM.blf', 'NTUSER.DAT{b6df92cd-ac5d-11ef-9000-00216beacf76}.TMContainer00000000000000000001.regtrans-ms', 'NTUSER.DAT{b6df92cd-ac5d-11ef-9000-00216beacf76}.TMContainer00000000000000000002.regtrans-ms', 'ntuser.ini', 'objects', 'OneDrive', 'PANDAS_2025_April', 'Pictures', 'players.csv', 'PrintHood', 'PyCharmMiscProject', 'PycharmProjects', 'Recent', 'rhyme.txt', 'sample_datasets', 'Saved Games', 'Searches', 'SendTo', 'source', 'Start Menu', 'survey_results_public.csv', 'survey_results_schema.csv', 'Templates', 'test_directory', 'venv', 'Videos']\n",
      "30\n",
      "['$RECYCLE.BIN', 'course contents', 'Outlook Files', 'Softwares', 'System Volume Information', 'VINSYSLT0196 - Devadatta Herekar.pdf', 'wifi.txt']\n",
      "['$Recycle.Bin', '$WINDOWS.~BT', '$Windows.~WS', '$WinREAgent', 'appverifUI.dll', 'bootTel.dat', 'Config.Msi', 'Documents and Settings', 'DumpStack.log', 'DumpStack.log.tmp', 'eclipse', 'ESD', 'FibocomLog', 'hiberfil.sys', 'inetpub', 'Intel', 'MSOCache', 'OneDriveTemp', 'pagefile.sys', 'PerfLogs', 'Program Files', 'Program Files (x86)', 'ProgramData', 'Recovery', 'swapfile.sys', 'Symantec', 'System Volume Information', 'Users', 'vfcompat.dll', 'Windows']\n",
      "shree\n",
      "c:\\\\Users\n",
      "\\\n",
      "c:\\Users\\shree\n"
     ]
    },
    {
     "name": "stdin",
     "output_type": "stream",
     "text": [
      "Enter the directory name to create folder1\n"
     ]
    }
   ],
   "source": [
    "import os\n",
    "\n",
    "directory_name=\"shree\"\n",
    "drive=\"c:\\\\\"\n",
    "mypath=drive+os.path.sep+\"Users\"+os.path.sep+directory_name\n",
    "print(mypath)\n",
    "print(os.getcwd())\n",
    "print(os.listdir())\n",
    "print(len(os.listdir(\"c:\\\\\")))\n",
    "print(os.listdir(\"d:\\\\\"))\n",
    "os.chdir(\"c:\\\\\")\n",
    "print(os.listdir())\n",
    "os.chdir(mypath)\n",
    "print(os.path.basename(mypath))\n",
    "print(os.path.dirname(mypath))\n",
    "print(os.sep)\n",
    "print(os.getcwd())\n",
    "dirname=input(\"Enter the directory name to create\")\n",
    "if os.path.isdir(dirname):\n",
    "    print(f\"{dirname} Directory already exists\")\n",
    "else:\n",
    "    os.mkdir(dirname)"
   ]
  },
  {
   "cell_type": "code",
   "execution_count": 125,
   "id": "b96efaa9-dc4a-4da7-84ba-80e79cf0494f",
   "metadata": {},
   "outputs": [
    {
     "name": "stdout",
     "output_type": "stream",
     "text": [
      "['DirEntry', 'EX_OK', 'F_OK', 'GenericAlias', 'Mapping', 'MutableMapping', 'O_APPEND', 'O_BINARY', 'O_CREAT', 'O_EXCL', 'O_NOINHERIT', 'O_RANDOM', 'O_RDONLY', 'O_RDWR', 'O_SEQUENTIAL', 'O_SHORT_LIVED', 'O_TEMPORARY', 'O_TEXT', 'O_TRUNC', 'O_WRONLY', 'P_DETACH', 'P_NOWAIT', 'P_NOWAITO', 'P_OVERLAY', 'P_WAIT', 'PathLike', 'R_OK', 'SEEK_CUR', 'SEEK_END', 'SEEK_SET', 'TMP_MAX', 'W_OK', 'X_OK', '_AddedDllDirectory', '_Environ', '__all__', '__builtins__', '__doc__', '__file__', '__loader__', '__name__', '__package__', '__spec__', '_check_methods', '_execvpe', '_exists', '_exit', '_fspath', '_get_exports_list', '_walk_symlinks_as_files', '_wrap_close', 'abc', 'abort', 'access', 'add_dll_directory', 'altsep', 'chdir', 'chmod', 'close', 'closerange', 'cpu_count', 'curdir', 'defpath', 'device_encoding', 'devnull', 'dup', 'dup2', 'environ', 'error', 'execl', 'execle', 'execlp', 'execlpe', 'execv', 'execve', 'execvp', 'execvpe', 'extsep', 'fdopen', 'fsdecode', 'fsencode', 'fspath', 'fstat', 'fsync', 'ftruncate', 'get_blocking', 'get_exec_path', 'get_handle_inheritable', 'get_inheritable', 'get_terminal_size', 'getcwd', 'getcwdb', 'getenv', 'getlogin', 'getpid', 'getppid', 'isatty', 'kill', 'linesep', 'link', 'listdir', 'listdrives', 'listmounts', 'listvolumes', 'lseek', 'lstat', 'makedirs', 'mkdir', 'name', 'open', 'pardir', 'path', 'pathsep', 'pipe', 'popen', 'putenv', 'read', 'readlink', 'remove', 'removedirs', 'rename', 'renames', 'replace', 'rmdir', 'scandir', 'sep', 'set_blocking', 'set_handle_inheritable', 'set_inheritable', 'spawnl', 'spawnle', 'spawnv', 'spawnve', 'st', 'startfile', 'stat', 'stat_result', 'statvfs_result', 'strerror', 'supports_bytes_environ', 'supports_dir_fd', 'supports_effective_ids', 'supports_fd', 'supports_follow_symlinks', 'symlink', 'sys', 'system', 'terminal_size', 'times', 'times_result', 'truncate', 'umask', 'uname_result', 'unlink', 'unsetenv', 'urandom', 'utime', 'waitpid', 'waitstatus_to_exitcode', 'walk', 'write']\n"
     ]
    }
   ],
   "source": [
    "print(dir(os))"
   ]
  },
  {
   "cell_type": "code",
   "execution_count": 139,
   "id": "886b0fcd-2467-4146-8abc-b4c4d994460f",
   "metadata": {},
   "outputs": [],
   "source": [
    "import os\n",
    "try:\n",
    "    os.makedirs(\"c:\\\\users\\\\shree\\\\dir1\\\\dir2\\\\dir3\")\n",
    "except Exception as errmsg:\n",
    "    print(errmsg)\n",
    "#os.removedirs(\"c:\\\\users\\\\shree\\\\dir1\\\\dir2\\\\dir3\")\n",
    "#os.rename(\"dir1\",\"mydirectory\")"
   ]
  },
  {
   "cell_type": "code",
   "execution_count": 163,
   "id": "5bc45c4a-88db-4ed5-b6c3-c82eb5e9795d",
   "metadata": {},
   "outputs": [
    {
     "name": "stdout",
     "output_type": "stream",
     "text": [
      "Total number of directories 3\n",
      "firstApp\n",
      "firstProject\n",
      "secondApp\n",
      "Total number of files 2\n",
      "db.sqlite3\n",
      "manage.py\n",
      "Total number of directories 2\n",
      "migrations\n",
      "__pycache__\n",
      "Total number of files 7\n",
      "admin.py\n",
      "apps.py\n",
      "models.py\n",
      "tests.py\n",
      "urls.py\n",
      "views.py\n",
      "__init__.py\n",
      "Total number of directories 1\n",
      "__pycache__\n",
      "Total number of files 1\n",
      "__init__.py\n",
      "Total number of files 1\n",
      "__init__.cpython-313.pyc\n",
      "Total number of files 6\n",
      "admin.cpython-313.pyc\n",
      "apps.cpython-313.pyc\n",
      "models.cpython-313.pyc\n",
      "urls.cpython-313.pyc\n",
      "views.cpython-313.pyc\n",
      "__init__.cpython-313.pyc\n",
      "Total number of directories 1\n",
      "__pycache__\n",
      "Total number of files 5\n",
      "asgi.py\n",
      "settings.py\n",
      "urls.py\n",
      "wsgi.py\n",
      "__init__.py\n",
      "Total number of files 4\n",
      "settings.cpython-313.pyc\n",
      "urls.cpython-313.pyc\n",
      "wsgi.cpython-313.pyc\n",
      "__init__.cpython-313.pyc\n",
      "Total number of directories 2\n",
      "migrations\n",
      "__pycache__\n",
      "Total number of files 6\n",
      "admin.py\n",
      "apps.py\n",
      "models.py\n",
      "tests.py\n",
      "views.py\n",
      "__init__.py\n",
      "Total number of directories 1\n",
      "__pycache__\n",
      "Total number of files 1\n",
      "__init__.py\n",
      "Total number of files 1\n",
      "__init__.cpython-313.pyc\n",
      "Total number of files 5\n",
      "admin.cpython-313.pyc\n",
      "apps.cpython-313.pyc\n",
      "models.cpython-313.pyc\n",
      "views.cpython-313.pyc\n",
      "__init__.cpython-313.pyc\n"
     ]
    }
   ],
   "source": [
    "import os\n",
    "\n",
    "#print(list(os.walk(r\"C:\\Users\\Shree\\djangoprojects\\firstProject\")))\n",
    "for path,dirs,files in os.walk(r\"C:\\Users\\Shree\\djangoprojects\\firstProject\"):\n",
    "    #print(path)\n",
    "    if any(dirs):\n",
    "        print(\"Total number of directories\",len(dirs))\n",
    "        for each_dir in dirs:\n",
    "            print(each_dir)\n",
    "    if any(files):\n",
    "        print(\"Total number of files\",len(files))\n",
    "        for each_file in files:\n",
    "            print(each_file)     "
   ]
  },
  {
   "cell_type": "code",
   "execution_count": null,
   "id": "160f5280-fe57-4028-b604-aceda54cfe01",
   "metadata": {},
   "outputs": [],
   "source": []
  }
 ],
 "metadata": {
  "kernelspec": {
   "display_name": "Python 3 (ipykernel)",
   "language": "python",
   "name": "python3"
  },
  "language_info": {
   "codemirror_mode": {
    "name": "ipython",
    "version": 3
   },
   "file_extension": ".py",
   "mimetype": "text/x-python",
   "name": "python",
   "nbconvert_exporter": "python",
   "pygments_lexer": "ipython3",
   "version": "3.12.7"
  }
 },
 "nbformat": 4,
 "nbformat_minor": 5
}
