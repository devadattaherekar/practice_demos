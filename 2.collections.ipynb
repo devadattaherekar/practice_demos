{
 "cells": [
  {
   "cell_type": "code",
   "execution_count": null,
   "id": "e74d861a-08f0-41a4-8796-4bc316d806e0",
   "metadata": {},
   "outputs": [],
   "source": [
    "# collections are data structures (The way in which data is stored in memory)\n",
    "# so that operations must be done in efficient way (time complexity / space complexity) Big O notation\n",
    "# collections are in memory databases (temporary databases)\n",
    "# list [] tuple () dict{key:value} set{}\n",
    "# list is mutable ordered  collection of elements\n",
    "mylist=[10,\"sachin\",True,98.56,None,(4+3j)]\n",
    "print(mylist,id(mylist),type(mylist))\n",
    "print(mylist[0]) # unpacking collection using [] \n",
    "print(mylist[0:3])\n",
    "print(mylist[::2])\n",
    "print(mylist[::-1],id(mylist))\n",
    "print(mylist[-1])\n",
    "print(mylist[-3:],id(mylist))"
   ]
  },
  {
   "cell_type": "code",
   "execution_count": null,
   "id": "a249f944-2adc-4ffc-9cbd-13279cf7c881",
   "metadata": {},
   "outputs": [],
   "source": [
    "banks=[\"sbi\",\"axis\",\"sbi\",\"icici\"]\n",
    "print(banks,id(banks))\n",
    "banks.append(\"kotak\")\n",
    "print(banks,id(banks))\n",
    "banks.insert(1,\"bob\")\n",
    "print(banks,id(banks))\n",
    "#mybanks=banks # shallow copy # both references are pointing to same memory location\n",
    "mybanks=banks.copy() # deep copy # A new memory location gets created and all the values are copied at new location\n",
    "banks.clear()\n",
    "print(banks,id(banks))\n",
    "print(mybanks,id(mybanks))\n",
    "newbanks=[\"dena bank\",\"yes bank\"]\n",
    "#mybanks.extend(newbanks) # Here extend takes iterable and merges all elements into the list\n",
    "mybanks.append(newbanks)\n",
    "print(mybanks,id(mybanks))\n",
    "print(mybanks[-1][-1],mybanks[6][1])\n",
    "print(mybanks[-1],mybanks[6])\n",
    "print(mybanks)\n",
    "del mybanks[-1] # delete operation\n",
    "print(mybanks)\n",
    "print(\"Poped bank is\",mybanks.pop())\n",
    "print(\"Poped bank is\",mybanks.pop(3))\n",
    "try:\n",
    "    print(\"Poped bank is\",mybanks.pop(10))\n",
    "except:\n",
    "    print(\"Index out of range!\") \n",
    "print(mybanks)\n",
    "mybanks.remove('bob')\n",
    "try:\n",
    "    mybanks.remove('deushe')\n",
    "except:\n",
    "    print(\"deushe is not present!\")\n",
    "print(mybanks,id(mybanks),id(mybanks[0]),id(mybanks[1]))\n",
    "mybanks[0]=\"state Bank of India\"\n",
    "mybanks.append(\"axis\")\n",
    "print(mybanks,id(mybanks),id(mybanks[0]),id(mybanks[1]))\n",
    "print(\"Position of axis bank\",mybanks.index(\"axis\"))\n",
    "print(\"Position of axis bank\",mybanks.index(\"axis\",2))\n",
    "print(f\"Axis bank count is {mybanks.count(\"axis\")}\")\n",
    "print(f\"Total number of banks {len(mybanks)}\")\n",
    "mybanks.reverse()\n",
    "print(mybanks)\n",
    "mybanks.sort()\n",
    "print(mybanks,id(mybanks))\n",
    "mybanks.sort(reverse=True)\n",
    "print(mybanks,id(mybanks))"
   ]
  },
  {
   "cell_type": "code",
   "execution_count": null,
   "id": "5971c70c-3300-4191-90cf-79226f051032",
   "metadata": {},
   "outputs": [],
   "source": [
    "print(dir(list)) # CRUD"
   ]
  },
  {
   "cell_type": "code",
   "execution_count": null,
   "id": "04a44826-4c67-4cf3-b812-83d3cefe4403",
   "metadata": {},
   "outputs": [],
   "source": [
    "print(help(list.append))"
   ]
  },
  {
   "cell_type": "code",
   "execution_count": null,
   "id": "69e0ff57-0ca1-4d9b-84e8-787be8932bc5",
   "metadata": {},
   "outputs": [],
   "source": [
    "# Note: collections are also called as iterables\n",
    "# Note: iterators are for: next()\n",
    "num1=[10,20,30]\n",
    "num2=[40,50,60]\n",
    "print(help(list.extend))\n",
    "#num1.extend(num2)\n",
    "num1.append(num2)\n",
    "print(num1)"
   ]
  },
  {
   "cell_type": "code",
   "execution_count": null,
   "id": "3563ff72-6ff3-43c2-9d95-c39f1cfbd740",
   "metadata": {},
   "outputs": [],
   "source": [
    "mylist=[[1,2,3],[4,5,6],[7,8,9]]\n",
    "print(mylist)\n",
    "print(mylist[0])\n",
    "print(mylist[0][0])\n",
    "print(mylist[2][2],mylist[-1][-1])"
   ]
  },
  {
   "cell_type": "code",
   "execution_count": null,
   "id": "ace30637-2913-4017-9c87-20a05a016d2f",
   "metadata": {},
   "outputs": [],
   "source": [
    "# tuple is readonly database or readonly record\n",
    "# tuple is immutable ordered hetergeous collection \n",
    "print(dir(tuple)) "
   ]
  },
  {
   "cell_type": "code",
   "execution_count": null,
   "id": "2e609f67-4ec1-4f9b-8423-4664cbbf0a6e",
   "metadata": {},
   "outputs": [],
   "source": [
    "banks=(\"sbi\",\"axis\",\"sbi\",\"icici\")\n",
    "print(banks,id(banks),type(banks))\n",
    "# banks[0]=\"state bank\" # 'tuple' object does not support item assignment\n",
    "# del banks[0] # 'tuple' object doesn't support item deletion\n",
    "# banks.insert(0,\"yesbank\") # 'tuple' object has no attribute 'insert'\n",
    "print(banks,id(banks),type(banks)) \n",
    "print(banks[0],banks[-1])\n",
    "print(banks[::-1])\n",
    "mybanks=banks # shallow copy is allowed\n",
    "print(mybanks[::2])\n",
    "print(mybanks)"
   ]
  },
  {
   "cell_type": "code",
   "execution_count": null,
   "id": "20a933aa-b6e2-4817-be71-252a745fda71",
   "metadata": {},
   "outputs": [],
   "source": [
    "# list of list \n",
    "# list of tuple\n",
    "# tuple of tuple\n",
    "# tuple of list\n",
    "sensex=[\n",
    "        [\"accenture\",1000,599.59,\"15/May/2025\"],\n",
    "        [\"wipro\",2000,1599.99,\"14/May/2025\"],\n",
    "        [\"infosys\",3000,2599.98,\"12/May/2025\"],\n",
    "        [\"tcs\",4000,4599.50,\"13/May/2025\"],\n",
    "        [\"ibm\",5000,67599.75,\"11/May/2025\"]\n",
    "]\n",
    "print(sensex)\n",
    "print(\"First record\",sensex[0])\n",
    "sensex[0][-1]=\"10/Apr/2025\" # update record \n",
    "print(\"Price of Accenture record\",sensex[0][1])\n",
    "print(\"Last record\",sensex[-1])\n",
    "print(\"Price of IBM record\",sensex[-1][1])\n",
    "print(sensex)"
   ]
  },
  {
   "cell_type": "code",
   "execution_count": null,
   "id": "6c527458-c3ec-4f67-8f3f-ebd5074896d5",
   "metadata": {},
   "outputs": [],
   "source": [
    "sensex=[\n",
    "        (\"accenture\",1000,599.59,\"15/May/2025\"),\n",
    "        [\"wipro\",2000,1599.99,\"14/May/2025\"],\n",
    "        [\"infosys\",3000,2599.98,\"12/May/2025\"],\n",
    "        [\"tcs\",4000,4599.50,\"13/May/2025\"],\n",
    "        [\"ibm\",5000,67599.75,\"11/May/2025\"]\n",
    "]\n",
    "sensex.append((\"nice\",6000,999.99,\"16/May/2025\"))\n",
    "sensex[-1]=[\"nice\",6000,999.99,\"16/May/2025\"] # updated tuple to list\n",
    "sensex[-1][0]=\"Nice Interactive Solutions\"\n",
    "#del sensex[-1][1]\n",
    "#sensex[-1].pop(1) \n",
    "#sensex[-1].insert(1,10000)\n",
    "#sensex[-1].remove('Nice Interactive Solutions')\n",
    "print(sensex)"
   ]
  },
  {
   "cell_type": "code",
   "execution_count": null,
   "id": "cf1a2eb3-5e05-4730-a308-415bda681082",
   "metadata": {},
   "outputs": [],
   "source": [
    "sensex=(\n",
    "        [\"accenture\",1000,599.59,\"15/May/2025\"],\n",
    "        [\"wipro\",2000,1599.99,\"14/May/2025\"],\n",
    "        [\"infosys\",3000,2599.98,\"12/May/2025\"],\n",
    "        [\"tcs\",4000,4599.50,\"13/May/2025\"],\n",
    "        [\"ibm\",5000,67599.75,\"11/May/2025\"]\n",
    ")\n",
    "sensex[0][0]=\"High performance delivered\"\n",
    "print(sensex)"
   ]
  },
  {
   "cell_type": "code",
   "execution_count": null,
   "id": "b200c44f-e99f-4091-b08e-7928c33890a8",
   "metadata": {},
   "outputs": [],
   "source": [
    "value=10\n",
    "print(type(value))\n",
    "value=[]\n",
    "print(type(value))\n",
    "value=()\n",
    "print(type(value))\n",
    "value=[3]\n",
    "print(type(value))\n",
    "value=(3) # int!!!\n",
    "print(type(value))\n",
    "value=10, # comma creates a tuple with one element!\n",
    "print(type(value))\n",
    "value=(3,) # using () is optional for tuple but comma is mandatory!\n",
    "print(type(value))\n",
    "value={} # dict\n",
    "print(type(value))\n",
    "value={10} # set\n",
    "print(type(value))\n",
    "value={10:\"sachin\"} # dict\n",
    "print(type(value))"
   ]
  },
  {
   "cell_type": "code",
   "execution_count": null,
   "id": "a620f70c-4510-44b3-be85-62b139ae6e7e",
   "metadata": {},
   "outputs": [],
   "source": [
    "# dict is ordered mutable collection of key:value pairs in python\n",
    "players={10:\"sachin\",99:\"sehwag\"}\n",
    "print(players,id(players))\n",
    "# put key:value to add key:value in dict or use setdefault\n",
    "players[18]=\"virat\" # if the key is not present then key and value gets added # There is no insert() or append() in dict!\n",
    "print(players,id(players))\n",
    "players[99]=\"gayle\"  # if the key is already present then the value gets updated\n",
    "print(players,id(players))\n",
    "players.setdefault(7,\"dhoni\") # Here key and value gets added in dict\n",
    "print(players,id(players))\n",
    "players.setdefault(7,\"msd\") # Here key and value does not get added in dict\n",
    "print(players,id(players))\n",
    "print(players.get(18)) # use the key the get the value using get()\n",
    "print(players.get(333,\"Key is not present\"))\n",
    "print(players[18]) # print the value from dict using key!\n",
    "try:\n",
    "    print(players[333])\n",
    "except:\n",
    "    print(\"Key is not present!!!\")\n",
    "dream11={800:\"murali\",23:\"shane\"}\n",
    "players.update(dream11)\n",
    "print(players)\n",
    "players.pop(99) # pop(key) from dict\n",
    "print(\"Poped value is \",players.popitem()) # returns a tuple (key:value) LIFO\n",
    "del players[7] # del key and value from dict\n",
    "print(players) "
   ]
  },
  {
   "cell_type": "code",
   "execution_count": null,
   "id": "b51c55d4-e210-4dc2-ba1a-333c92edf434",
   "metadata": {},
   "outputs": [],
   "source": [
    "print(dir(dict))"
   ]
  },
  {
   "cell_type": "code",
   "execution_count": null,
   "id": "06d5b36f-e4ce-49a1-9f3b-30cab7352ca9",
   "metadata": {},
   "outputs": [],
   "source": [
    "players=[10,17,18,45]\n",
    "dream11=dict.fromkeys(players) #creates a dict with keys. values are None by default and can be updated later on!\n",
    "print(dream11)\n",
    "dream11[10]=\"sachin\"\n",
    "dream11[17]=\"pant\"\n",
    "dream11[18]=\"virat\"\n",
    "dream11[45]=\"rohit\"\n",
    "print(dream11)\n",
    "print(dream11.keys()) # list of only keys!\n",
    "print(dream11.values()) # list of only values!\n",
    "print(dream11.items()) # list of tuples [(k1:v1),(k2:v2)...]"
   ]
  },
  {
   "cell_type": "code",
   "execution_count": null,
   "id": "b84c0a3e-9123-407b-a38d-968edd1991a9",
   "metadata": {},
   "outputs": [],
   "source": [
    "sensex={\n",
    "        \"sun pharma\":{\"current\":1000,\"high\":1500,\"low\":900},\n",
    "        \"olectra\":{\"current\":500,\"high\":600,\"low\":400},\n",
    "        \"hdfc\":{\"current\":300,\"high\":330,\"low\":290},\n",
    "        \"accenture\":{\"current\":100,\"high\":110,\"low\":90},\n",
    "}\n",
    "print(\"Todays sensex of hdfc\",sensex[\"hdfc\"])\n",
    "print(\"High price for olectra\",sensex[\"olectra\"][\"high\"]) \n",
    "print(\"Current value of Nice\",sensex[\"nice\"][0])\n",
    "sensex[\"nice\"][0]=99\n",
    "print(sensex)"
   ]
  },
  {
   "cell_type": "code",
   "execution_count": null,
   "id": "58d493ce-2cb9-4b6f-81a7-76e62f4bfa1f",
   "metadata": {},
   "outputs": [],
   "source": [
    "sensex=[ (\"sun pharma\",1000,1500,900),\n",
    "         (\"olectra\",500,600,400),\n",
    "         (\"hdfc\",300,330,290),\n",
    "       ]\n",
    "print(\"Todays sensex of hdfc\",sensex[-1]) # index slicing operator to unpack tuple or list\n",
    "print(\"High price for olectra\",sensex[1][-2]) \n",
    "print(\"Current price for olectra\",sensex[1][1]) \n",
    "rec1,rec2,rec3=sensex\n",
    "print(rec1)\n",
    "print(rec2)\n",
    "company,current,high,low=sensex[1] # multiple variable assignment to unpack tuple or list\n",
    "#print(f\"Company={company} Current={current} High={high} Low={low}\")"
   ]
  },
  {
   "cell_type": "code",
   "execution_count": null,
   "id": "52968566-3004-45ea-a0d9-bbbbd46b361c",
   "metadata": {},
   "outputs": [],
   "source": [
    "# set is unordered mutable hetergeous collection of unique records\n",
    "# Note: set will eliminate duplicates (There is no error!)\n",
    "# set is mutable but the elements within set have to be immutable\n",
    "# set can contain int/float/str/bool/complex/None/tuple\n",
    "# set cannot contain list/dict/set"
   ]
  },
  {
   "cell_type": "code",
   "execution_count": 19,
   "id": "40ff6cb7-e3b9-4ff1-95dc-18abfce86ff4",
   "metadata": {},
   "outputs": [
    {
     "name": "stdout",
     "output_type": "stream",
     "text": [
      "<class 'set'> {None, True, 3.5, 'sachin', (4+2j), 10, (10, 20, 30)} 2803619579488\n",
      "['__and__', '__class__', '__class_getitem__', '__contains__', '__delattr__', '__dir__', '__doc__', '__eq__', '__format__', '__ge__', '__getattribute__', '__getstate__', '__gt__', '__hash__', '__iand__', '__init__', '__init_subclass__', '__ior__', '__isub__', '__iter__', '__ixor__', '__le__', '__len__', '__lt__', '__ne__', '__new__', '__or__', '__rand__', '__reduce__', '__reduce_ex__', '__repr__', '__ror__', '__rsub__', '__rxor__', '__setattr__', '__sizeof__', '__str__', '__sub__', '__subclasshook__', '__xor__', 'add', 'clear', 'copy', 'difference', 'difference_update', 'discard', 'intersection', 'intersection_update', 'isdisjoint', 'issubset', 'issuperset', 'pop', 'remove', 'symmetric_difference', 'symmetric_difference_update', 'union', 'update']\n"
     ]
    }
   ],
   "source": [
    "myset={10,\"sachin\",3.5,True,(4+2j),None,(10,20,30),\"sachin\",\"sachin\"}\n",
    "print(type(myset),myset,id(myset))\n",
    "print(dir(set)) # CRUD"
   ]
  },
  {
   "cell_type": "code",
   "execution_count": 49,
   "id": "15314ffb-10d9-49a4-901f-33532a0f4b63",
   "metadata": {},
   "outputs": [
    {
     "name": "stdout",
     "output_type": "stream",
     "text": [
      "{'tieto', 'tcs', 'wipro', 'tata', 'infosys'}\n",
      "set() 2803619585760\n",
      "{'tieto', 'tcs', 'wipro', 'tata', 'infosys'} 2803619578144\n",
      "{'tieto', 'accenture', 'nice', 'tcs', 'wipro', 'tata', 'infosys'} 2803619578144\n",
      "{'tieto', 'accenture', 'nice', 'tcs', 'wipro', 'tata', 'infosys'}\n",
      "{'tieto', 'accenture', 'nice', 'tcs', 'wipro', 'tata', 'infosys'}\n",
      "KeyError!\n",
      "{'tieto', 'accenture', 'tcs', 'wipro', 'tata'}\n",
      "tieto accenture tcs wipro tata\n"
     ]
    }
   ],
   "source": [
    "companies={\"tieto\",\"tcs\",\"tata\",\"wipro\"}\n",
    "companies.add(\"infosys\")\n",
    "print(companies)\n",
    "mycompanies=companies.copy()\n",
    "companies.clear()\n",
    "print(companies,id(companies))\n",
    "print(mycompanies,id(mycompanies))\n",
    "company={\"nice\",\"accenture\"}\n",
    "mycompanies.update(company)\n",
    "print(mycompanies,id(mycompanies))\n",
    "#mycompanies.add({10,20}) # TypeError: unhashable type: 'set'\n",
    "print(mycompanies)\n",
    "#print(mycompanies.pop())\n",
    "print(mycompanies)\n",
    "mycompanies.remove('nice')\n",
    "mycompanies.discard('infosys')\n",
    "try:\n",
    "    mycompanies.remove('infosys')\n",
    "except:\n",
    "    print(\"KeyError!\")\n",
    "mycompanies.discard('vinsys') # No Error if the record or value is not present \n",
    "print(mycompanies)\n",
    "print(*mycompanies) # unpack all records from set"
   ]
  },
  {
   "cell_type": "code",
   "execution_count": 45,
   "id": "b1413355-59bf-4015-a01f-0d37a9862a54",
   "metadata": {},
   "outputs": [
    {
     "name": "stdout",
     "output_type": "stream",
     "text": [
      "[10, 20]\n",
      "[1000, 20]\n",
      "1000\n"
     ]
    }
   ],
   "source": [
    "list1=[10,20]\n",
    "print(list1)\n",
    "list1[0]=1000\n",
    "print(list1)\n",
    "print(list1[0])"
   ]
  },
  {
   "cell_type": "code",
   "execution_count": 47,
   "id": "e6123d16-cb55-4ce7-b0c6-ae830d0b34d6",
   "metadata": {},
   "outputs": [
    {
     "name": "stdout",
     "output_type": "stream",
     "text": [
      "{10: 'sachin'}\n",
      "{10: 'sehwag'}\n",
      "sehwag\n"
     ]
    }
   ],
   "source": [
    "mydict={10:\"sachin\"}\n",
    "print(mydict)\n",
    "mydict[10]=\"sehwag\"\n",
    "print(mydict)\n",
    "print(mydict.get(10))"
   ]
  },
  {
   "cell_type": "code",
   "execution_count": 33,
   "id": "b24b972f-40f9-43bc-a538-91f300d96052",
   "metadata": {},
   "outputs": [
    {
     "name": "stdout",
     "output_type": "stream",
     "text": [
      "{10, 'sachin'} 2803619592256\n",
      "{'tendulkar', 10} 2803619592256\n"
     ]
    }
   ],
   "source": [
    "myset={10,\"sachin\"}\n",
    "print(myset,id(myset))\n",
    "myset.discard(\"sachin\")\n",
    "myset.add(\"tendulkar\")\n",
    "print(myset,id(myset))"
   ]
  },
  {
   "cell_type": "code",
   "execution_count": 43,
   "id": "5f9e0790-6fd4-42db-b6df-31ce19dd7c75",
   "metadata": {},
   "outputs": [
    {
     "name": "stdout",
     "output_type": "stream",
     "text": [
      "(10, 20, 30, 40) 2803641836032\n",
      "(20, 30, 40) 2803642328704\n"
     ]
    }
   ],
   "source": [
    "mytuple=(10,20,30,40)\n",
    "print(mytuple,id(mytuple))\n",
    "#del mytuple\n",
    "mytuple=mytuple[1:4]\n",
    "print(mytuple,id(mytuple))"
   ]
  },
  {
   "cell_type": "code",
   "execution_count": 71,
   "id": "22df692a-0cd8-4626-8c01-352287ec9691",
   "metadata": {},
   "outputs": [
    {
     "name": "stdout",
     "output_type": "stream",
     "text": [
      "False\n",
      "False\n",
      "True\n",
      "{'pollard', 'gayle', 'shami', 'russel', 'pat cummins', 'rohit', 'narine', 'virat', 'bumrah', 'bravo', 'travis head', 'gill', 'smith', 'pandya'}\n",
      "True\n",
      "indian batters are {'rohit', 'virat', 'pandya', 'gill'}\n",
      "indian bowlers are {'bumrah', 'shami'}\n",
      "Uncommon players from both datasets  {'pollard', 'gayle', 'shami', 'russel', 'pat cummins', 'bumrah', 'travis head', 'bravo', 'smith'}\n"
     ]
    }
   ],
   "source": [
    "Indian={\"virat\",\"rohit\",\"bumrah\",\"shami\",\"gill\",\"pandya\"}\n",
    "Batters={\"virat\",\"rohit\",\"gill\",\"pandya\",\"pat cummins\",\"smith\",\"travis head\",\n",
    "        \"pollard\",\"bravo\",\"gayle\",\"russel\",\n",
    "        }\n",
    "Australia={\"pat cummins\",\"smith\",\"travis head\"}\n",
    "WestIndies={\"pollard\",\"bravo\",\"gayle\",\"russel\",\"narine\"}\n",
    "Cricketers={'pollard', 'gayle', 'shami', 'russel', 'pat cummins', 'rohit', \n",
    "            'narine', 'virat', 'bumrah', 'bravo', 'travis head', 'gill', 'smith', 'pandya'}\n",
    "print(Indian.issuperset(Batters))\n",
    "print(Batters.issubset(Indian))\n",
    "print(Australia.isdisjoint(Indian))\n",
    "print(WestIndies.union(Australia).union(Indian))\n",
    "print(WestIndies.union(Australia).union(Indian)==Cricketers)\n",
    "print(\"indian batters are\",Indian.intersection(Batters))\n",
    "print(\"indian bowlers are\",Indian.difference(Batters))\n",
    "print(\"Uncommon players from both datasets \",Indian.symmetric_difference(Batters))"
   ]
  },
  {
   "cell_type": "code",
   "execution_count": 83,
   "id": "e3332fb9-f84d-40f3-9b65-0a2173d86e6b",
   "metadata": {},
   "outputs": [
    {
     "name": "stdout",
     "output_type": "stream",
     "text": [
      "['__and__', '__class__', '__class_getitem__', '__contains__', '__delattr__', '__dir__', '__doc__', '__eq__', '__format__', '__ge__', '__getattribute__', '__getstate__', '__gt__', '__hash__', '__iand__', '__init__', '__init_subclass__', '__ior__', '__isub__', '__iter__', '__ixor__', '__le__', '__len__', '__lt__', '__ne__', '__new__', '__or__', '__rand__', '__reduce__', '__reduce_ex__', '__repr__', '__ror__', '__rsub__', '__rxor__', '__setattr__', '__sizeof__', '__str__', '__sub__', '__subclasshook__', '__xor__', 'add', 'clear', 'copy', 'difference', 'difference_update', 'discard', 'intersection', 'intersection_update', 'isdisjoint', 'issubset', 'issuperset', 'pop', 'remove', 'symmetric_difference', 'symmetric_difference_update', 'union', 'update']\n",
      "{'virat', 'shami', 'bumrah', 'pandya', 'gill', 'rohit'}\n",
      "{'bumrah', 'shami'}\n",
      "{'virat', 'shami', 'bumrah', 'pandya', 'gill', 'rohit'}\n"
     ]
    }
   ],
   "source": [
    "Indian={\"virat\",\"rohit\",\"bumrah\",\"shami\",\"gill\",\"pandya\"}\n",
    "Batters={\"virat\",\"rohit\",\"gill\",\"pandya\",\"pat cummins\",\"smith\",\"travis head\",\n",
    "        \"pollard\",\"bravo\",\"gayle\",\"russel\",\n",
    "        }\n",
    "print(dir(Indian))\n",
    "print(Indian)\n",
    "print(Indian.difference(Batters))\n",
    "print(Indian)"
   ]
  },
  {
   "cell_type": "code",
   "execution_count": 87,
   "id": "a3ec7a03-f71e-4589-b309-448b4892a68f",
   "metadata": {},
   "outputs": [
    {
     "name": "stdout",
     "output_type": "stream",
     "text": [
      "['__and__', '__class__', '__class_getitem__', '__contains__', '__delattr__', '__dir__', '__doc__', '__eq__', '__format__', '__ge__', '__getattribute__', '__getstate__', '__gt__', '__hash__', '__init__', '__init_subclass__', '__iter__', '__le__', '__len__', '__lt__', '__ne__', '__new__', '__or__', '__rand__', '__reduce__', '__reduce_ex__', '__repr__', '__ror__', '__rsub__', '__rxor__', '__setattr__', '__sizeof__', '__str__', '__sub__', '__subclasshook__', '__xor__', 'copy', 'difference', 'intersection', 'isdisjoint', 'issubset', 'issuperset', 'symmetric_difference', 'union']\n"
     ]
    }
   ],
   "source": [
    "Indian={\"virat\",\"rohit\",\"bumrah\",\"shami\",\"gill\",\"pandya\"}\n",
    "Indian=frozenset(Indian) # frozenset converts your set into immutable collection\n",
    "print(dir(Indian))"
   ]
  },
  {
   "cell_type": "code",
   "execution_count": 89,
   "id": "c9f389ac-5fef-4b69-af90-32446a26a93a",
   "metadata": {},
   "outputs": [
    {
     "name": "stdout",
     "output_type": "stream",
     "text": [
      "['__and__', '__class__', '__class_getitem__', '__contains__', '__delattr__', '__dir__', '__doc__', '__eq__', '__format__', '__ge__', '__getattribute__', '__getstate__', '__gt__', '__hash__', '__iand__', '__init__', '__init_subclass__', '__ior__', '__isub__', '__iter__', '__ixor__', '__le__', '__len__', '__lt__', '__ne__', '__new__', '__or__', '__rand__', '__reduce__', '__reduce_ex__', '__repr__', '__ror__', '__rsub__', '__rxor__', '__setattr__', '__sizeof__', '__str__', '__sub__', '__subclasshook__', '__xor__', 'add', 'clear', 'copy', 'difference', 'difference_update', 'discard', 'intersection', 'intersection_update', 'isdisjoint', 'issubset', 'issuperset', 'pop', 'remove', 'symmetric_difference', 'symmetric_difference_update', 'union', 'update']\n"
     ]
    }
   ],
   "source": [
    "print(dir(set))"
   ]
  },
  {
   "cell_type": "code",
   "execution_count": null,
   "id": "79bdedfc-243e-4a8f-b1ca-878cc7d5b598",
   "metadata": {},
   "outputs": [],
   "source": [
    "#"
   ]
  }
 ],
 "metadata": {
  "kernelspec": {
   "display_name": "Python 3 (ipykernel)",
   "language": "python",
   "name": "python3"
  },
  "language_info": {
   "codemirror_mode": {
    "name": "ipython",
    "version": 3
   },
   "file_extension": ".py",
   "mimetype": "text/x-python",
   "name": "python",
   "nbconvert_exporter": "python",
   "pygments_lexer": "ipython3",
   "version": "3.12.7"
  }
 },
 "nbformat": 4,
 "nbformat_minor": 5
}
