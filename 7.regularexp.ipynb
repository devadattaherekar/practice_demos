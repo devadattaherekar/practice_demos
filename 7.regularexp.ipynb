{
 "cells": [
  {
   "cell_type": "code",
   "execution_count": 65,
   "id": "07909af4-ad90-4893-921c-e68c1094484f",
   "metadata": {},
   "outputs": [
    {
     "name": "stdout",
     "output_type": "stream",
     "text": [
      "['A', 'ASCII', 'DEBUG', 'DOTALL', 'I', 'IGNORECASE', 'L', 'LOCALE', 'M', 'MULTILINE', 'Match', 'NOFLAG', 'Pattern', 'RegexFlag', 'S', 'Scanner', 'T', 'TEMPLATE', 'U', 'UNICODE', 'VERBOSE', 'X', '_MAXCACHE', '_MAXCACHE2', '__all__', '__builtins__', '__cached__', '__doc__', '__file__', '__loader__', '__name__', '__package__', '__path__', '__spec__', '__version__', '_cache', '_cache2', '_casefix', '_compile', '_compile_template', '_compiler', '_constants', '_parser', '_pickle', '_special_chars_map', '_sre', 'compile', 'copyreg', 'enum', 'error', 'escape', 'findall', 'finditer', 'fullmatch', 'functools', 'match', 'purge', 'search', 'split', 'sub', 'subn', 'template']\n"
     ]
    }
   ],
   "source": [
    "import re\n",
    "\n",
    "print(dir(re))"
   ]
  },
  {
   "cell_type": "code",
   "execution_count": null,
   "id": "7581d0bb-3cbd-4b66-ac1f-3993fccef4f8",
   "metadata": {},
   "outputs": [],
   "source": [
    "import re\n",
    "\n",
    "test_string=\"\"\"\n",
    "may the source be with you\n",
    "python has 2 major versions python2 \n",
    "and python3\n",
    "\"\"\"\n",
    "pattern=\"python\"\n",
    "print(re.findall(pattern,test_string))\n",
    "pattern=\"a\"\n",
    "print(f\"letter a occures {len(re.findall(pattern,test_string))} times\")\n",
    "pattern=\"python[23]\"\n",
    "print(re.findall(pattern,test_string))\n",
    "pattern=\"python[^23]\"\n",
    "print(re.findall(pattern,test_string))\n",
    "pattern=\"3$\"\n",
    "print(re.findall(pattern,test_string))"
   ]
  },
  {
   "cell_type": "code",
   "execution_count": null,
   "id": "bf90cce5-e412-4cfc-86f1-880454bc8012",
   "metadata": {},
   "outputs": [],
   "source": [
    "test_string=\"\"\"\n",
    "ac\n",
    "abc\n",
    "abbbbc\n",
    "blahabc\n",
    "abcblah\n",
    "\"\"\"\n",
    "pattern=\"ab*c\" # 0 or more of preceding character\n",
    "print(re.findall(pattern,test_string))\n",
    "pattern=\"ab+c\" # 1 or more of preceding character\n",
    "print(re.findall(pattern,test_string))\n",
    "pattern=\"ab?c\" # 0 or 1 of preceding character\n",
    "print(re.findall(pattern,test_string))"
   ]
  },
  {
   "cell_type": "code",
   "execution_count": null,
   "id": "5e11ae7b-e09a-4dad-ae72-0b8d62a2ca37",
   "metadata": {},
   "outputs": [],
   "source": [
    "emails=\"\"\"\n",
    "devadattaherekar@gmail.com\n",
    "devadatta.herekar@hotmail.com\n",
    "devadatta.herekar@vinsys.com\n",
    "gautamherekar10@gmail.com\n",
    "gautamherekar@yahoo.co.in\n",
    "gautamherekar_12@yahoo.co.in\n",
    "\"\"\"\n",
    "pattern=\"[a-zA-Z.0-9_]+@[a-z]+(.com|.co.in)\"\n",
    "for each_match in re.finditer(pattern,emails):\n",
    "    print(each_match.group(0))"
   ]
  },
  {
   "cell_type": "code",
   "execution_count": null,
   "id": "2356acfc-83c0-4e99-a741-912a2de06c65",
   "metadata": {},
   "outputs": [],
   "source": [
    "pancards=\"\"\"\n",
    "ABCDE1234E\n",
    "abcde1234E\n",
    "ABCD21234E\n",
    "abcdef234E\n",
    "ABCDe12345\n",
    "ABCDE1234EZ\n",
    "ABCDE 1234E\n",
    "\"\"\"\n",
    "pattern=\"[A-Za-z]{5}[0-9]{4}[a-zA-Z]{1}\"\n",
    "\n",
    "for each_match in re.finditer(pattern,pancards):\n",
    "    print(each_match.group(0))"
   ]
  },
  {
   "cell_type": "code",
   "execution_count": null,
   "id": "cf690cd6-6250-4634-a5e5-131a9b7abfb9",
   "metadata": {},
   "outputs": [],
   "source": [
    "urls=\"\"\"\n",
    "https://www.youtube.com\n",
    "https://www.google.com\n",
    "http://devadatta.com\n",
    "https://mail.gov.in\n",
    "https://mail.edu.uk\n",
    "http://hrishikesh.com\n",
    "\"\"\"\n",
    "\n",
    "# pattern=\"https?://(www).[a-z]+.(com)\"\n",
    "# for each_match in re.finditer(pattern,urls):\n",
    "#     print(each_match.group(0))\n",
    "\n",
    "# pattern=\"http://[a-z]+.(com)\"\n",
    "# for each_match in re.finditer(pattern,urls):\n",
    "#     print(each_match.group(0))\n",
    "\n",
    "pattern=\"https://mail.(gov|edu).(in|uk)\"\n",
    "for each_match in re.finditer(pattern,urls):\n",
    "    print(each_match.group(0))"
   ]
  },
  {
   "cell_type": "code",
   "execution_count": 39,
   "id": "8a55155f-3f5f-4302-9d3d-7d5f2e548ddd",
   "metadata": {},
   "outputs": [
    {
     "name": "stdout",
     "output_type": "stream",
     "text": [
      "\n",
      "1-212-456-7890\n"
     ]
    },
    {
     "name": "stderr",
     "output_type": "stream",
     "text": [
      "<>:22: SyntaxWarning: invalid escape sequence '\\d'\n",
      "<>:22: SyntaxWarning: invalid escape sequence '\\d'\n",
      "C:\\Users\\Shree\\AppData\\Local\\Temp\\ipykernel_11260\\1986723554.py:22: SyntaxWarning: invalid escape sequence '\\d'\n",
      "  pattern=\"[^0-9]\\d{1}-\\d{3}-\\d{3}-\\d{4}\"\n"
     ]
    }
   ],
   "source": [
    "import re \n",
    "\n",
    "phones=\"\"\"\n",
    "1-212-456-7890\n",
    "001-212-456-7890\n",
    "191-212-456-7890\n",
    "+91-9850166398\n",
    "9850166398\n",
    "8806330448\n",
    "+918806330448\n",
    "+91-8806330448\n",
    "+91 8806330448\n",
    "\"\"\"\n",
    "# pattern=\"\\+91[-\\s]?[88][0-9]{9}\"\n",
    "# for each_match in re.finditer(pattern,phones):\n",
    "#     print(each_match.group(0))\n",
    "\n",
    "# pattern=\"[0-9]{3}-[0-9]{3}-[0-9]{3}-[0-9]{4}\"\n",
    "# for each_match in re.finditer(pattern,phones):\n",
    "#     print(each_match.group(0))\n",
    "\n",
    "pattern=\"[^0-9]\\d{1}-\\d{3}-\\d{3}-\\d{4}\"\n",
    "for each_match in re.findall(pattern,phones):\n",
    "    print(each_match)"
   ]
  },
  {
   "cell_type": "code",
   "execution_count": 63,
   "id": "261eb0e8-ea76-4046-bc2b-1bdc40b24665",
   "metadata": {},
   "outputs": [
    {
     "name": "stdout",
     "output_type": "stream",
     "text": [
      "('sail sail row your boat\\ngently down the stream\\nmerrily merrily merrily merrily\\nlife is but a dream\\n', 2)\n",
      "sail sail sail your boat\n",
      "gently down the stream\n",
      "merrily merrily merrily merrily\n",
      "life is but a dream\n",
      "\n"
     ]
    }
   ],
   "source": [
    "import re\n",
    "\n",
    "rhyme=\"\"\"row row row your boat\n",
    "gently down the stream\n",
    "merrily merrily merrily merrily\n",
    "life is but a dream\n",
    "\"\"\"\n",
    "\n",
    "pattern=\"row\"\n",
    "print(re.subn(pattern,\"sail\",rhyme,count=2))\n",
    "print(rhyme.replace(\"row\",\"sail\"))"
   ]
  },
  {
   "cell_type": "code",
   "execution_count": 151,
   "id": "d0b4abb8-bf51-4835-adfe-f21e42ba94bb",
   "metadata": {},
   "outputs": [
    {
     "name": "stdout",
     "output_type": "stream",
     "text": [
      "python is easy,\n",
      "python is neat and clean.\n",
      "python is beautiful;\n",
      "ansible uses python modules \n",
      "\n",
      " \n",
      "python is easy\n",
      "\n",
      "python is neat and clean\n",
      "\n",
      "python is beautiful\n",
      "\n",
      "ansible uses python modules\n",
      "\n",
      " \n"
     ]
    },
    {
     "name": "stderr",
     "output_type": "stream",
     "text": [
      "<>:8: SyntaxWarning: invalid escape sequence '\\.'\n",
      "<>:8: SyntaxWarning: invalid escape sequence '\\.'\n",
      "C:\\Users\\Shree\\AppData\\Local\\Temp\\ipykernel_11260\\3610218840.py:8: SyntaxWarning: invalid escape sequence '\\.'\n",
      "  pattern=\",|\\.|;|\\n\"\n"
     ]
    }
   ],
   "source": [
    "import re\n",
    "\n",
    "sentence=\"\"\"python is easy,\n",
    "python is neat and clean.\n",
    "python is beautiful;\n",
    "ansible uses python modules \n",
    "\"\"\"\n",
    "pattern=\",|\\.|;|\\n\"\n",
    "#print(re.split(pattern,sentence))\n",
    "#print(sentence.split(\",\"))\n",
    "clean_strings=re.split(\"\\n\",sentence)\n",
    "if any(clean_strings):\n",
    "     for each_string in clean_strings:\n",
    "         print(each_string)\n",
    "print(\" \")\n",
    "#print(re.split(pattern,sentence))\n",
    "for each_line in re.split(pattern,sentence):\n",
    "    print(each_line.strip())\n",
    "print(\" \")"
   ]
  },
  {
   "cell_type": "code",
   "execution_count": null,
   "id": "76ce08aa-d9ed-46a6-b9e1-078e7d43f9cf",
   "metadata": {},
   "outputs": [],
   "source": []
  }
 ],
 "metadata": {
  "kernelspec": {
   "display_name": "Python 3 (ipykernel)",
   "language": "python",
   "name": "python3"
  },
  "language_info": {
   "codemirror_mode": {
    "name": "ipython",
    "version": 3
   },
   "file_extension": ".py",
   "mimetype": "text/x-python",
   "name": "python",
   "nbconvert_exporter": "python",
   "pygments_lexer": "ipython3",
   "version": "3.12.7"
  }
 },
 "nbformat": 4,
 "nbformat_minor": 5
}
