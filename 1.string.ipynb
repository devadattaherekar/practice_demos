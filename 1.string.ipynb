{
 "cells": [
  {
   "cell_type": "code",
   "execution_count": null,
   "id": "9934ae5f-c387-400f-aa2f-57e39c23a1d3",
   "metadata": {},
   "outputs": [],
   "source": [
    "print(\"Python is simple and clean\")\n",
    "print(\"hello world\")"
   ]
  },
  {
   "cell_type": "code",
   "execution_count": null,
   "id": "fb2c831e-5cc9-4713-af03-f02106f97d13",
   "metadata": {},
   "outputs": [],
   "source": [
    "#Everything is runtime in python. There is no compile time\n",
    "#Everything is an object in python even keywords and functions!\n",
    "# Note: Runtime is achieved using pointers/references \n",
    "# Here value is reference (special variable which can hold only addresses)\n",
    "# Here 100 is an immutable object (constant object cannot be modified) of int class\n",
    "# Note: Any operation performed on immutable object creates a new object at a new memory location\n",
    "# type() will show type of object that reference points to\n",
    "# id() will show address of object\n",
    "# int/float/str/complex/bool/None are immutable objects!\n",
    "value=100\n",
    "print(value,type(value),id(value))\n",
    "value=200\n",
    "myvalue=value # one more reference can point to the same object\n",
    "# shallow copy is when both references are pointing the same object\n",
    "print(value,type(value),id(value))\n",
    "value+=1 # value=value+1\n",
    "print(value,type(value),id(value))\n",
    "print(myvalue,type(myvalue),id(myvalue))\n",
    "value=3.142 #In python there is only float class\n",
    "print(value,type(value),id(value))\n",
    "value=3.4+1\n",
    "print(value,type(value),id(value))\n",
    "value=\"vinsys\" # There is no char # str object is immutable \n",
    "print(value,type(value),id(value))\n",
    "value='H'; # There is no char # str object is immutable \n",
    "print(value,type(value),id(value))\n",
    "value=(3+2j) # immutable object \n",
    "print(value,type(value),id(value))\n",
    "value=None\n",
    "print(value,type(value),id(value))\n",
    "value=False\n",
    "print(value,type(value),id(value))\n",
    "print(type(type),type(id))"
   ]
  },
  {
   "cell_type": "code",
   "execution_count": null,
   "id": "c93f3bef-9f1f-4218-b99d-e0ddc1482f45",
   "metadata": {},
   "outputs": [],
   "source": [
    "# formatting in python is done in 3 different ways\n",
    "emp_id=1000\n",
    "emp_name=\"hrishikesh\"\n",
    "emp_sal=100000.12345\n",
    "\n",
    "# cstyle formatting which 2x\n",
    "# Here %d %s %f format specifiers and \\n\\t\\r\\b escape sequences\n",
    "print(\"Employee Id %20d %20d\\nEmployee Name %24s\\nEmployee Salary %21.2f\\n\" %(emp_id,emp_id,emp_name,emp_sal))\n",
    "\n",
    "# str.format() \n",
    "print(\"Employee Id {}\\nEmployee Name {}\\nEmployee Salary {}\\n\".format(emp_id,emp_name,emp_sal))\n",
    "print(\"Employee Id {0} {0} {0}\\nEmployee Name {1}\\nEmployee Salary {2}\\n\".format(emp_id,emp_name,emp_sal))\n",
    "\n",
    "# f-strings after 3.5 version\n",
    "print(f\"Employee Id {emp_id}\\nEmployee Name {emp_name}\\nEmployee Salary {emp_sal}\\n\")"
   ]
  },
  {
   "cell_type": "code",
   "execution_count": null,
   "id": "23ae0fe7-6124-4fd9-bbd1-7a1859ebd992",
   "metadata": {},
   "outputs": [],
   "source": [
    "# Note: input() will create a str object always!\n",
    "age=input(\"Enter your age\")\n",
    "name=input(\"Enter your name\")\n",
    "print(f\"Your name is {name} and age is {age}\")\n",
    "print(f\"Your name is {type(name)} and age is {type(age)}\")"
   ]
  },
  {
   "cell_type": "code",
   "execution_count": null,
   "id": "e550013c-5e3e-45aa-8de1-c9c7f5f65b8f",
   "metadata": {},
   "outputs": [],
   "source": [
    "first_age=input(\"Enter first age\")\n",
    "second_age=input(\"Enter second age\")\n",
    "print(f\"Addition of {first_age} and {second_age} is {first_age+second_age}\")"
   ]
  },
  {
   "cell_type": "code",
   "execution_count": null,
   "id": "83adeea6-0b55-48e3-bb80-fef2f5615e05",
   "metadata": {},
   "outputs": [],
   "source": [
    "# conversions\n",
    "first_age=int(input(\"Enter first age\"))\n",
    "second_age=input(\"Enter second age\")\n",
    "second_age=int(second_age)\n",
    "print(f\"Addition of {first_age} and {second_age} is {first_age+second_age}\")"
   ]
  },
  {
   "cell_type": "code",
   "execution_count": null,
   "id": "bcfe9c73-92c5-4f82-a07e-d3dc934d0a31",
   "metadata": {},
   "outputs": [],
   "source": [
    "value=10\n",
    "print(value,type(value))\n",
    "value=\"10\"\n",
    "print(value,type(value))\n",
    "value=int(value) # str can be converted to int\n",
    "print(value,type(value))\n",
    "value=3.12\n",
    "print(value,type(value))\n",
    "value=int(value) #float can be converted to int\n",
    "print(value,type(value))\n",
    "value=\"3.12\"\n",
    "print(value,type(value))\n",
    "value=float(value) # str can be converted to float\n",
    "print(value,type(value))\n",
    "value=\"192.168.10.2\"\n",
    "# value=float(value) # every str cannot be converted to float\n",
    "#print(value,type(value)) # ValueError: could not convert string to float: '192.168.10.2'\n",
    "value=10\n",
    "print(value,type(value))\n",
    "value=str(value) # every int can be converted to str\n",
    "print(value,type(value))\n",
    "#value=\"hrishikesh\" # every str cannot be converted to int\n",
    "#value=int(value) "
   ]
  },
  {
   "cell_type": "code",
   "execution_count": null,
   "id": "5c847ef9-6d33-48da-8e62-b704a5c809f8",
   "metadata": {},
   "outputs": [],
   "source": [
    "value=65\n",
    "print(chr(value)) # chr is conversion for int to char\n",
    "value=90\n",
    "print(chr(value))\n",
    "value=97\n",
    "print(chr(value))\n",
    "value=122\n",
    "print(chr(value))\n",
    "value=15\n",
    "print(oct(value)) # int to oct\n",
    "print(hex(value)) # int to hex"
   ]
  },
  {
   "cell_type": "code",
   "execution_count": null,
   "id": "6c9227b0-c438-4043-9306-ce7fdccc3fb7",
   "metadata": {},
   "outputs": [],
   "source": [
    "# conversion functions to convert one type of object into another\n",
    "# int() float() str() complex() None() bool() list() tuple() set() dict() oct() hex() chr() eval()\n",
    "first_age=float(input(\"Enter first age\"))\n",
    "second_age=float(input(\"Enter second age\"))\n",
    "print(f\"Addition of {first_age} and {second_age} is {first_age+second_age}\")"
   ]
  },
  {
   "cell_type": "code",
   "execution_count": null,
   "id": "caa31a3b-ba99-4a6f-b921-82ccb7e3e160",
   "metadata": {},
   "outputs": [],
   "source": [
    "myage=int(\"22\")\n",
    "print(myage)"
   ]
  },
  {
   "cell_type": "code",
   "execution_count": null,
   "id": "f685e8c0-e44d-4ad5-a18a-15c6e39ad532",
   "metadata": {},
   "outputs": [],
   "source": [
    "value_1=complex(input(\"Enter first age\"))\n",
    "value_2=complex(input(\"Enter second age\"))\n",
    "print(f\"Addition of {value_1} and {value_2} is {value_1+value_2}\")"
   ]
  },
  {
   "cell_type": "code",
   "execution_count": null,
   "id": "ff3b1456-8e7d-4b34-a9a1-1e1b1b98cb7c",
   "metadata": {},
   "outputs": [],
   "source": [
    "value_1=eval(input(\"Enter first age\"))\n",
    "value_2=eval(input(\"Enter second age\"))\n",
    "print(f\"Addition of {value_1} and {value_2} is {value_1+value_2}\")"
   ]
  },
  {
   "cell_type": "code",
   "execution_count": null,
   "id": "d00d28e5-dfdc-478b-94a4-3ab59f521a25",
   "metadata": {},
   "outputs": [],
   "source": [
    "value_1=eval(input(\"Enter first age\"))\n",
    "value_2=eval(input(\"Enter second age\"))\n",
    "print(f\"Addition of {value_1} and {value_2} is {str(value_1)+str(value_2)}\")"
   ]
  },
  {
   "cell_type": "code",
   "execution_count": null,
   "id": "55b71c71-b4c5-43c3-9d16-92c5ebd888cc",
   "metadata": {},
   "outputs": [],
   "source": [
    "print(\"sachin\"+5)\n",
    "print(\"sachin\"*5)\n",
    "print(\"sachin\".__mul__(5)) # dunder method / magic method / implicit method"
   ]
  },
  {
   "cell_type": "code",
   "execution_count": null,
   "id": "154615fe-437d-425d-956c-d1bf070011bd",
   "metadata": {},
   "outputs": [],
   "source": [
    "# operator in python\n",
    "print(1/2) # Here int/int is float\n",
    "print(10/3)  # truediv() # result is float\n",
    "print(10//3) # floordiv() # quotient\n",
    "print(10%3) # mod() gives remainder\n",
    "print(2**16) # ** gives power"
   ]
  },
  {
   "cell_type": "code",
   "execution_count": null,
   "id": "40996a8f-e15d-484d-a840-0fdfa44d25c2",
   "metadata": {},
   "outputs": [],
   "source": [
    "# WAP to print employee salary slip\n",
    "# basic_salary is input() from user \n",
    "# use proper conversions int() float() eval() \n",
    "# gross_salary = basic_salary+HRA+DA+PF+PT\n",
    "# net_sal=gross_sal-PF-PT\n",
    "# HRA=40%BS and DA=20%BS PF=5000 PT=1000\n",
    "# c-style / str.format() / f-strings \n",
    "# use PEP 8 / PEP 257"
   ]
  },
  {
   "cell_type": "code",
   "execution_count": null,
   "id": "5da29d0b-f3a6-43fc-84b4-43d1947d6b9e",
   "metadata": {},
   "outputs": [],
   "source": [
    "# str containers are immutable\n",
    "print(\"you cannot print\\n\\\"double quotes\\\"\\nwithin double quotes\")\n",
    "print('you cannot print\\n\\'single quotes\\'\\nwithin single quotes')\n",
    "print('you cannot print\\n\"double quotes\"\\nwithin single quotes')\n",
    "print(\"you cannot print\\n\\'single quotes\\'\\nwithin double quotes\")\n",
    "print(\"\"\"can print\n",
    "any number of \"double quotes\"\n",
    "and 'single quotes'\n",
    "no need to use any escape sequences\n",
    "\"\"\")\n",
    "print('''can print\n",
    "any number of \"double quotes\"\n",
    "and 'single quotes'\n",
    "no need to use any escape sequences\n",
    "''')"
   ]
  },
  {
   "cell_type": "code",
   "execution_count": null,
   "id": "eb2c646c-3335-4b3b-9a56-0227fe187ca1",
   "metadata": {},
   "outputs": [],
   "source": [
    "# index slicing operator [start:next_to_last:step_count]\n",
    "# index slicing operator is used to create a subset of database\n",
    "guideline1=\"How to write beautiful code in python using PEP 8\"\n",
    "print(guideline1) #How to write beautiful code in python using PEP 8\n",
    "print(guideline1[:]) #How to write beautiful code in python using PEP 8\n",
    "print(guideline1[::]) #How to write beautiful code in python using PEP 8\n",
    "print(guideline1[0]) # H\n",
    "print(guideline1[0:3]) # Here 3 is not included! # How\n",
    "print(guideline1[:3])\n",
    "print(guideline1[:3:1])\n",
    "print(guideline1[-1]) # 8\n",
    "print(guideline1[-5]) # P\n",
    "print(guideline1[-5:])# PEP 8\n",
    "print(guideline1[-18:]) #python using PEP 8\n",
    "print(guideline1[-18:-11]) #python \n",
    "print(guideline1[-18:-22]) # no output\n",
    "print(guideline1[::2])  # Hwt rt euiu oei yhnuigPP8\n",
    "print(guideline1[::1]) \n",
    "print(guideline1[::-1]) # 8 PEP gnisu nohtyp ni edoc lufituaeb etirw ot woH\n",
    "print(guideline1[-18:-27:-1])"
   ]
  },
  {
   "cell_type": "code",
   "execution_count": null,
   "id": "3c706e76-05b3-4ff8-84a9-3e420b13e866",
   "metadata": {},
   "outputs": [],
   "source": [
    "network_id=\"192.168\"\n",
    "host_id=\"10.1\"\n",
    "ip_addr=network_id+\".\"+host_id # traditional way of concatinating str\n",
    "print(ip_addr)\n",
    "ip_addr=f\"{network_id}.{host_id}\" # use f-strings pythonic way to concatenate str\n",
    "print(ip_addr)"
   ]
  },
  {
   "cell_type": "code",
   "execution_count": null,
   "id": "5c32247c-8aa5-49b1-afce-b988b99b0662",
   "metadata": {},
   "outputs": [],
   "source": [
    "# Note: use dir() function to list all methods of the class\n",
    "print(dir(str))\n",
    "# len() gives total number of methods of the class\n",
    "print(f\"str class has {len(dir(str))} methods\")  \n",
    "# Note: __method__() are implicit / dunder / magic and other are explicit methods!"
   ]
  },
  {
   "cell_type": "code",
   "execution_count": null,
   "id": "874fbb65-f0ce-4d84-92f6-18906b8871f2",
   "metadata": {},
   "outputs": [],
   "source": [
    "print(help(str.isalnum))"
   ]
  },
  {
   "cell_type": "code",
   "execution_count": 1,
   "id": "5d8937c9-109e-42ff-9a9d-e4b5df0607ca",
   "metadata": {},
   "outputs": [
    {
     "name": "stdout",
     "output_type": "stream",
     "text": [
      "True\n",
      "True\n",
      "True\n",
      "False\n",
      "False\n",
      "True\n",
      "False\n",
      "False\n",
      "True\n",
      "True\n",
      "True\n"
     ]
    }
   ],
   "source": [
    "company=\"vinsys\"\n",
    "print(company.isalnum())\n",
    "print(company.isalpha())\n",
    "print(company.isascii())\n",
    "print(company.isdigit())\n",
    "print(company.isdecimal())\n",
    "print(company.islower())\n",
    "print(company.isupper())\n",
    "print(company.isnumeric())\n",
    "print(company.isprintable())\n",
    "print(company.startswith(\"v\"))\n",
    "print(company.endswith(\"s\"))"
   ]
  },
  {
   "cell_type": "code",
   "execution_count": null,
   "id": "c0e73927-f26a-4674-aa60-5232d3433db8",
   "metadata": {},
   "outputs": [],
   "source": [
    "print(help(str.upper))"
   ]
  },
  {
   "cell_type": "code",
   "execution_count": null,
   "id": "88b54f44-c967-4f0c-b9de-0d29d4d92b3e",
   "metadata": {},
   "outputs": [],
   "source": [
    "company=\"vinsys it services\"\n",
    "print(company.upper())\n",
    "print(company.capitalize())\n",
    "print(company.title())\n",
    "print(company.lower())\n",
    "print(company.swapcase())\n",
    "print(company.casefold())\n",
    "print(company.center(100))\n",
    "print(company.rjust(100))\n",
    "print(company.ljust(100))"
   ]
  },
  {
   "cell_type": "code",
   "execution_count": null,
   "id": "01740eca-9fc1-4e93-9a33-6a5e361647f5",
   "metadata": {},
   "outputs": [],
   "source": [
    "company=\"                vinsys is company vinsys              \"\n",
    "print(company.strip())\n",
    "company=company.strip()\n",
    "print(company.strip(\"vinsys\"))\n",
    "print(company)\n",
    "print(company.lstrip(\"vinsys\"))\n",
    "print(company.rstrip(\"vinsys\"))"
   ]
  },
  {
   "cell_type": "code",
   "execution_count": null,
   "id": "c3c6ca18-d2eb-40d0-80fc-155ede1cd76c",
   "metadata": {},
   "outputs": [],
   "source": [
    "myvalue=\"ipython3.9\"\n",
    "print(\"version is\",float(myvalue.strip(\"ipython\")))\n",
    "print(\"language is\",myvalue.strip(\"i\").strip(\"3.9\"))"
   ]
  },
  {
   "cell_type": "code",
   "execution_count": null,
   "id": "504bb97a-c0bb-4f67-8cac-ee47d4099b99",
   "metadata": {},
   "outputs": [],
   "source": [
    "price=\"Rs 10,950.85 /-\"\n",
    "price=price.strip(\"Rs\").strip(\"/-\")\n",
    "print(price,type(price))\n",
    "price=price.replace(\",\",\"\")\n",
    "print(float(price))"
   ]
  },
  {
   "cell_type": "code",
   "execution_count": null,
   "id": "6952b480-1d6d-458c-be3e-724290ebf609",
   "metadata": {},
   "outputs": [],
   "source": [
    "email=\"hrishikesh@gmail.com\"\n",
    "# split() returns list of elements\n",
    "parse_email=email.split(\"@\")\n",
    "print(f\"user name is {parse_email[0]}\")\n",
    "print(f\"Domain is {parse_email[1]}\")"
   ]
  },
  {
   "cell_type": "code",
   "execution_count": null,
   "id": "c4794054-8b70-4838-8539-85f73a07a150",
   "metadata": {},
   "outputs": [],
   "source": [
    "date=\"10-May-2025\"\n",
    "parse_date=date.split(\"-\")\n",
    "print(f\"Day is {parse_date[0]}\\nMonth is {parse_date[1]}\\nYear is {parse_date[2]}\")"
   ]
  },
  {
   "cell_type": "code",
   "execution_count": 1,
   "id": "726058a0-f98a-441c-8d49-3ccccde8ecc6",
   "metadata": {},
   "outputs": [
    {
     "name": "stdout",
     "output_type": "stream",
     "text": [
      "<class 'list'>\n",
      "vinsys\n",
      "v,i,n,s,y,s\n",
      "v\ti\tn\ts\ty\ts\n",
      "v->i->n->s->y->s\n"
     ]
    }
   ],
   "source": [
    "company=[\"v\",\"i\",\"n\",\"s\",\"y\",\"s\"]\n",
    "print(type(company))\n",
    "print(\"\".join(company)) # Here elements of list will be joined\n",
    "print(\",\".join(company)) # Here elements of list will be joined\n",
    "print(\"\\t\".join(company))\n",
    "print(\"->\".join(company))"
   ]
  },
  {
   "cell_type": "code",
   "execution_count": 13,
   "id": "4a7f8fe0-8f9c-4887-88c8-42e3d46ce0cd",
   "metadata": {},
   "outputs": [
    {
     "name": "stdout",
     "output_type": "stream",
     "text": [
      "0\n",
      "24\n",
      "-1\n",
      "0\n",
      "24\n",
      "2\n",
      "39\n"
     ]
    }
   ],
   "source": [
    "fact=\"python is very easy and python is clean\"\n",
    "print(fact.find(\"python\"))\n",
    "print(fact.find(\"python\",1))\n",
    "print(fact.find(\"vinsys\"))\n",
    "print(fact.index(\"python\"))\n",
    "print(fact.index(\"python\",1))\n",
    "# try:\n",
    "#     print(fact.index(\"vinsys\"))\n",
    "# except:\n",
    "#     print(\"substring not present\")\n",
    "print(fact.count(\"python\"))\n",
    "print(len(fact))"
   ]
  },
  {
   "cell_type": "code",
   "execution_count": null,
   "id": "d8e6a20c-591e-4e54-8dd4-91b839922ea4",
   "metadata": {},
   "outputs": [],
   "source": [
    "\"\"\"\n",
    "Program to print salary slip of Employees\n",
    "\"\"\"\n",
    "basic_sal=float(input(\"Enter basic salary\"))\n",
    "house_rent_allowance=0.2*basic_sal\n",
    "dear_allowance=-.4*basic_sal\n",
    "PF=5000\n",
    "PT=2000\n",
    "gross_salary=basic_sal+house_rent_allowance+dear_allowance+PF+PT\n",
    "net_sal=gross_salary-PT-PF\n",
    "print(\"Gross_salary %f\\nNet Salary %f\"%(gross_salary,net_sal)) # cstyle\n",
    "print(\"Gross_salary {0}\\nNet Salary {1}\".format(gross_salary,net_sal)) # str.format()\n",
    "print(f\"Gross_salary {gross_salary}\\nNet Salary {net_sal}\") # f-strings"
   ]
  },
  {
   "cell_type": "code",
   "execution_count": 11,
   "id": "f9d309f5-266c-4bee-9380-bec4efdae7e6",
   "metadata": {},
   "outputs": [
    {
     "ename": "TypeError",
     "evalue": "'str' object does not support item assignment",
     "output_type": "error",
     "traceback": [
      "\u001b[1;31m---------------------------------------------------------------------------\u001b[0m",
      "\u001b[1;31mTypeError\u001b[0m                                 Traceback (most recent call last)",
      "Cell \u001b[1;32mIn[11], line 3\u001b[0m\n\u001b[0;32m      1\u001b[0m company\u001b[38;5;241m=\u001b[39m\u001b[38;5;124m\"\u001b[39m\u001b[38;5;124mvinsys\u001b[39m\u001b[38;5;124m\"\u001b[39m\n\u001b[0;32m      2\u001b[0m \u001b[38;5;66;03m#del company[0] #  'str' object doesn't support item deletion\u001b[39;00m\n\u001b[1;32m----> 3\u001b[0m company[\u001b[38;5;241m0\u001b[39m]\u001b[38;5;241m=\u001b[39m\u001b[38;5;124m\"\u001b[39m\u001b[38;5;124mV\u001b[39m\u001b[38;5;124m\"\u001b[39m\n",
      "\u001b[1;31mTypeError\u001b[0m: 'str' object does not support item assignment"
     ]
    }
   ],
   "source": [
    "company=\"vinsys\"\n",
    "# del company[0] #  'str' object doesn't support item deletion\n",
    "# company[0]=\"V\" # 'str' object does not support item assignment"
   ]
  },
  {
   "cell_type": "code",
   "execution_count": null,
   "id": "1b26d74a-c0b6-4f01-9785-cc6eaf6c696b",
   "metadata": {},
   "outputs": [],
   "source": []
  }
 ],
 "metadata": {
  "kernelspec": {
   "display_name": "Python 3 (ipykernel)",
   "language": "python",
   "name": "python3"
  },
  "language_info": {
   "codemirror_mode": {
    "name": "ipython",
    "version": 3
   },
   "file_extension": ".py",
   "mimetype": "text/x-python",
   "name": "python",
   "nbconvert_exporter": "python",
   "pygments_lexer": "ipython3",
   "version": "3.12.7"
  }
 },
 "nbformat": 4,
 "nbformat_minor": 5
}
